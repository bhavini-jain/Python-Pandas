{
 "cells": [
  {
   "cell_type": "code",
   "execution_count": 1,
   "metadata": {},
   "outputs": [],
   "source": [
    "import pandas as pd"
   ]
  },
  {
   "cell_type": "code",
   "execution_count": 2,
   "metadata": {},
   "outputs": [],
   "source": [
    "df=pd.read_csv('student.csv')"
   ]
  },
  {
   "cell_type": "code",
   "execution_count": 3,
   "metadata": {},
   "outputs": [
    {
     "data": {
      "text/html": [
       "<div>\n",
       "<style scoped>\n",
       "    .dataframe tbody tr th:only-of-type {\n",
       "        vertical-align: middle;\n",
       "    }\n",
       "\n",
       "    .dataframe tbody tr th {\n",
       "        vertical-align: top;\n",
       "    }\n",
       "\n",
       "    .dataframe thead th {\n",
       "        text-align: right;\n",
       "    }\n",
       "</style>\n",
       "<table border=\"1\" class=\"dataframe\">\n",
       "  <thead>\n",
       "    <tr style=\"text-align: right;\">\n",
       "      <th></th>\n",
       "      <th>name</th>\n",
       "      <th>sub1</th>\n",
       "      <th>sub2</th>\n",
       "      <th>sub3</th>\n",
       "    </tr>\n",
       "  </thead>\n",
       "  <tbody>\n",
       "    <tr>\n",
       "      <th>0</th>\n",
       "      <td>ajay</td>\n",
       "      <td>98</td>\n",
       "      <td>78</td>\n",
       "      <td>60</td>\n",
       "    </tr>\n",
       "    <tr>\n",
       "      <th>1</th>\n",
       "      <td>aman</td>\n",
       "      <td>79</td>\n",
       "      <td>95</td>\n",
       "      <td>74</td>\n",
       "    </tr>\n",
       "    <tr>\n",
       "      <th>2</th>\n",
       "      <td>vaibhav</td>\n",
       "      <td>69</td>\n",
       "      <td>87</td>\n",
       "      <td>98</td>\n",
       "    </tr>\n",
       "    <tr>\n",
       "      <th>3</th>\n",
       "      <td>harry</td>\n",
       "      <td>70</td>\n",
       "      <td>76</td>\n",
       "      <td>70</td>\n",
       "    </tr>\n",
       "    <tr>\n",
       "      <th>4</th>\n",
       "      <td>rahul</td>\n",
       "      <td>89</td>\n",
       "      <td>78</td>\n",
       "      <td>76</td>\n",
       "    </tr>\n",
       "  </tbody>\n",
       "</table>\n",
       "</div>"
      ],
      "text/plain": [
       "      name  sub1  sub2  sub3\n",
       "0     ajay    98    78    60\n",
       "1     aman    79    95    74\n",
       "2  vaibhav    69    87    98\n",
       "3    harry    70    76    70\n",
       "4    rahul    89    78    76"
      ]
     },
     "execution_count": 3,
     "metadata": {},
     "output_type": "execute_result"
    }
   ],
   "source": [
    "df"
   ]
  },
  {
   "cell_type": "code",
   "execution_count": 4,
   "metadata": {},
   "outputs": [],
   "source": [
    "df.to_csv('python.csv')"
   ]
  },
  {
   "cell_type": "code",
   "execution_count": 5,
   "metadata": {},
   "outputs": [],
   "source": [
    "df.to_csv('python_marks.csv',index=False)"
   ]
  },
  {
   "cell_type": "code",
   "execution_count": 6,
   "metadata": {},
   "outputs": [
    {
     "data": {
      "text/html": [
       "<div>\n",
       "<style scoped>\n",
       "    .dataframe tbody tr th:only-of-type {\n",
       "        vertical-align: middle;\n",
       "    }\n",
       "\n",
       "    .dataframe tbody tr th {\n",
       "        vertical-align: top;\n",
       "    }\n",
       "\n",
       "    .dataframe thead th {\n",
       "        text-align: right;\n",
       "    }\n",
       "</style>\n",
       "<table border=\"1\" class=\"dataframe\">\n",
       "  <thead>\n",
       "    <tr style=\"text-align: right;\">\n",
       "      <th></th>\n",
       "      <th>sub1</th>\n",
       "      <th>sub2</th>\n",
       "      <th>sub3</th>\n",
       "    </tr>\n",
       "  </thead>\n",
       "  <tbody>\n",
       "    <tr>\n",
       "      <th>count</th>\n",
       "      <td>5.000000</td>\n",
       "      <td>5.000000</td>\n",
       "      <td>5.000000</td>\n",
       "    </tr>\n",
       "    <tr>\n",
       "      <th>mean</th>\n",
       "      <td>81.000000</td>\n",
       "      <td>82.800000</td>\n",
       "      <td>75.600000</td>\n",
       "    </tr>\n",
       "    <tr>\n",
       "      <th>std</th>\n",
       "      <td>12.469964</td>\n",
       "      <td>8.043631</td>\n",
       "      <td>13.957077</td>\n",
       "    </tr>\n",
       "    <tr>\n",
       "      <th>min</th>\n",
       "      <td>69.000000</td>\n",
       "      <td>76.000000</td>\n",
       "      <td>60.000000</td>\n",
       "    </tr>\n",
       "    <tr>\n",
       "      <th>25%</th>\n",
       "      <td>70.000000</td>\n",
       "      <td>78.000000</td>\n",
       "      <td>70.000000</td>\n",
       "    </tr>\n",
       "    <tr>\n",
       "      <th>50%</th>\n",
       "      <td>79.000000</td>\n",
       "      <td>78.000000</td>\n",
       "      <td>74.000000</td>\n",
       "    </tr>\n",
       "    <tr>\n",
       "      <th>75%</th>\n",
       "      <td>89.000000</td>\n",
       "      <td>87.000000</td>\n",
       "      <td>76.000000</td>\n",
       "    </tr>\n",
       "    <tr>\n",
       "      <th>max</th>\n",
       "      <td>98.000000</td>\n",
       "      <td>95.000000</td>\n",
       "      <td>98.000000</td>\n",
       "    </tr>\n",
       "  </tbody>\n",
       "</table>\n",
       "</div>"
      ],
      "text/plain": [
       "            sub1       sub2       sub3\n",
       "count   5.000000   5.000000   5.000000\n",
       "mean   81.000000  82.800000  75.600000\n",
       "std    12.469964   8.043631  13.957077\n",
       "min    69.000000  76.000000  60.000000\n",
       "25%    70.000000  78.000000  70.000000\n",
       "50%    79.000000  78.000000  74.000000\n",
       "75%    89.000000  87.000000  76.000000\n",
       "max    98.000000  95.000000  98.000000"
      ]
     },
     "execution_count": 6,
     "metadata": {},
     "output_type": "execute_result"
    }
   ],
   "source": [
    "df.describe()"
   ]
  },
  {
   "cell_type": "code",
   "execution_count": 7,
   "metadata": {},
   "outputs": [
    {
     "name": "stdout",
     "output_type": "stream",
     "text": [
      "<class 'pandas.core.frame.DataFrame'>\n",
      "RangeIndex: 5 entries, 0 to 4\n",
      "Data columns (total 4 columns):\n",
      " #   Column  Non-Null Count  Dtype \n",
      "---  ------  --------------  ----- \n",
      " 0   name    5 non-null      object\n",
      " 1   sub1    5 non-null      int64 \n",
      " 2   sub2    5 non-null      int64 \n",
      " 3   sub3    5 non-null      int64 \n",
      "dtypes: int64(3), object(1)\n",
      "memory usage: 204.0+ bytes\n"
     ]
    }
   ],
   "source": [
    "df.info()"
   ]
  },
  {
   "cell_type": "code",
   "execution_count": 8,
   "metadata": {},
   "outputs": [
    {
     "data": {
      "text/plain": [
       "0       ajay\n",
       "1       aman\n",
       "2    vaibhav\n",
       "3      harry\n",
       "4      rahul\n",
       "Name: name, dtype: object"
      ]
     },
     "execution_count": 8,
     "metadata": {},
     "output_type": "execute_result"
    }
   ],
   "source": [
    "df['name']"
   ]
  },
  {
   "cell_type": "code",
   "execution_count": 9,
   "metadata": {},
   "outputs": [
    {
     "data": {
      "text/plain": [
       "'aman'"
      ]
     },
     "execution_count": 9,
     "metadata": {},
     "output_type": "execute_result"
    }
   ],
   "source": [
    "df['name'][1]"
   ]
  },
  {
   "cell_type": "code",
   "execution_count": 10,
   "metadata": {},
   "outputs": [
    {
     "name": "stderr",
     "output_type": "stream",
     "text": [
      "<ipython-input-10-84a3252331fc>:1: SettingWithCopyWarning: \n",
      "A value is trying to be set on a copy of a slice from a DataFrame\n",
      "\n",
      "See the caveats in the documentation: https://pandas.pydata.org/pandas-docs/stable/user_guide/indexing.html#returning-a-view-versus-a-copy\n",
      "  df['sub2'][1]=80\n"
     ]
    }
   ],
   "source": [
    "df['sub2'][1]=80"
   ]
  },
  {
   "cell_type": "code",
   "execution_count": 11,
   "metadata": {},
   "outputs": [
    {
     "data": {
      "text/html": [
       "<div>\n",
       "<style scoped>\n",
       "    .dataframe tbody tr th:only-of-type {\n",
       "        vertical-align: middle;\n",
       "    }\n",
       "\n",
       "    .dataframe tbody tr th {\n",
       "        vertical-align: top;\n",
       "    }\n",
       "\n",
       "    .dataframe thead th {\n",
       "        text-align: right;\n",
       "    }\n",
       "</style>\n",
       "<table border=\"1\" class=\"dataframe\">\n",
       "  <thead>\n",
       "    <tr style=\"text-align: right;\">\n",
       "      <th></th>\n",
       "      <th>name</th>\n",
       "      <th>sub1</th>\n",
       "      <th>sub2</th>\n",
       "      <th>sub3</th>\n",
       "    </tr>\n",
       "  </thead>\n",
       "  <tbody>\n",
       "    <tr>\n",
       "      <th>0</th>\n",
       "      <td>ajay</td>\n",
       "      <td>98</td>\n",
       "      <td>78</td>\n",
       "      <td>60</td>\n",
       "    </tr>\n",
       "    <tr>\n",
       "      <th>1</th>\n",
       "      <td>aman</td>\n",
       "      <td>79</td>\n",
       "      <td>80</td>\n",
       "      <td>74</td>\n",
       "    </tr>\n",
       "    <tr>\n",
       "      <th>2</th>\n",
       "      <td>vaibhav</td>\n",
       "      <td>69</td>\n",
       "      <td>87</td>\n",
       "      <td>98</td>\n",
       "    </tr>\n",
       "    <tr>\n",
       "      <th>3</th>\n",
       "      <td>harry</td>\n",
       "      <td>70</td>\n",
       "      <td>76</td>\n",
       "      <td>70</td>\n",
       "    </tr>\n",
       "    <tr>\n",
       "      <th>4</th>\n",
       "      <td>rahul</td>\n",
       "      <td>89</td>\n",
       "      <td>78</td>\n",
       "      <td>76</td>\n",
       "    </tr>\n",
       "  </tbody>\n",
       "</table>\n",
       "</div>"
      ],
      "text/plain": [
       "      name  sub1  sub2  sub3\n",
       "0     ajay    98    78    60\n",
       "1     aman    79    80    74\n",
       "2  vaibhav    69    87    98\n",
       "3    harry    70    76    70\n",
       "4    rahul    89    78    76"
      ]
     },
     "execution_count": 11,
     "metadata": {},
     "output_type": "execute_result"
    }
   ],
   "source": [
    "df"
   ]
  },
  {
   "cell_type": "code",
   "execution_count": 12,
   "metadata": {},
   "outputs": [],
   "source": [
    "df.index=['student 1','student 2','student 3','student 4','student 5']"
   ]
  },
  {
   "cell_type": "code",
   "execution_count": 13,
   "metadata": {},
   "outputs": [
    {
     "data": {
      "text/html": [
       "<div>\n",
       "<style scoped>\n",
       "    .dataframe tbody tr th:only-of-type {\n",
       "        vertical-align: middle;\n",
       "    }\n",
       "\n",
       "    .dataframe tbody tr th {\n",
       "        vertical-align: top;\n",
       "    }\n",
       "\n",
       "    .dataframe thead th {\n",
       "        text-align: right;\n",
       "    }\n",
       "</style>\n",
       "<table border=\"1\" class=\"dataframe\">\n",
       "  <thead>\n",
       "    <tr style=\"text-align: right;\">\n",
       "      <th></th>\n",
       "      <th>name</th>\n",
       "      <th>sub1</th>\n",
       "      <th>sub2</th>\n",
       "      <th>sub3</th>\n",
       "    </tr>\n",
       "  </thead>\n",
       "  <tbody>\n",
       "    <tr>\n",
       "      <th>student 1</th>\n",
       "      <td>ajay</td>\n",
       "      <td>98</td>\n",
       "      <td>78</td>\n",
       "      <td>60</td>\n",
       "    </tr>\n",
       "    <tr>\n",
       "      <th>student 2</th>\n",
       "      <td>aman</td>\n",
       "      <td>79</td>\n",
       "      <td>80</td>\n",
       "      <td>74</td>\n",
       "    </tr>\n",
       "    <tr>\n",
       "      <th>student 3</th>\n",
       "      <td>vaibhav</td>\n",
       "      <td>69</td>\n",
       "      <td>87</td>\n",
       "      <td>98</td>\n",
       "    </tr>\n",
       "    <tr>\n",
       "      <th>student 4</th>\n",
       "      <td>harry</td>\n",
       "      <td>70</td>\n",
       "      <td>76</td>\n",
       "      <td>70</td>\n",
       "    </tr>\n",
       "    <tr>\n",
       "      <th>student 5</th>\n",
       "      <td>rahul</td>\n",
       "      <td>89</td>\n",
       "      <td>78</td>\n",
       "      <td>76</td>\n",
       "    </tr>\n",
       "  </tbody>\n",
       "</table>\n",
       "</div>"
      ],
      "text/plain": [
       "              name  sub1  sub2  sub3\n",
       "student 1     ajay    98    78    60\n",
       "student 2     aman    79    80    74\n",
       "student 3  vaibhav    69    87    98\n",
       "student 4    harry    70    76    70\n",
       "student 5    rahul    89    78    76"
      ]
     },
     "execution_count": 13,
     "metadata": {},
     "output_type": "execute_result"
    }
   ],
   "source": [
    "df"
   ]
  },
  {
   "cell_type": "code",
   "execution_count": 14,
   "metadata": {},
   "outputs": [
    {
     "data": {
      "text/plain": [
       "Index(['student 1', 'student 2', 'student 3', 'student 4', 'student 5'], dtype='object')"
      ]
     },
     "execution_count": 14,
     "metadata": {},
     "output_type": "execute_result"
    }
   ],
   "source": [
    "df.index"
   ]
  },
  {
   "cell_type": "code",
   "execution_count": 15,
   "metadata": {},
   "outputs": [
    {
     "data": {
      "text/plain": [
       "Index(['name', 'sub1', 'sub2', 'sub3'], dtype='object')"
      ]
     },
     "execution_count": 15,
     "metadata": {},
     "output_type": "execute_result"
    }
   ],
   "source": [
    "df.columns"
   ]
  },
  {
   "cell_type": "code",
   "execution_count": 16,
   "metadata": {},
   "outputs": [
    {
     "data": {
      "text/plain": [
       "'name'"
      ]
     },
     "execution_count": 16,
     "metadata": {},
     "output_type": "execute_result"
    }
   ],
   "source": [
    "df.columns[0]"
   ]
  },
  {
   "cell_type": "code",
   "execution_count": 17,
   "metadata": {},
   "outputs": [],
   "source": [
    "df.columns=['Name','C Marks','CPP Marks','Python Marks']"
   ]
  },
  {
   "cell_type": "code",
   "execution_count": 18,
   "metadata": {},
   "outputs": [
    {
     "data": {
      "text/html": [
       "<div>\n",
       "<style scoped>\n",
       "    .dataframe tbody tr th:only-of-type {\n",
       "        vertical-align: middle;\n",
       "    }\n",
       "\n",
       "    .dataframe tbody tr th {\n",
       "        vertical-align: top;\n",
       "    }\n",
       "\n",
       "    .dataframe thead th {\n",
       "        text-align: right;\n",
       "    }\n",
       "</style>\n",
       "<table border=\"1\" class=\"dataframe\">\n",
       "  <thead>\n",
       "    <tr style=\"text-align: right;\">\n",
       "      <th></th>\n",
       "      <th>Name</th>\n",
       "      <th>C Marks</th>\n",
       "      <th>CPP Marks</th>\n",
       "      <th>Python Marks</th>\n",
       "    </tr>\n",
       "  </thead>\n",
       "  <tbody>\n",
       "    <tr>\n",
       "      <th>student 1</th>\n",
       "      <td>ajay</td>\n",
       "      <td>98</td>\n",
       "      <td>78</td>\n",
       "      <td>60</td>\n",
       "    </tr>\n",
       "    <tr>\n",
       "      <th>student 2</th>\n",
       "      <td>aman</td>\n",
       "      <td>79</td>\n",
       "      <td>80</td>\n",
       "      <td>74</td>\n",
       "    </tr>\n",
       "    <tr>\n",
       "      <th>student 3</th>\n",
       "      <td>vaibhav</td>\n",
       "      <td>69</td>\n",
       "      <td>87</td>\n",
       "      <td>98</td>\n",
       "    </tr>\n",
       "    <tr>\n",
       "      <th>student 4</th>\n",
       "      <td>harry</td>\n",
       "      <td>70</td>\n",
       "      <td>76</td>\n",
       "      <td>70</td>\n",
       "    </tr>\n",
       "    <tr>\n",
       "      <th>student 5</th>\n",
       "      <td>rahul</td>\n",
       "      <td>89</td>\n",
       "      <td>78</td>\n",
       "      <td>76</td>\n",
       "    </tr>\n",
       "  </tbody>\n",
       "</table>\n",
       "</div>"
      ],
      "text/plain": [
       "              Name  C Marks  CPP Marks  Python Marks\n",
       "student 1     ajay       98         78            60\n",
       "student 2     aman       79         80            74\n",
       "student 3  vaibhav       69         87            98\n",
       "student 4    harry       70         76            70\n",
       "student 5    rahul       89         78            76"
      ]
     },
     "execution_count": 18,
     "metadata": {},
     "output_type": "execute_result"
    }
   ],
   "source": [
    "df"
   ]
  },
  {
   "cell_type": "code",
   "execution_count": 20,
   "metadata": {},
   "outputs": [
    {
     "data": {
      "text/plain": [
       "pandas.core.indexes.base.Index"
      ]
     },
     "execution_count": 20,
     "metadata": {},
     "output_type": "execute_result"
    }
   ],
   "source": [
    "type(df.columns)"
   ]
  },
  {
   "cell_type": "code",
   "execution_count": 19,
   "metadata": {},
   "outputs": [
    {
     "ename": "TypeError",
     "evalue": "Index does not support mutable operations",
     "output_type": "error",
     "traceback": [
      "\u001b[1;31m---------------------------------------------------------------------------\u001b[0m",
      "\u001b[1;31mTypeError\u001b[0m                                 Traceback (most recent call last)",
      "\u001b[1;32m<ipython-input-19-7f73c1624986>\u001b[0m in \u001b[0;36m<module>\u001b[1;34m\u001b[0m\n\u001b[1;32m----> 1\u001b[1;33m \u001b[0mdf\u001b[0m\u001b[1;33m.\u001b[0m\u001b[0mcolumns\u001b[0m\u001b[1;33m[\u001b[0m\u001b[1;36m2\u001b[0m\u001b[1;33m]\u001b[0m\u001b[1;33m=\u001b[0m\u001b[1;34m'C++ Marks'\u001b[0m\u001b[1;33m\u001b[0m\u001b[1;33m\u001b[0m\u001b[0m\n\u001b[0m",
      "\u001b[1;32mC:\\Python38\\lib\\site-packages\\pandas\\core\\indexes\\base.py\u001b[0m in \u001b[0;36m__setitem__\u001b[1;34m(self, key, value)\u001b[0m\n\u001b[0;32m   4075\u001b[0m \u001b[1;33m\u001b[0m\u001b[0m\n\u001b[0;32m   4076\u001b[0m     \u001b[1;32mdef\u001b[0m \u001b[0m__setitem__\u001b[0m\u001b[1;33m(\u001b[0m\u001b[0mself\u001b[0m\u001b[1;33m,\u001b[0m \u001b[0mkey\u001b[0m\u001b[1;33m,\u001b[0m \u001b[0mvalue\u001b[0m\u001b[1;33m)\u001b[0m\u001b[1;33m:\u001b[0m\u001b[1;33m\u001b[0m\u001b[1;33m\u001b[0m\u001b[0m\n\u001b[1;32m-> 4077\u001b[1;33m         \u001b[1;32mraise\u001b[0m \u001b[0mTypeError\u001b[0m\u001b[1;33m(\u001b[0m\u001b[1;34m\"Index does not support mutable operations\"\u001b[0m\u001b[1;33m)\u001b[0m\u001b[1;33m\u001b[0m\u001b[1;33m\u001b[0m\u001b[0m\n\u001b[0m\u001b[0;32m   4078\u001b[0m \u001b[1;33m\u001b[0m\u001b[0m\n\u001b[0;32m   4079\u001b[0m     \u001b[1;32mdef\u001b[0m \u001b[0m__getitem__\u001b[0m\u001b[1;33m(\u001b[0m\u001b[0mself\u001b[0m\u001b[1;33m,\u001b[0m \u001b[0mkey\u001b[0m\u001b[1;33m)\u001b[0m\u001b[1;33m:\u001b[0m\u001b[1;33m\u001b[0m\u001b[1;33m\u001b[0m\u001b[0m\n",
      "\u001b[1;31mTypeError\u001b[0m: Index does not support mutable operations"
     ]
    }
   ],
   "source": [
    "df.columns[2]='C++ Marks'"
   ]
  },
  {
   "cell_type": "code",
   "execution_count": 23,
   "metadata": {},
   "outputs": [
    {
     "data": {
      "text/html": [
       "<div>\n",
       "<style scoped>\n",
       "    .dataframe tbody tr th:only-of-type {\n",
       "        vertical-align: middle;\n",
       "    }\n",
       "\n",
       "    .dataframe tbody tr th {\n",
       "        vertical-align: top;\n",
       "    }\n",
       "\n",
       "    .dataframe thead th {\n",
       "        text-align: right;\n",
       "    }\n",
       "</style>\n",
       "<table border=\"1\" class=\"dataframe\">\n",
       "  <thead>\n",
       "    <tr style=\"text-align: right;\">\n",
       "      <th></th>\n",
       "      <th>Name</th>\n",
       "      <th>C Marks</th>\n",
       "      <th>CPP Marks</th>\n",
       "      <th>Python Marks</th>\n",
       "    </tr>\n",
       "  </thead>\n",
       "  <tbody>\n",
       "    <tr>\n",
       "      <th>student 1</th>\n",
       "      <td>ajay</td>\n",
       "      <td>98</td>\n",
       "      <td>78</td>\n",
       "      <td>60</td>\n",
       "    </tr>\n",
       "    <tr>\n",
       "      <th>student 2</th>\n",
       "      <td>aman</td>\n",
       "      <td>79</td>\n",
       "      <td>80</td>\n",
       "      <td>74</td>\n",
       "    </tr>\n",
       "    <tr>\n",
       "      <th>student 4</th>\n",
       "      <td>harry</td>\n",
       "      <td>70</td>\n",
       "      <td>76</td>\n",
       "      <td>70</td>\n",
       "    </tr>\n",
       "    <tr>\n",
       "      <th>student 5</th>\n",
       "      <td>rahul</td>\n",
       "      <td>89</td>\n",
       "      <td>78</td>\n",
       "      <td>76</td>\n",
       "    </tr>\n",
       "    <tr>\n",
       "      <th>student 3</th>\n",
       "      <td>vaibhav</td>\n",
       "      <td>69</td>\n",
       "      <td>87</td>\n",
       "      <td>98</td>\n",
       "    </tr>\n",
       "  </tbody>\n",
       "</table>\n",
       "</div>"
      ],
      "text/plain": [
       "              Name  C Marks  CPP Marks  Python Marks\n",
       "student 1     ajay       98         78            60\n",
       "student 2     aman       79         80            74\n",
       "student 4    harry       70         76            70\n",
       "student 5    rahul       89         78            76\n",
       "student 3  vaibhav       69         87            98"
      ]
     },
     "execution_count": 23,
     "metadata": {},
     "output_type": "execute_result"
    }
   ],
   "source": [
    "df.sort_values('Name')"
   ]
  },
  {
   "cell_type": "code",
   "execution_count": 1,
   "metadata": {},
   "outputs": [
    {
     "data": {
      "text/plain": [
       "array([[0.7950436 , 0.50934183, 0.53489786, 0.53342668, 0.68125253],\n",
       "       [0.41175859, 0.98774429, 0.3532074 , 0.45588825, 0.28996813],\n",
       "       [0.38752722, 0.1463534 , 0.54561306, 0.52670876, 0.88056661],\n",
       "       ...,\n",
       "       [0.15243713, 0.59031498, 0.13461751, 0.64461334, 0.30082086],\n",
       "       [0.82599999, 0.49038414, 0.9833611 , 0.86061896, 0.07171302],\n",
       "       [0.66082434, 0.30884868, 0.33804354, 0.28152602, 0.13749704]])"
      ]
     },
     "execution_count": 1,
     "metadata": {},
     "output_type": "execute_result"
    }
   ],
   "source": [
    "import numpy as np\n",
    "np.random.rand(300,5)"
   ]
  },
  {
   "cell_type": "code",
   "execution_count": 9,
   "metadata": {},
   "outputs": [
    {
     "data": {
      "text/plain": [
       "2"
      ]
     },
     "execution_count": 9,
     "metadata": {},
     "output_type": "execute_result"
    }
   ],
   "source": [
    "np.random.rand(300,5).ndim"
   ]
  },
  {
   "cell_type": "code",
   "execution_count": 28,
   "metadata": {},
   "outputs": [
    {
     "data": {
      "text/plain": [
       "array([101, 102, 103, 104, 105, 106, 107, 108, 109, 110, 111, 112, 113,\n",
       "       114, 115, 116, 117, 118, 119, 120, 121, 122, 123, 124, 125, 126,\n",
       "       127, 128, 129, 130, 131, 132, 133, 134, 135, 136, 137, 138, 139,\n",
       "       140, 141, 142, 143, 144, 145, 146, 147, 148, 149, 150, 151, 152,\n",
       "       153, 154, 155, 156, 157, 158, 159, 160, 161, 162, 163, 164, 165,\n",
       "       166, 167, 168, 169, 170, 171, 172, 173, 174, 175, 176, 177, 178,\n",
       "       179, 180, 181, 182, 183, 184, 185, 186, 187, 188, 189, 190, 191,\n",
       "       192, 193, 194, 195, 196, 197, 198, 199, 200, 201, 202, 203, 204,\n",
       "       205, 206, 207, 208, 209, 210, 211, 212, 213, 214, 215, 216, 217,\n",
       "       218, 219, 220, 221, 222, 223, 224, 225, 226, 227, 228, 229, 230,\n",
       "       231, 232, 233, 234, 235, 236, 237, 238, 239, 240, 241, 242, 243,\n",
       "       244, 245, 246, 247, 248, 249, 250, 251, 252, 253, 254, 255, 256,\n",
       "       257, 258, 259, 260, 261, 262, 263, 264, 265, 266, 267, 268, 269,\n",
       "       270, 271, 272, 273, 274, 275, 276, 277, 278, 279, 280, 281, 282,\n",
       "       283, 284, 285, 286, 287, 288, 289, 290, 291, 292, 293, 294, 295,\n",
       "       296, 297, 298, 299])"
      ]
     },
     "execution_count": 28,
     "metadata": {},
     "output_type": "execute_result"
    }
   ],
   "source": [
    "np.arange(101,300)"
   ]
  },
  {
   "cell_type": "code",
   "execution_count": 30,
   "metadata": {},
   "outputs": [],
   "source": [
    "import pandas as pd\n",
    "newdf=pd.DataFrame(np.random.rand(300,5),index=np.arange(101,401))"
   ]
  },
  {
   "cell_type": "code",
   "execution_count": 31,
   "metadata": {},
   "outputs": [
    {
     "data": {
      "text/html": [
       "<div>\n",
       "<style scoped>\n",
       "    .dataframe tbody tr th:only-of-type {\n",
       "        vertical-align: middle;\n",
       "    }\n",
       "\n",
       "    .dataframe tbody tr th {\n",
       "        vertical-align: top;\n",
       "    }\n",
       "\n",
       "    .dataframe thead th {\n",
       "        text-align: right;\n",
       "    }\n",
       "</style>\n",
       "<table border=\"1\" class=\"dataframe\">\n",
       "  <thead>\n",
       "    <tr style=\"text-align: right;\">\n",
       "      <th></th>\n",
       "      <th>0</th>\n",
       "      <th>1</th>\n",
       "      <th>2</th>\n",
       "      <th>3</th>\n",
       "      <th>4</th>\n",
       "    </tr>\n",
       "  </thead>\n",
       "  <tbody>\n",
       "    <tr>\n",
       "      <th>101</th>\n",
       "      <td>0.351950</td>\n",
       "      <td>0.355529</td>\n",
       "      <td>0.007597</td>\n",
       "      <td>0.234755</td>\n",
       "      <td>0.085628</td>\n",
       "    </tr>\n",
       "    <tr>\n",
       "      <th>102</th>\n",
       "      <td>0.794010</td>\n",
       "      <td>0.555950</td>\n",
       "      <td>0.816122</td>\n",
       "      <td>0.695572</td>\n",
       "      <td>0.435938</td>\n",
       "    </tr>\n",
       "    <tr>\n",
       "      <th>103</th>\n",
       "      <td>0.734868</td>\n",
       "      <td>0.409293</td>\n",
       "      <td>0.941522</td>\n",
       "      <td>0.186320</td>\n",
       "      <td>0.406883</td>\n",
       "    </tr>\n",
       "    <tr>\n",
       "      <th>104</th>\n",
       "      <td>0.511979</td>\n",
       "      <td>0.210402</td>\n",
       "      <td>0.525689</td>\n",
       "      <td>0.836427</td>\n",
       "      <td>0.220316</td>\n",
       "    </tr>\n",
       "    <tr>\n",
       "      <th>105</th>\n",
       "      <td>0.765660</td>\n",
       "      <td>0.125691</td>\n",
       "      <td>0.352167</td>\n",
       "      <td>0.251085</td>\n",
       "      <td>0.626003</td>\n",
       "    </tr>\n",
       "    <tr>\n",
       "      <th>...</th>\n",
       "      <td>...</td>\n",
       "      <td>...</td>\n",
       "      <td>...</td>\n",
       "      <td>...</td>\n",
       "      <td>...</td>\n",
       "    </tr>\n",
       "    <tr>\n",
       "      <th>396</th>\n",
       "      <td>0.606597</td>\n",
       "      <td>0.810338</td>\n",
       "      <td>0.639346</td>\n",
       "      <td>0.227231</td>\n",
       "      <td>0.224116</td>\n",
       "    </tr>\n",
       "    <tr>\n",
       "      <th>397</th>\n",
       "      <td>0.176554</td>\n",
       "      <td>0.243128</td>\n",
       "      <td>0.562881</td>\n",
       "      <td>0.440055</td>\n",
       "      <td>0.293602</td>\n",
       "    </tr>\n",
       "    <tr>\n",
       "      <th>398</th>\n",
       "      <td>0.616201</td>\n",
       "      <td>0.672227</td>\n",
       "      <td>0.602471</td>\n",
       "      <td>0.069580</td>\n",
       "      <td>0.849559</td>\n",
       "    </tr>\n",
       "    <tr>\n",
       "      <th>399</th>\n",
       "      <td>0.864504</td>\n",
       "      <td>0.520064</td>\n",
       "      <td>0.563841</td>\n",
       "      <td>0.967791</td>\n",
       "      <td>0.684374</td>\n",
       "    </tr>\n",
       "    <tr>\n",
       "      <th>400</th>\n",
       "      <td>0.168774</td>\n",
       "      <td>0.883689</td>\n",
       "      <td>0.412240</td>\n",
       "      <td>0.164955</td>\n",
       "      <td>0.654521</td>\n",
       "    </tr>\n",
       "  </tbody>\n",
       "</table>\n",
       "<p>300 rows × 5 columns</p>\n",
       "</div>"
      ],
      "text/plain": [
       "            0         1         2         3         4\n",
       "101  0.351950  0.355529  0.007597  0.234755  0.085628\n",
       "102  0.794010  0.555950  0.816122  0.695572  0.435938\n",
       "103  0.734868  0.409293  0.941522  0.186320  0.406883\n",
       "104  0.511979  0.210402  0.525689  0.836427  0.220316\n",
       "105  0.765660  0.125691  0.352167  0.251085  0.626003\n",
       "..        ...       ...       ...       ...       ...\n",
       "396  0.606597  0.810338  0.639346  0.227231  0.224116\n",
       "397  0.176554  0.243128  0.562881  0.440055  0.293602\n",
       "398  0.616201  0.672227  0.602471  0.069580  0.849559\n",
       "399  0.864504  0.520064  0.563841  0.967791  0.684374\n",
       "400  0.168774  0.883689  0.412240  0.164955  0.654521\n",
       "\n",
       "[300 rows x 5 columns]"
      ]
     },
     "execution_count": 31,
     "metadata": {},
     "output_type": "execute_result"
    }
   ],
   "source": [
    "newdf"
   ]
  },
  {
   "cell_type": "code",
   "execution_count": 30,
   "metadata": {},
   "outputs": [
    {
     "data": {
      "text/plain": [
       "pandas.core.frame.DataFrame"
      ]
     },
     "execution_count": 30,
     "metadata": {},
     "output_type": "execute_result"
    }
   ],
   "source": [
    "type(newdf)"
   ]
  },
  {
   "cell_type": "code",
   "execution_count": 36,
   "metadata": {},
   "outputs": [
    {
     "data": {
      "text/html": [
       "<div>\n",
       "<style scoped>\n",
       "    .dataframe tbody tr th:only-of-type {\n",
       "        vertical-align: middle;\n",
       "    }\n",
       "\n",
       "    .dataframe tbody tr th {\n",
       "        vertical-align: top;\n",
       "    }\n",
       "\n",
       "    .dataframe thead th {\n",
       "        text-align: right;\n",
       "    }\n",
       "</style>\n",
       "<table border=\"1\" class=\"dataframe\">\n",
       "  <thead>\n",
       "    <tr style=\"text-align: right;\">\n",
       "      <th></th>\n",
       "      <th>0</th>\n",
       "      <th>1</th>\n",
       "      <th>2</th>\n",
       "      <th>3</th>\n",
       "      <th>4</th>\n",
       "    </tr>\n",
       "  </thead>\n",
       "  <tbody>\n",
       "    <tr>\n",
       "      <th>count</th>\n",
       "      <td>300.000000</td>\n",
       "      <td>300.000000</td>\n",
       "      <td>300.000000</td>\n",
       "      <td>300.000000</td>\n",
       "      <td>300.000000</td>\n",
       "    </tr>\n",
       "    <tr>\n",
       "      <th>mean</th>\n",
       "      <td>0.507104</td>\n",
       "      <td>0.479814</td>\n",
       "      <td>0.511514</td>\n",
       "      <td>0.505525</td>\n",
       "      <td>0.518522</td>\n",
       "    </tr>\n",
       "    <tr>\n",
       "      <th>std</th>\n",
       "      <td>0.291945</td>\n",
       "      <td>0.299694</td>\n",
       "      <td>0.283764</td>\n",
       "      <td>0.297938</td>\n",
       "      <td>0.279656</td>\n",
       "    </tr>\n",
       "    <tr>\n",
       "      <th>min</th>\n",
       "      <td>0.001552</td>\n",
       "      <td>0.000505</td>\n",
       "      <td>0.000543</td>\n",
       "      <td>0.002392</td>\n",
       "      <td>0.009038</td>\n",
       "    </tr>\n",
       "    <tr>\n",
       "      <th>25%</th>\n",
       "      <td>0.250250</td>\n",
       "      <td>0.217186</td>\n",
       "      <td>0.264595</td>\n",
       "      <td>0.255888</td>\n",
       "      <td>0.284147</td>\n",
       "    </tr>\n",
       "    <tr>\n",
       "      <th>50%</th>\n",
       "      <td>0.516204</td>\n",
       "      <td>0.469581</td>\n",
       "      <td>0.505684</td>\n",
       "      <td>0.508978</td>\n",
       "      <td>0.528071</td>\n",
       "    </tr>\n",
       "    <tr>\n",
       "      <th>75%</th>\n",
       "      <td>0.761226</td>\n",
       "      <td>0.743218</td>\n",
       "      <td>0.767446</td>\n",
       "      <td>0.772073</td>\n",
       "      <td>0.763347</td>\n",
       "    </tr>\n",
       "    <tr>\n",
       "      <th>max</th>\n",
       "      <td>0.993507</td>\n",
       "      <td>0.998125</td>\n",
       "      <td>0.992489</td>\n",
       "      <td>0.999701</td>\n",
       "      <td>0.998078</td>\n",
       "    </tr>\n",
       "  </tbody>\n",
       "</table>\n",
       "</div>"
      ],
      "text/plain": [
       "                0           1           2           3           4\n",
       "count  300.000000  300.000000  300.000000  300.000000  300.000000\n",
       "mean     0.507104    0.479814    0.511514    0.505525    0.518522\n",
       "std      0.291945    0.299694    0.283764    0.297938    0.279656\n",
       "min      0.001552    0.000505    0.000543    0.002392    0.009038\n",
       "25%      0.250250    0.217186    0.264595    0.255888    0.284147\n",
       "50%      0.516204    0.469581    0.505684    0.508978    0.528071\n",
       "75%      0.761226    0.743218    0.767446    0.772073    0.763347\n",
       "max      0.993507    0.998125    0.992489    0.999701    0.998078"
      ]
     },
     "execution_count": 36,
     "metadata": {},
     "output_type": "execute_result"
    }
   ],
   "source": [
    "newdf.describe()"
   ]
  },
  {
   "cell_type": "code",
   "execution_count": 37,
   "metadata": {},
   "outputs": [
    {
     "name": "stdout",
     "output_type": "stream",
     "text": [
      "<class 'pandas.core.frame.DataFrame'>\n",
      "Int64Index: 300 entries, 101 to 400\n",
      "Data columns (total 5 columns):\n",
      " #   Column  Non-Null Count  Dtype  \n",
      "---  ------  --------------  -----  \n",
      " 0   0       300 non-null    float64\n",
      " 1   1       300 non-null    float64\n",
      " 2   2       300 non-null    float64\n",
      " 3   3       300 non-null    float64\n",
      " 4   4       300 non-null    float64\n",
      "dtypes: float64(5)\n",
      "memory usage: 14.1 KB\n"
     ]
    }
   ],
   "source": [
    "newdf.info()"
   ]
  },
  {
   "cell_type": "code",
   "execution_count": 40,
   "metadata": {},
   "outputs": [],
   "source": [
    "newdf[0][101]=np.nan"
   ]
  },
  {
   "cell_type": "code",
   "execution_count": 41,
   "metadata": {},
   "outputs": [
    {
     "data": {
      "text/html": [
       "<div>\n",
       "<style scoped>\n",
       "    .dataframe tbody tr th:only-of-type {\n",
       "        vertical-align: middle;\n",
       "    }\n",
       "\n",
       "    .dataframe tbody tr th {\n",
       "        vertical-align: top;\n",
       "    }\n",
       "\n",
       "    .dataframe thead th {\n",
       "        text-align: right;\n",
       "    }\n",
       "</style>\n",
       "<table border=\"1\" class=\"dataframe\">\n",
       "  <thead>\n",
       "    <tr style=\"text-align: right;\">\n",
       "      <th></th>\n",
       "      <th>0</th>\n",
       "      <th>1</th>\n",
       "      <th>2</th>\n",
       "      <th>3</th>\n",
       "      <th>4</th>\n",
       "    </tr>\n",
       "  </thead>\n",
       "  <tbody>\n",
       "    <tr>\n",
       "      <th>101</th>\n",
       "      <td>NaN</td>\n",
       "      <td>0.681117</td>\n",
       "      <td>0.849424</td>\n",
       "      <td>0.682933</td>\n",
       "      <td>0.753564</td>\n",
       "    </tr>\n",
       "    <tr>\n",
       "      <th>102</th>\n",
       "      <td>0.903239</td>\n",
       "      <td>0.461483</td>\n",
       "      <td>0.495104</td>\n",
       "      <td>0.397866</td>\n",
       "      <td>0.132378</td>\n",
       "    </tr>\n",
       "    <tr>\n",
       "      <th>103</th>\n",
       "      <td>0.319807</td>\n",
       "      <td>0.139667</td>\n",
       "      <td>0.343833</td>\n",
       "      <td>0.500477</td>\n",
       "      <td>0.290911</td>\n",
       "    </tr>\n",
       "    <tr>\n",
       "      <th>104</th>\n",
       "      <td>0.392147</td>\n",
       "      <td>0.206199</td>\n",
       "      <td>0.601542</td>\n",
       "      <td>0.348599</td>\n",
       "      <td>0.430349</td>\n",
       "    </tr>\n",
       "    <tr>\n",
       "      <th>105</th>\n",
       "      <td>0.208997</td>\n",
       "      <td>0.774275</td>\n",
       "      <td>0.973166</td>\n",
       "      <td>0.030500</td>\n",
       "      <td>0.778164</td>\n",
       "    </tr>\n",
       "    <tr>\n",
       "      <th>...</th>\n",
       "      <td>...</td>\n",
       "      <td>...</td>\n",
       "      <td>...</td>\n",
       "      <td>...</td>\n",
       "      <td>...</td>\n",
       "    </tr>\n",
       "    <tr>\n",
       "      <th>396</th>\n",
       "      <td>0.154520</td>\n",
       "      <td>0.114788</td>\n",
       "      <td>0.939223</td>\n",
       "      <td>0.474323</td>\n",
       "      <td>0.407623</td>\n",
       "    </tr>\n",
       "    <tr>\n",
       "      <th>397</th>\n",
       "      <td>0.879706</td>\n",
       "      <td>0.482207</td>\n",
       "      <td>0.979242</td>\n",
       "      <td>0.159726</td>\n",
       "      <td>0.179226</td>\n",
       "    </tr>\n",
       "    <tr>\n",
       "      <th>398</th>\n",
       "      <td>0.956255</td>\n",
       "      <td>0.856811</td>\n",
       "      <td>0.933997</td>\n",
       "      <td>0.073827</td>\n",
       "      <td>0.629085</td>\n",
       "    </tr>\n",
       "    <tr>\n",
       "      <th>399</th>\n",
       "      <td>0.843047</td>\n",
       "      <td>0.154839</td>\n",
       "      <td>0.415597</td>\n",
       "      <td>0.916182</td>\n",
       "      <td>0.770035</td>\n",
       "    </tr>\n",
       "    <tr>\n",
       "      <th>400</th>\n",
       "      <td>0.142443</td>\n",
       "      <td>0.515433</td>\n",
       "      <td>0.600340</td>\n",
       "      <td>0.794086</td>\n",
       "      <td>0.059333</td>\n",
       "    </tr>\n",
       "  </tbody>\n",
       "</table>\n",
       "<p>300 rows × 5 columns</p>\n",
       "</div>"
      ],
      "text/plain": [
       "            0         1         2         3         4\n",
       "101       NaN  0.681117  0.849424  0.682933  0.753564\n",
       "102  0.903239  0.461483  0.495104  0.397866  0.132378\n",
       "103  0.319807  0.139667  0.343833  0.500477  0.290911\n",
       "104  0.392147  0.206199  0.601542  0.348599  0.430349\n",
       "105  0.208997  0.774275  0.973166  0.030500  0.778164\n",
       "..        ...       ...       ...       ...       ...\n",
       "396  0.154520  0.114788  0.939223  0.474323  0.407623\n",
       "397  0.879706  0.482207  0.979242  0.159726  0.179226\n",
       "398  0.956255  0.856811  0.933997  0.073827  0.629085\n",
       "399  0.843047  0.154839  0.415597  0.916182  0.770035\n",
       "400  0.142443  0.515433  0.600340  0.794086  0.059333\n",
       "\n",
       "[300 rows x 5 columns]"
      ]
     },
     "execution_count": 41,
     "metadata": {},
     "output_type": "execute_result"
    }
   ],
   "source": [
    "newdf"
   ]
  },
  {
   "cell_type": "code",
   "execution_count": 43,
   "metadata": {},
   "outputs": [
    {
     "data": {
      "text/html": [
       "<div>\n",
       "<style scoped>\n",
       "    .dataframe tbody tr th:only-of-type {\n",
       "        vertical-align: middle;\n",
       "    }\n",
       "\n",
       "    .dataframe tbody tr th {\n",
       "        vertical-align: top;\n",
       "    }\n",
       "\n",
       "    .dataframe thead th {\n",
       "        text-align: right;\n",
       "    }\n",
       "</style>\n",
       "<table border=\"1\" class=\"dataframe\">\n",
       "  <thead>\n",
       "    <tr style=\"text-align: right;\">\n",
       "      <th></th>\n",
       "      <th>0</th>\n",
       "      <th>1</th>\n",
       "      <th>2</th>\n",
       "      <th>3</th>\n",
       "      <th>4</th>\n",
       "    </tr>\n",
       "  </thead>\n",
       "  <tbody>\n",
       "    <tr>\n",
       "      <th>count</th>\n",
       "      <td>299.000000</td>\n",
       "      <td>300.000000</td>\n",
       "      <td>300.000000</td>\n",
       "      <td>300.000000</td>\n",
       "      <td>300.000000</td>\n",
       "    </tr>\n",
       "    <tr>\n",
       "      <th>mean</th>\n",
       "      <td>0.508532</td>\n",
       "      <td>0.479814</td>\n",
       "      <td>0.511514</td>\n",
       "      <td>0.505525</td>\n",
       "      <td>0.518522</td>\n",
       "    </tr>\n",
       "    <tr>\n",
       "      <th>std</th>\n",
       "      <td>0.291383</td>\n",
       "      <td>0.299694</td>\n",
       "      <td>0.283764</td>\n",
       "      <td>0.297938</td>\n",
       "      <td>0.279656</td>\n",
       "    </tr>\n",
       "    <tr>\n",
       "      <th>min</th>\n",
       "      <td>0.001552</td>\n",
       "      <td>0.000505</td>\n",
       "      <td>0.000543</td>\n",
       "      <td>0.002392</td>\n",
       "      <td>0.009038</td>\n",
       "    </tr>\n",
       "    <tr>\n",
       "      <th>25%</th>\n",
       "      <td>0.253704</td>\n",
       "      <td>0.217186</td>\n",
       "      <td>0.264595</td>\n",
       "      <td>0.255888</td>\n",
       "      <td>0.284147</td>\n",
       "    </tr>\n",
       "    <tr>\n",
       "      <th>50%</th>\n",
       "      <td>0.516587</td>\n",
       "      <td>0.469581</td>\n",
       "      <td>0.505684</td>\n",
       "      <td>0.508978</td>\n",
       "      <td>0.528071</td>\n",
       "    </tr>\n",
       "    <tr>\n",
       "      <th>75%</th>\n",
       "      <td>0.761463</td>\n",
       "      <td>0.743218</td>\n",
       "      <td>0.767446</td>\n",
       "      <td>0.772073</td>\n",
       "      <td>0.763347</td>\n",
       "    </tr>\n",
       "    <tr>\n",
       "      <th>max</th>\n",
       "      <td>0.993507</td>\n",
       "      <td>0.998125</td>\n",
       "      <td>0.992489</td>\n",
       "      <td>0.999701</td>\n",
       "      <td>0.998078</td>\n",
       "    </tr>\n",
       "  </tbody>\n",
       "</table>\n",
       "</div>"
      ],
      "text/plain": [
       "                0           1           2           3           4\n",
       "count  299.000000  300.000000  300.000000  300.000000  300.000000\n",
       "mean     0.508532    0.479814    0.511514    0.505525    0.518522\n",
       "std      0.291383    0.299694    0.283764    0.297938    0.279656\n",
       "min      0.001552    0.000505    0.000543    0.002392    0.009038\n",
       "25%      0.253704    0.217186    0.264595    0.255888    0.284147\n",
       "50%      0.516587    0.469581    0.505684    0.508978    0.528071\n",
       "75%      0.761463    0.743218    0.767446    0.772073    0.763347\n",
       "max      0.993507    0.998125    0.992489    0.999701    0.998078"
      ]
     },
     "execution_count": 43,
     "metadata": {},
     "output_type": "execute_result"
    }
   ],
   "source": [
    "newdf.describe()"
   ]
  },
  {
   "cell_type": "code",
   "execution_count": 44,
   "metadata": {},
   "outputs": [
    {
     "name": "stdout",
     "output_type": "stream",
     "text": [
      "<class 'pandas.core.frame.DataFrame'>\n",
      "Int64Index: 300 entries, 101 to 400\n",
      "Data columns (total 5 columns):\n",
      " #   Column  Non-Null Count  Dtype  \n",
      "---  ------  --------------  -----  \n",
      " 0   0       299 non-null    float64\n",
      " 1   1       300 non-null    float64\n",
      " 2   2       300 non-null    float64\n",
      " 3   3       300 non-null    float64\n",
      " 4   4       300 non-null    float64\n",
      "dtypes: float64(5)\n",
      "memory usage: 22.1 KB\n"
     ]
    }
   ],
   "source": [
    "newdf.info()"
   ]
  },
  {
   "cell_type": "code",
   "execution_count": 45,
   "metadata": {},
   "outputs": [],
   "source": [
    "newdf[0][101]='Python'"
   ]
  },
  {
   "cell_type": "code",
   "execution_count": 46,
   "metadata": {},
   "outputs": [
    {
     "data": {
      "text/html": [
       "<div>\n",
       "<style scoped>\n",
       "    .dataframe tbody tr th:only-of-type {\n",
       "        vertical-align: middle;\n",
       "    }\n",
       "\n",
       "    .dataframe tbody tr th {\n",
       "        vertical-align: top;\n",
       "    }\n",
       "\n",
       "    .dataframe thead th {\n",
       "        text-align: right;\n",
       "    }\n",
       "</style>\n",
       "<table border=\"1\" class=\"dataframe\">\n",
       "  <thead>\n",
       "    <tr style=\"text-align: right;\">\n",
       "      <th></th>\n",
       "      <th>0</th>\n",
       "      <th>1</th>\n",
       "      <th>2</th>\n",
       "      <th>3</th>\n",
       "      <th>4</th>\n",
       "    </tr>\n",
       "  </thead>\n",
       "  <tbody>\n",
       "    <tr>\n",
       "      <th>101</th>\n",
       "      <td>Python</td>\n",
       "      <td>0.681117</td>\n",
       "      <td>0.849424</td>\n",
       "      <td>0.682933</td>\n",
       "      <td>0.753564</td>\n",
       "    </tr>\n",
       "    <tr>\n",
       "      <th>102</th>\n",
       "      <td>0.903239</td>\n",
       "      <td>0.461483</td>\n",
       "      <td>0.495104</td>\n",
       "      <td>0.397866</td>\n",
       "      <td>0.132378</td>\n",
       "    </tr>\n",
       "    <tr>\n",
       "      <th>103</th>\n",
       "      <td>0.319807</td>\n",
       "      <td>0.139667</td>\n",
       "      <td>0.343833</td>\n",
       "      <td>0.500477</td>\n",
       "      <td>0.290911</td>\n",
       "    </tr>\n",
       "    <tr>\n",
       "      <th>104</th>\n",
       "      <td>0.392147</td>\n",
       "      <td>0.206199</td>\n",
       "      <td>0.601542</td>\n",
       "      <td>0.348599</td>\n",
       "      <td>0.430349</td>\n",
       "    </tr>\n",
       "    <tr>\n",
       "      <th>105</th>\n",
       "      <td>0.208997</td>\n",
       "      <td>0.774275</td>\n",
       "      <td>0.973166</td>\n",
       "      <td>0.030500</td>\n",
       "      <td>0.778164</td>\n",
       "    </tr>\n",
       "    <tr>\n",
       "      <th>...</th>\n",
       "      <td>...</td>\n",
       "      <td>...</td>\n",
       "      <td>...</td>\n",
       "      <td>...</td>\n",
       "      <td>...</td>\n",
       "    </tr>\n",
       "    <tr>\n",
       "      <th>396</th>\n",
       "      <td>0.15452</td>\n",
       "      <td>0.114788</td>\n",
       "      <td>0.939223</td>\n",
       "      <td>0.474323</td>\n",
       "      <td>0.407623</td>\n",
       "    </tr>\n",
       "    <tr>\n",
       "      <th>397</th>\n",
       "      <td>0.879706</td>\n",
       "      <td>0.482207</td>\n",
       "      <td>0.979242</td>\n",
       "      <td>0.159726</td>\n",
       "      <td>0.179226</td>\n",
       "    </tr>\n",
       "    <tr>\n",
       "      <th>398</th>\n",
       "      <td>0.956255</td>\n",
       "      <td>0.856811</td>\n",
       "      <td>0.933997</td>\n",
       "      <td>0.073827</td>\n",
       "      <td>0.629085</td>\n",
       "    </tr>\n",
       "    <tr>\n",
       "      <th>399</th>\n",
       "      <td>0.843047</td>\n",
       "      <td>0.154839</td>\n",
       "      <td>0.415597</td>\n",
       "      <td>0.916182</td>\n",
       "      <td>0.770035</td>\n",
       "    </tr>\n",
       "    <tr>\n",
       "      <th>400</th>\n",
       "      <td>0.142443</td>\n",
       "      <td>0.515433</td>\n",
       "      <td>0.600340</td>\n",
       "      <td>0.794086</td>\n",
       "      <td>0.059333</td>\n",
       "    </tr>\n",
       "  </tbody>\n",
       "</table>\n",
       "<p>300 rows × 5 columns</p>\n",
       "</div>"
      ],
      "text/plain": [
       "            0         1         2         3         4\n",
       "101    Python  0.681117  0.849424  0.682933  0.753564\n",
       "102  0.903239  0.461483  0.495104  0.397866  0.132378\n",
       "103  0.319807  0.139667  0.343833  0.500477  0.290911\n",
       "104  0.392147  0.206199  0.601542  0.348599  0.430349\n",
       "105  0.208997  0.774275  0.973166  0.030500  0.778164\n",
       "..        ...       ...       ...       ...       ...\n",
       "396   0.15452  0.114788  0.939223  0.474323  0.407623\n",
       "397  0.879706  0.482207  0.979242  0.159726  0.179226\n",
       "398  0.956255  0.856811  0.933997  0.073827  0.629085\n",
       "399  0.843047  0.154839  0.415597  0.916182  0.770035\n",
       "400  0.142443  0.515433  0.600340  0.794086  0.059333\n",
       "\n",
       "[300 rows x 5 columns]"
      ]
     },
     "execution_count": 46,
     "metadata": {},
     "output_type": "execute_result"
    }
   ],
   "source": [
    "newdf"
   ]
  },
  {
   "cell_type": "code",
   "execution_count": 47,
   "metadata": {},
   "outputs": [
    {
     "name": "stdout",
     "output_type": "stream",
     "text": [
      "<class 'pandas.core.frame.DataFrame'>\n",
      "Int64Index: 300 entries, 101 to 400\n",
      "Data columns (total 5 columns):\n",
      " #   Column  Non-Null Count  Dtype  \n",
      "---  ------  --------------  -----  \n",
      " 0   0       300 non-null    object \n",
      " 1   1       300 non-null    float64\n",
      " 2   2       300 non-null    float64\n",
      " 3   3       300 non-null    float64\n",
      " 4   4       300 non-null    float64\n",
      "dtypes: float64(4), object(1)\n",
      "memory usage: 20.9+ KB\n"
     ]
    }
   ],
   "source": [
    "newdf.info()"
   ]
  },
  {
   "cell_type": "code",
   "execution_count": 32,
   "metadata": {},
   "outputs": [
    {
     "data": {
      "text/html": [
       "<div>\n",
       "<style scoped>\n",
       "    .dataframe tbody tr th:only-of-type {\n",
       "        vertical-align: middle;\n",
       "    }\n",
       "\n",
       "    .dataframe tbody tr th {\n",
       "        vertical-align: top;\n",
       "    }\n",
       "\n",
       "    .dataframe thead th {\n",
       "        text-align: right;\n",
       "    }\n",
       "</style>\n",
       "<table border=\"1\" class=\"dataframe\">\n",
       "  <thead>\n",
       "    <tr style=\"text-align: right;\">\n",
       "      <th></th>\n",
       "      <th>0</th>\n",
       "      <th>1</th>\n",
       "      <th>2</th>\n",
       "      <th>3</th>\n",
       "      <th>4</th>\n",
       "    </tr>\n",
       "  </thead>\n",
       "  <tbody>\n",
       "    <tr>\n",
       "      <th>101</th>\n",
       "      <td>0.125000</td>\n",
       "      <td>0.355529</td>\n",
       "      <td>0.007597</td>\n",
       "      <td>0.234755</td>\n",
       "      <td>0.085628</td>\n",
       "    </tr>\n",
       "    <tr>\n",
       "      <th>102</th>\n",
       "      <td>0.794010</td>\n",
       "      <td>0.555950</td>\n",
       "      <td>0.816122</td>\n",
       "      <td>0.695572</td>\n",
       "      <td>0.435938</td>\n",
       "    </tr>\n",
       "    <tr>\n",
       "      <th>103</th>\n",
       "      <td>0.734868</td>\n",
       "      <td>0.409293</td>\n",
       "      <td>0.941522</td>\n",
       "      <td>0.186320</td>\n",
       "      <td>0.406883</td>\n",
       "    </tr>\n",
       "    <tr>\n",
       "      <th>104</th>\n",
       "      <td>0.511979</td>\n",
       "      <td>0.210402</td>\n",
       "      <td>0.525689</td>\n",
       "      <td>0.836427</td>\n",
       "      <td>0.220316</td>\n",
       "    </tr>\n",
       "    <tr>\n",
       "      <th>105</th>\n",
       "      <td>0.765660</td>\n",
       "      <td>0.125691</td>\n",
       "      <td>0.352167</td>\n",
       "      <td>0.251085</td>\n",
       "      <td>0.626003</td>\n",
       "    </tr>\n",
       "    <tr>\n",
       "      <th>...</th>\n",
       "      <td>...</td>\n",
       "      <td>...</td>\n",
       "      <td>...</td>\n",
       "      <td>...</td>\n",
       "      <td>...</td>\n",
       "    </tr>\n",
       "    <tr>\n",
       "      <th>396</th>\n",
       "      <td>0.606597</td>\n",
       "      <td>0.810338</td>\n",
       "      <td>0.639346</td>\n",
       "      <td>0.227231</td>\n",
       "      <td>0.224116</td>\n",
       "    </tr>\n",
       "    <tr>\n",
       "      <th>397</th>\n",
       "      <td>0.176554</td>\n",
       "      <td>0.243128</td>\n",
       "      <td>0.562881</td>\n",
       "      <td>0.440055</td>\n",
       "      <td>0.293602</td>\n",
       "    </tr>\n",
       "    <tr>\n",
       "      <th>398</th>\n",
       "      <td>0.616201</td>\n",
       "      <td>0.672227</td>\n",
       "      <td>0.602471</td>\n",
       "      <td>0.069580</td>\n",
       "      <td>0.849559</td>\n",
       "    </tr>\n",
       "    <tr>\n",
       "      <th>399</th>\n",
       "      <td>0.864504</td>\n",
       "      <td>0.520064</td>\n",
       "      <td>0.563841</td>\n",
       "      <td>0.967791</td>\n",
       "      <td>0.684374</td>\n",
       "    </tr>\n",
       "    <tr>\n",
       "      <th>400</th>\n",
       "      <td>0.168774</td>\n",
       "      <td>0.883689</td>\n",
       "      <td>0.412240</td>\n",
       "      <td>0.164955</td>\n",
       "      <td>0.654521</td>\n",
       "    </tr>\n",
       "  </tbody>\n",
       "</table>\n",
       "<p>300 rows × 5 columns</p>\n",
       "</div>"
      ],
      "text/plain": [
       "            0         1         2         3         4\n",
       "101  0.125000  0.355529  0.007597  0.234755  0.085628\n",
       "102  0.794010  0.555950  0.816122  0.695572  0.435938\n",
       "103  0.734868  0.409293  0.941522  0.186320  0.406883\n",
       "104  0.511979  0.210402  0.525689  0.836427  0.220316\n",
       "105  0.765660  0.125691  0.352167  0.251085  0.626003\n",
       "..        ...       ...       ...       ...       ...\n",
       "396  0.606597  0.810338  0.639346  0.227231  0.224116\n",
       "397  0.176554  0.243128  0.562881  0.440055  0.293602\n",
       "398  0.616201  0.672227  0.602471  0.069580  0.849559\n",
       "399  0.864504  0.520064  0.563841  0.967791  0.684374\n",
       "400  0.168774  0.883689  0.412240  0.164955  0.654521\n",
       "\n",
       "[300 rows x 5 columns]"
      ]
     },
     "execution_count": 32,
     "metadata": {},
     "output_type": "execute_result"
    }
   ],
   "source": [
    "newdf[0][101]=0.125\n",
    "newdf"
   ]
  },
  {
   "cell_type": "code",
   "execution_count": 49,
   "metadata": {},
   "outputs": [
    {
     "data": {
      "text/plain": [
       "0     object\n",
       "1    float64\n",
       "2    float64\n",
       "3    float64\n",
       "4    float64\n",
       "dtype: object"
      ]
     },
     "execution_count": 49,
     "metadata": {},
     "output_type": "execute_result"
    }
   ],
   "source": [
    "newdf.dtypes"
   ]
  },
  {
   "cell_type": "code",
   "execution_count": 50,
   "metadata": {},
   "outputs": [
    {
     "data": {
      "text/plain": [
       "Int64Index([101, 102, 103, 104, 105, 106, 107, 108, 109, 110,\n",
       "            ...\n",
       "            391, 392, 393, 394, 395, 396, 397, 398, 399, 400],\n",
       "           dtype='int64', length=300)"
      ]
     },
     "execution_count": 50,
     "metadata": {},
     "output_type": "execute_result"
    }
   ],
   "source": [
    "newdf.index"
   ]
  },
  {
   "cell_type": "code",
   "execution_count": 51,
   "metadata": {},
   "outputs": [
    {
     "data": {
      "text/plain": [
       "RangeIndex(start=0, stop=5, step=1)"
      ]
     },
     "execution_count": 51,
     "metadata": {},
     "output_type": "execute_result"
    }
   ],
   "source": [
    "newdf.columns"
   ]
  },
  {
   "cell_type": "code",
   "execution_count": 53,
   "metadata": {},
   "outputs": [
    {
     "data": {
      "text/html": [
       "<div>\n",
       "<style scoped>\n",
       "    .dataframe tbody tr th:only-of-type {\n",
       "        vertical-align: middle;\n",
       "    }\n",
       "\n",
       "    .dataframe tbody tr th {\n",
       "        vertical-align: top;\n",
       "    }\n",
       "\n",
       "    .dataframe thead th {\n",
       "        text-align: right;\n",
       "    }\n",
       "</style>\n",
       "<table border=\"1\" class=\"dataframe\">\n",
       "  <thead>\n",
       "    <tr style=\"text-align: right;\">\n",
       "      <th></th>\n",
       "      <th>0</th>\n",
       "      <th>1</th>\n",
       "      <th>2</th>\n",
       "      <th>3</th>\n",
       "      <th>4</th>\n",
       "    </tr>\n",
       "  </thead>\n",
       "  <tbody>\n",
       "    <tr>\n",
       "      <th>101</th>\n",
       "      <td>0.125</td>\n",
       "      <td>0.681117</td>\n",
       "      <td>0.849424</td>\n",
       "      <td>0.682933</td>\n",
       "      <td>0.753564</td>\n",
       "    </tr>\n",
       "    <tr>\n",
       "      <th>102</th>\n",
       "      <td>0.903239</td>\n",
       "      <td>0.461483</td>\n",
       "      <td>0.495104</td>\n",
       "      <td>0.397866</td>\n",
       "      <td>0.132378</td>\n",
       "    </tr>\n",
       "    <tr>\n",
       "      <th>103</th>\n",
       "      <td>0.319807</td>\n",
       "      <td>0.139667</td>\n",
       "      <td>0.343833</td>\n",
       "      <td>0.500477</td>\n",
       "      <td>0.290911</td>\n",
       "    </tr>\n",
       "    <tr>\n",
       "      <th>104</th>\n",
       "      <td>0.392147</td>\n",
       "      <td>0.206199</td>\n",
       "      <td>0.601542</td>\n",
       "      <td>0.348599</td>\n",
       "      <td>0.430349</td>\n",
       "    </tr>\n",
       "    <tr>\n",
       "      <th>105</th>\n",
       "      <td>0.208997</td>\n",
       "      <td>0.774275</td>\n",
       "      <td>0.973166</td>\n",
       "      <td>0.030500</td>\n",
       "      <td>0.778164</td>\n",
       "    </tr>\n",
       "    <tr>\n",
       "      <th>...</th>\n",
       "      <td>...</td>\n",
       "      <td>...</td>\n",
       "      <td>...</td>\n",
       "      <td>...</td>\n",
       "      <td>...</td>\n",
       "    </tr>\n",
       "    <tr>\n",
       "      <th>396</th>\n",
       "      <td>0.15452</td>\n",
       "      <td>0.114788</td>\n",
       "      <td>0.939223</td>\n",
       "      <td>0.474323</td>\n",
       "      <td>0.407623</td>\n",
       "    </tr>\n",
       "    <tr>\n",
       "      <th>397</th>\n",
       "      <td>0.879706</td>\n",
       "      <td>0.482207</td>\n",
       "      <td>0.979242</td>\n",
       "      <td>0.159726</td>\n",
       "      <td>0.179226</td>\n",
       "    </tr>\n",
       "    <tr>\n",
       "      <th>398</th>\n",
       "      <td>0.956255</td>\n",
       "      <td>0.856811</td>\n",
       "      <td>0.933997</td>\n",
       "      <td>0.073827</td>\n",
       "      <td>0.629085</td>\n",
       "    </tr>\n",
       "    <tr>\n",
       "      <th>399</th>\n",
       "      <td>0.843047</td>\n",
       "      <td>0.154839</td>\n",
       "      <td>0.415597</td>\n",
       "      <td>0.916182</td>\n",
       "      <td>0.770035</td>\n",
       "    </tr>\n",
       "    <tr>\n",
       "      <th>400</th>\n",
       "      <td>0.142443</td>\n",
       "      <td>0.515433</td>\n",
       "      <td>0.600340</td>\n",
       "      <td>0.794086</td>\n",
       "      <td>0.059333</td>\n",
       "    </tr>\n",
       "  </tbody>\n",
       "</table>\n",
       "<p>300 rows × 5 columns</p>\n",
       "</div>"
      ],
      "text/plain": [
       "            0         1         2         3         4\n",
       "101     0.125  0.681117  0.849424  0.682933  0.753564\n",
       "102  0.903239  0.461483  0.495104  0.397866  0.132378\n",
       "103  0.319807  0.139667  0.343833  0.500477  0.290911\n",
       "104  0.392147  0.206199  0.601542  0.348599  0.430349\n",
       "105  0.208997  0.774275  0.973166  0.030500  0.778164\n",
       "..        ...       ...       ...       ...       ...\n",
       "396   0.15452  0.114788  0.939223  0.474323  0.407623\n",
       "397  0.879706  0.482207  0.979242  0.159726  0.179226\n",
       "398  0.956255  0.856811  0.933997  0.073827  0.629085\n",
       "399  0.843047  0.154839  0.415597  0.916182  0.770035\n",
       "400  0.142443  0.515433  0.600340  0.794086  0.059333\n",
       "\n",
       "[300 rows x 5 columns]"
      ]
     },
     "execution_count": 53,
     "metadata": {},
     "output_type": "execute_result"
    }
   ],
   "source": [
    "newdf"
   ]
  },
  {
   "cell_type": "code",
   "execution_count": 57,
   "metadata": {},
   "outputs": [
    {
     "data": {
      "text/plain": [
       "array([0.14244265777276055, 0.5154327339372756, 0.6003400598742434,\n",
       "       0.7940860510647587, 0.059333362096742226], dtype=object)"
      ]
     },
     "execution_count": 57,
     "metadata": {},
     "output_type": "execute_result"
    }
   ],
   "source": [
    "newdf.to_numpy()[299]"
   ]
  },
  {
   "cell_type": "code",
   "execution_count": 54,
   "metadata": {},
   "outputs": [
    {
     "data": {
      "text/plain": [
       "array([0.125, 0.9032385050648588, 0.3198070871694584, 0.39214699297698374,\n",
       "       0.2089971645460431, 0.15697366604309437, 0.18034454123601118,\n",
       "       0.6983721496521118, 0.1478079765523469, 0.414796745336137,\n",
       "       0.4393268575270284, 0.053127366339098425, 0.1957486315144331,\n",
       "       0.3058988846319365, 0.29626695691814353, 0.6724530299302554,\n",
       "       0.2916687396836952, 0.6992983875663068, 0.7984107920430273,\n",
       "       0.8290087367045452, 0.5534554158187359, 0.868744616375776,\n",
       "       0.6136790553245461, 0.19140518132903228, 0.3053719201397139,\n",
       "       0.21364489527979236, 0.6595824103633342, 0.17364913181247488,\n",
       "       0.09226841166184885, 0.21262877466104813, 0.6050688596137235,\n",
       "       0.9514226302102237, 0.5007358441011344, 0.7598271926677516,\n",
       "       0.9434916800034143, 0.4249340612630744, 0.2020901472056008,\n",
       "       0.6107700301615222, 0.7863612899795872, 0.35044870174857945,\n",
       "       0.7619369053216951, 0.2720140117147424, 0.7538619995544859,\n",
       "       0.13980985244740385, 0.37568679632893553, 0.28953303399223274,\n",
       "       0.9313982574468965, 0.362541706837308, 0.7900132899353365,\n",
       "       0.5154984867605048, 0.013305702928189223, 0.6995798517623987,\n",
       "       0.3054630292519105, 0.2199015608452244, 0.697506168746736,\n",
       "       0.7760010230314177, 0.17981419487368855, 0.9501496075010184,\n",
       "       0.21342941980868313, 0.048262580180648995, 0.268921918840351,\n",
       "       0.48775378160883687, 0.404431360367421, 0.6189865420494097,\n",
       "       0.31913972526033796, 0.7746840879888938, 0.06816679704048223,\n",
       "       0.5009254679550964, 0.8241722648555121, 0.5152864373000697,\n",
       "       0.39855331819783524, 0.17942178746792037, 0.8890202802112669,\n",
       "       0.777819212152761, 0.5673029906214628, 0.11636996907827468,\n",
       "       0.5862863443515302, 0.29236964737819204, 0.36964936243857016,\n",
       "       0.3781633767931186, 0.6394258625505467, 0.056260003903769173,\n",
       "       0.6640536918200857, 0.852899157580282, 0.024843775847183336,\n",
       "       0.153597362445974, 0.05899270067994122, 0.004911982830756778,\n",
       "       0.7175516248345533, 0.6684671226401697, 0.6040071094519059,\n",
       "       0.26052683059865644, 0.3484080499779326, 0.2522404791164652,\n",
       "       0.6531542766596465, 0.6822463443915127, 0.8247992645631759,\n",
       "       0.4790748413938335, 0.7088710687067186, 0.5304161775745109,\n",
       "       0.5934515334564527, 0.22237691155011963, 0.6272663537704538,\n",
       "       0.15842798468571562, 0.7519748717875396, 0.5088591489126038,\n",
       "       0.7397438674283762, 0.22961435608191705, 0.47986202853963533,\n",
       "       0.2771983057113796, 0.9689006116023602, 0.18979058942215854,\n",
       "       0.7883733592752463, 0.7846436553581337, 0.0811547424254373,\n",
       "       0.7460364856930248, 0.9370425790011695, 0.8151420143033681,\n",
       "       0.039607863212860805, 0.1873626826081689, 0.5285362047579254,\n",
       "       0.9398847603830185, 0.8908776802932886, 0.3229549677692968,\n",
       "       0.7091032617273235, 0.6356018083237054, 0.20172386505830264,\n",
       "       0.2975090177188109, 0.3619101050059238, 0.5546227405292173,\n",
       "       0.9728417909416025, 0.630716568023097, 0.5754912763837117,\n",
       "       0.8781310490993391, 0.9340168876344841, 0.2754767758112865,\n",
       "       0.015151959731305675, 0.49606206875301084, 0.941622046971624,\n",
       "       0.07361571147479529, 0.7780332937601804, 0.6765816150596003,\n",
       "       0.8210968488299463, 0.7072773331148637, 0.5327149275733236,\n",
       "       0.09063037251847927, 0.24427742733186286, 0.31014847642895504,\n",
       "       0.9572835821147637, 0.90861269800728, 0.4966338387196737,\n",
       "       0.450790901216202, 0.8090725656330285, 0.8567201612267411,\n",
       "       0.3156699160507118, 0.980867733826474, 0.6060720241852333,\n",
       "       0.8629761711710039, 0.13078450753840465, 0.607110944192338,\n",
       "       0.5851705234525078, 0.3770085699775527, 0.6435095662683278,\n",
       "       0.811440868196505, 0.40100398608720156, 0.8193546682253681,\n",
       "       0.4995857581449442, 0.46873995462255147, 0.80467028793883,\n",
       "       0.226571420713498, 0.6699500722434394, 0.032432754681658404,\n",
       "       0.04861375846834004, 0.9713976014663712, 0.16844572940866454,\n",
       "       0.9574635529361161, 0.5046263530923875, 0.8274854550937502,\n",
       "       0.8272416030028829, 0.6592416518710401, 0.8086206085515236,\n",
       "       0.7902286549143149, 0.1161090335675743, 0.6690602347473816,\n",
       "       0.728414537130003, 0.4674957041319674, 0.9145644966409736,\n",
       "       0.5234137094890345, 0.752538854265771, 0.8020840407768174,\n",
       "       0.006062239632045774, 0.13278028012546417, 0.47979112952528835,\n",
       "       0.7528238063353867, 0.5957929923257742, 0.06304118703342321,\n",
       "       0.5167287360061208, 0.7769129199172543, 0.8376432148893933,\n",
       "       0.7609888196136517, 0.4453591437374751, 0.23647298955138019,\n",
       "       0.3124047013889234, 0.7795578602978881, 0.4138400452209039,\n",
       "       0.7558188783862819, 0.5399776469125744, 0.9445047533836645,\n",
       "       0.3026123641971259, 0.6831301454583971, 0.20407627419427532,\n",
       "       0.34093832754738385, 0.7812861023536155, 0.18779269225370454,\n",
       "       0.6820257834329322, 0.16810317375871942, 0.5868551350847571,\n",
       "       0.9568788755829873, 0.2953729756997465, 0.5793207360749271,\n",
       "       0.05378351967561534, 0.013753621122461923, 0.478061230657172,\n",
       "       0.7130451396794203, 0.10545431272251116, 0.8495342015696895,\n",
       "       0.6870663958746354, 0.6154582983687014, 0.001551896783289597,\n",
       "       0.7485901315815124, 0.5938593818274481, 0.7847700994514558,\n",
       "       0.6603550361911176, 0.927271689403238, 0.04341292312204614,\n",
       "       0.824498057164808, 0.685976561614116, 0.8171681927640608,\n",
       "       0.9577139295036159, 0.9474159900494543, 0.2551665943721989,\n",
       "       0.6806078105394462, 0.46682995769803515, 0.9116979878812308,\n",
       "       0.5158218554403936, 0.26117278717572545, 0.008699765748634403,\n",
       "       0.16577813606385572, 0.5165866752979604, 0.5046611619351706,\n",
       "       0.37015943274623775, 0.6874513120246929, 0.4660847332692495,\n",
       "       0.2865697212702991, 0.013205020577124027, 0.8820905956542291,\n",
       "       0.9935068086120612, 0.3643471592908376, 0.2630593795060414,\n",
       "       0.16116658135929218, 0.9835980550465069, 0.7220634308577476,\n",
       "       0.5506295930864508, 0.9608199537203443, 0.00208246428033676,\n",
       "       0.901107959271417, 0.07344306410481816, 0.5085017379104678,\n",
       "       0.2967863732219972, 0.15760527021431625, 0.6457120332741441,\n",
       "       0.3632481617281281, 0.3029028786922907, 0.1806426515797438,\n",
       "       0.23210730355597242, 0.6960078553613608, 0.16390928336151855,\n",
       "       0.24175717598620494, 0.7010406972192011, 0.9185447205772123,\n",
       "       0.9509721747929132, 0.9899106085570257, 0.0873851804340725,\n",
       "       0.09664116285381841, 0.9822845580255924, 0.3962460275006313,\n",
       "       0.2622002402618925, 0.5445434830666618, 0.8129436912913013,\n",
       "       0.06474184883457801, 0.3759377657340657, 0.14369824036328904,\n",
       "       0.0030548819506829306, 0.45999742623988216, 0.6760169408367308,\n",
       "       0.15451976907383147, 0.8797060533875536, 0.9562548772858802,\n",
       "       0.843047224717929, 0.14244265777276055], dtype=object)"
      ]
     },
     "execution_count": 54,
     "metadata": {},
     "output_type": "execute_result"
    }
   ],
   "source": [
    "newdf[0].to_numpy()"
   ]
  }
 ],
 "metadata": {
  "kernelspec": {
   "display_name": "Python 3",
   "language": "python",
   "name": "python3"
  },
  "language_info": {
   "codemirror_mode": {
    "name": "ipython",
    "version": 3
   },
   "file_extension": ".py",
   "mimetype": "text/x-python",
   "name": "python",
   "nbconvert_exporter": "python",
   "pygments_lexer": "ipython3",
   "version": "3.7.6"
  }
 },
 "nbformat": 4,
 "nbformat_minor": 4
}
