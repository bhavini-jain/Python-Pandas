{
 "cells": [
  {
   "cell_type": "code",
   "execution_count": 1,
   "metadata": {},
   "outputs": [
    {
     "name": "stdout",
     "output_type": "stream",
     "text": [
      "Requirement already satisfied: pandas in c:\\anaconda\\lib\\site-packages (1.0.1)\n",
      "Requirement already satisfied: pytz>=2017.2 in c:\\anaconda\\lib\\site-packages (from pandas) (2019.3)\n",
      "Requirement already satisfied: numpy>=1.13.3 in c:\\anaconda\\lib\\site-packages (from pandas) (1.18.1)\n",
      "Requirement already satisfied: python-dateutil>=2.6.1 in c:\\anaconda\\lib\\site-packages (from pandas) (2.8.1)\n",
      "Requirement already satisfied: six>=1.5 in c:\\anaconda\\lib\\site-packages (from python-dateutil>=2.6.1->pandas) (1.14.0)\n",
      "Note: you may need to restart the kernel to use updated packages.\n"
     ]
    }
   ],
   "source": [
    "pip install pandas"
   ]
  },
  {
   "cell_type": "code",
   "execution_count": 83,
   "metadata": {},
   "outputs": [],
   "source": [
    "import pandas as pd"
   ]
  },
  {
   "cell_type": "code",
   "execution_count": 3,
   "metadata": {},
   "outputs": [
    {
     "name": "stderr",
     "output_type": "stream",
     "text": [
      "C:\\Anaconda\\lib\\site-packages\\ipykernel_launcher.py:1: DeprecationWarning: The default dtype for empty Series will be 'object' instead of 'float64' in a future version. Specify a dtype explicitly to silence this warning.\n",
      "  \"\"\"Entry point for launching an IPython kernel.\n"
     ]
    },
    {
     "name": "stdout",
     "output_type": "stream",
     "text": [
      "Series([], dtype: float64)\n"
     ]
    }
   ],
   "source": [
    "s = pd.Series()\n",
    "print(s)"
   ]
  },
  {
   "cell_type": "code",
   "execution_count": 5,
   "metadata": {},
   "outputs": [
    {
     "name": "stdout",
     "output_type": "stream",
     "text": [
      "0    a\n",
      "1    b\n",
      "2    c\n",
      "3    d\n",
      "dtype: object\n"
     ]
    }
   ],
   "source": [
    "import numpy as np\n",
    "data = np.array(['a','b','c','d'])\n",
    "s=pd.Series(data)\n",
    "print(s)"
   ]
  },
  {
   "cell_type": "code",
   "execution_count": 6,
   "metadata": {},
   "outputs": [
    {
     "name": "stdout",
     "output_type": "stream",
     "text": [
      "10    a\n",
      "20    b\n",
      "30    c\n",
      "40    d\n",
      "dtype: object\n"
     ]
    }
   ],
   "source": [
    "data = np.array(['a','b','c','d'])\n",
    "s=pd.Series(data,index=[10,20,30,40])\n",
    "print(s)"
   ]
  },
  {
   "cell_type": "code",
   "execution_count": 9,
   "metadata": {},
   "outputs": [
    {
     "name": "stdout",
     "output_type": "stream",
     "text": [
      "a    0\n",
      "b    1\n",
      "c    2\n",
      "d    3\n",
      "dtype: int64\n"
     ]
    }
   ],
   "source": [
    "data={'a':0,'b':1,'c':2,'d':3}\n",
    "s=pd.Series(data)\n",
    "print(s)"
   ]
  },
  {
   "cell_type": "code",
   "execution_count": 10,
   "metadata": {},
   "outputs": [
    {
     "name": "stdout",
     "output_type": "stream",
     "text": [
      "b    1.0\n",
      "c    2.0\n",
      "d    NaN\n",
      "a    0.0\n",
      "dtype: float64\n"
     ]
    }
   ],
   "source": [
    "data = {'a' : 0., 'b' : 1., 'c' : 2.}\n",
    "s = pd.Series(data,index=['b','c','d','a'])\n",
    "print (s)"
   ]
  },
  {
   "cell_type": "code",
   "execution_count": 12,
   "metadata": {},
   "outputs": [
    {
     "name": "stdout",
     "output_type": "stream",
     "text": [
      "0    5\n",
      "1    5\n",
      "2    5\n",
      "3    5\n",
      "dtype: int64\n"
     ]
    }
   ],
   "source": [
    "s = pd.Series(5, index=[0, 1, 2, 3])\n",
    "print (s)"
   ]
  },
  {
   "cell_type": "code",
   "execution_count": 13,
   "metadata": {},
   "outputs": [
    {
     "name": "stdout",
     "output_type": "stream",
     "text": [
      "1\n"
     ]
    }
   ],
   "source": [
    "s = pd.Series([1,2,3,4,5],index = ['a','b','c','d','e'])\n",
    "\n",
    "#retrieve the first element\n",
    "print (s[0])"
   ]
  },
  {
   "cell_type": "code",
   "execution_count": 16,
   "metadata": {},
   "outputs": [
    {
     "name": "stdout",
     "output_type": "stream",
     "text": [
      "a    1\n",
      "b    2\n",
      "c    3\n",
      "dtype: int64\n"
     ]
    }
   ],
   "source": [
    "s = pd.Series([1,2,3,4,5],index = ['a','b','c','d','e'])\n",
    "\n",
    "#retrieve the first three element\n",
    "print (s[:3])"
   ]
  },
  {
   "cell_type": "code",
   "execution_count": 18,
   "metadata": {},
   "outputs": [
    {
     "name": "stdout",
     "output_type": "stream",
     "text": [
      "c    3\n",
      "d    4\n",
      "e    5\n",
      "dtype: int64\n"
     ]
    }
   ],
   "source": [
    "s = pd.Series([1,2,3,4,5],index = ['a','b','c','d','e'])\n",
    "\n",
    "#retrieve the last three element\n",
    "print (s[-3:])"
   ]
  },
  {
   "cell_type": "code",
   "execution_count": 20,
   "metadata": {},
   "outputs": [
    {
     "name": "stdout",
     "output_type": "stream",
     "text": [
      "3\n"
     ]
    }
   ],
   "source": [
    "s = pd.Series([1,2,3,4,5],index = ['a','b','c','d','e'])\n",
    "\n",
    "#retrieve a single element\n",
    "print (s['c'])"
   ]
  },
  {
   "cell_type": "code",
   "execution_count": 21,
   "metadata": {},
   "outputs": [
    {
     "name": "stdout",
     "output_type": "stream",
     "text": [
      "a    1\n",
      "c    3\n",
      "d    4\n",
      "dtype: int64\n"
     ]
    }
   ],
   "source": [
    "s = pd.Series([1,2,3,4,5],index = ['a','b','c','d','e'])\n",
    "\n",
    "#retrieve multiple elements\n",
    "print (s[['a','c','d']])"
   ]
  },
  {
   "cell_type": "code",
   "execution_count": 22,
   "metadata": {},
   "outputs": [
    {
     "ename": "KeyError",
     "evalue": "'f'",
     "output_type": "error",
     "traceback": [
      "\u001b[1;31m---------------------------------------------------------------------------\u001b[0m",
      "\u001b[1;31mTypeError\u001b[0m                                 Traceback (most recent call last)",
      "\u001b[1;32mC:\\Anaconda\\lib\\site-packages\\pandas\\core\\indexes\\base.py\u001b[0m in \u001b[0;36mget_value\u001b[1;34m(self, series, key)\u001b[0m\n\u001b[0;32m   4410\u001b[0m             \u001b[1;32mtry\u001b[0m\u001b[1;33m:\u001b[0m\u001b[1;33m\u001b[0m\u001b[1;33m\u001b[0m\u001b[0m\n\u001b[1;32m-> 4411\u001b[1;33m                 \u001b[1;32mreturn\u001b[0m \u001b[0mlibindex\u001b[0m\u001b[1;33m.\u001b[0m\u001b[0mget_value_at\u001b[0m\u001b[1;33m(\u001b[0m\u001b[0ms\u001b[0m\u001b[1;33m,\u001b[0m \u001b[0mkey\u001b[0m\u001b[1;33m)\u001b[0m\u001b[1;33m\u001b[0m\u001b[1;33m\u001b[0m\u001b[0m\n\u001b[0m\u001b[0;32m   4412\u001b[0m             \u001b[1;32mexcept\u001b[0m \u001b[0mIndexError\u001b[0m\u001b[1;33m:\u001b[0m\u001b[1;33m\u001b[0m\u001b[1;33m\u001b[0m\u001b[0m\n",
      "\u001b[1;32mpandas\\_libs\\index.pyx\u001b[0m in \u001b[0;36mpandas._libs.index.get_value_at\u001b[1;34m()\u001b[0m\n",
      "\u001b[1;32mpandas\\_libs\\index.pyx\u001b[0m in \u001b[0;36mpandas._libs.index.get_value_at\u001b[1;34m()\u001b[0m\n",
      "\u001b[1;32mpandas\\_libs\\util.pxd\u001b[0m in \u001b[0;36mpandas._libs.util.get_value_at\u001b[1;34m()\u001b[0m\n",
      "\u001b[1;32mpandas\\_libs\\util.pxd\u001b[0m in \u001b[0;36mpandas._libs.util.validate_indexer\u001b[1;34m()\u001b[0m\n",
      "\u001b[1;31mTypeError\u001b[0m: 'str' object cannot be interpreted as an integer",
      "\nDuring handling of the above exception, another exception occurred:\n",
      "\u001b[1;31mKeyError\u001b[0m                                  Traceback (most recent call last)",
      "\u001b[1;32m<ipython-input-22-5afc8eba237a>\u001b[0m in \u001b[0;36m<module>\u001b[1;34m\u001b[0m\n\u001b[0;32m      2\u001b[0m \u001b[1;33m\u001b[0m\u001b[0m\n\u001b[0;32m      3\u001b[0m \u001b[1;31m#retrieve multiple elements\u001b[0m\u001b[1;33m\u001b[0m\u001b[1;33m\u001b[0m\u001b[1;33m\u001b[0m\u001b[0m\n\u001b[1;32m----> 4\u001b[1;33m \u001b[0mprint\u001b[0m \u001b[1;33m(\u001b[0m\u001b[0ms\u001b[0m\u001b[1;33m[\u001b[0m\u001b[1;34m'f'\u001b[0m\u001b[1;33m]\u001b[0m\u001b[1;33m)\u001b[0m\u001b[1;33m\u001b[0m\u001b[1;33m\u001b[0m\u001b[0m\n\u001b[0m",
      "\u001b[1;32mC:\\Anaconda\\lib\\site-packages\\pandas\\core\\series.py\u001b[0m in \u001b[0;36m__getitem__\u001b[1;34m(self, key)\u001b[0m\n\u001b[0;32m    869\u001b[0m         \u001b[0mkey\u001b[0m \u001b[1;33m=\u001b[0m \u001b[0mcom\u001b[0m\u001b[1;33m.\u001b[0m\u001b[0mapply_if_callable\u001b[0m\u001b[1;33m(\u001b[0m\u001b[0mkey\u001b[0m\u001b[1;33m,\u001b[0m \u001b[0mself\u001b[0m\u001b[1;33m)\u001b[0m\u001b[1;33m\u001b[0m\u001b[1;33m\u001b[0m\u001b[0m\n\u001b[0;32m    870\u001b[0m         \u001b[1;32mtry\u001b[0m\u001b[1;33m:\u001b[0m\u001b[1;33m\u001b[0m\u001b[1;33m\u001b[0m\u001b[0m\n\u001b[1;32m--> 871\u001b[1;33m             \u001b[0mresult\u001b[0m \u001b[1;33m=\u001b[0m \u001b[0mself\u001b[0m\u001b[1;33m.\u001b[0m\u001b[0mindex\u001b[0m\u001b[1;33m.\u001b[0m\u001b[0mget_value\u001b[0m\u001b[1;33m(\u001b[0m\u001b[0mself\u001b[0m\u001b[1;33m,\u001b[0m \u001b[0mkey\u001b[0m\u001b[1;33m)\u001b[0m\u001b[1;33m\u001b[0m\u001b[1;33m\u001b[0m\u001b[0m\n\u001b[0m\u001b[0;32m    872\u001b[0m \u001b[1;33m\u001b[0m\u001b[0m\n\u001b[0;32m    873\u001b[0m             \u001b[1;32mif\u001b[0m \u001b[1;32mnot\u001b[0m \u001b[0mis_scalar\u001b[0m\u001b[1;33m(\u001b[0m\u001b[0mresult\u001b[0m\u001b[1;33m)\u001b[0m\u001b[1;33m:\u001b[0m\u001b[1;33m\u001b[0m\u001b[1;33m\u001b[0m\u001b[0m\n",
      "\u001b[1;32mC:\\Anaconda\\lib\\site-packages\\pandas\\core\\indexes\\base.py\u001b[0m in \u001b[0;36mget_value\u001b[1;34m(self, series, key)\u001b[0m\n\u001b[0;32m   4417\u001b[0m                     \u001b[1;32mraise\u001b[0m \u001b[0mInvalidIndexError\u001b[0m\u001b[1;33m(\u001b[0m\u001b[0mkey\u001b[0m\u001b[1;33m)\u001b[0m\u001b[1;33m\u001b[0m\u001b[1;33m\u001b[0m\u001b[0m\n\u001b[0;32m   4418\u001b[0m                 \u001b[1;32melse\u001b[0m\u001b[1;33m:\u001b[0m\u001b[1;33m\u001b[0m\u001b[1;33m\u001b[0m\u001b[0m\n\u001b[1;32m-> 4419\u001b[1;33m                     \u001b[1;32mraise\u001b[0m \u001b[0me1\u001b[0m\u001b[1;33m\u001b[0m\u001b[1;33m\u001b[0m\u001b[0m\n\u001b[0m\u001b[0;32m   4420\u001b[0m             \u001b[1;32mexcept\u001b[0m \u001b[0mException\u001b[0m\u001b[1;33m:\u001b[0m\u001b[1;33m\u001b[0m\u001b[1;33m\u001b[0m\u001b[0m\n\u001b[0;32m   4421\u001b[0m                 \u001b[1;32mraise\u001b[0m \u001b[0me1\u001b[0m\u001b[1;33m\u001b[0m\u001b[1;33m\u001b[0m\u001b[0m\n",
      "\u001b[1;32mC:\\Anaconda\\lib\\site-packages\\pandas\\core\\indexes\\base.py\u001b[0m in \u001b[0;36mget_value\u001b[1;34m(self, series, key)\u001b[0m\n\u001b[0;32m   4403\u001b[0m         \u001b[0mk\u001b[0m \u001b[1;33m=\u001b[0m \u001b[0mself\u001b[0m\u001b[1;33m.\u001b[0m\u001b[0m_convert_scalar_indexer\u001b[0m\u001b[1;33m(\u001b[0m\u001b[0mk\u001b[0m\u001b[1;33m,\u001b[0m \u001b[0mkind\u001b[0m\u001b[1;33m=\u001b[0m\u001b[1;34m\"getitem\"\u001b[0m\u001b[1;33m)\u001b[0m\u001b[1;33m\u001b[0m\u001b[1;33m\u001b[0m\u001b[0m\n\u001b[0;32m   4404\u001b[0m         \u001b[1;32mtry\u001b[0m\u001b[1;33m:\u001b[0m\u001b[1;33m\u001b[0m\u001b[1;33m\u001b[0m\u001b[0m\n\u001b[1;32m-> 4405\u001b[1;33m             \u001b[1;32mreturn\u001b[0m \u001b[0mself\u001b[0m\u001b[1;33m.\u001b[0m\u001b[0m_engine\u001b[0m\u001b[1;33m.\u001b[0m\u001b[0mget_value\u001b[0m\u001b[1;33m(\u001b[0m\u001b[0ms\u001b[0m\u001b[1;33m,\u001b[0m \u001b[0mk\u001b[0m\u001b[1;33m,\u001b[0m \u001b[0mtz\u001b[0m\u001b[1;33m=\u001b[0m\u001b[0mgetattr\u001b[0m\u001b[1;33m(\u001b[0m\u001b[0mseries\u001b[0m\u001b[1;33m.\u001b[0m\u001b[0mdtype\u001b[0m\u001b[1;33m,\u001b[0m \u001b[1;34m\"tz\"\u001b[0m\u001b[1;33m,\u001b[0m \u001b[1;32mNone\u001b[0m\u001b[1;33m)\u001b[0m\u001b[1;33m)\u001b[0m\u001b[1;33m\u001b[0m\u001b[1;33m\u001b[0m\u001b[0m\n\u001b[0m\u001b[0;32m   4406\u001b[0m         \u001b[1;32mexcept\u001b[0m \u001b[0mKeyError\u001b[0m \u001b[1;32mas\u001b[0m \u001b[0me1\u001b[0m\u001b[1;33m:\u001b[0m\u001b[1;33m\u001b[0m\u001b[1;33m\u001b[0m\u001b[0m\n\u001b[0;32m   4407\u001b[0m             \u001b[1;32mif\u001b[0m \u001b[0mlen\u001b[0m\u001b[1;33m(\u001b[0m\u001b[0mself\u001b[0m\u001b[1;33m)\u001b[0m \u001b[1;33m>\u001b[0m \u001b[1;36m0\u001b[0m \u001b[1;32mand\u001b[0m \u001b[1;33m(\u001b[0m\u001b[0mself\u001b[0m\u001b[1;33m.\u001b[0m\u001b[0mholds_integer\u001b[0m\u001b[1;33m(\u001b[0m\u001b[1;33m)\u001b[0m \u001b[1;32mor\u001b[0m \u001b[0mself\u001b[0m\u001b[1;33m.\u001b[0m\u001b[0mis_boolean\u001b[0m\u001b[1;33m(\u001b[0m\u001b[1;33m)\u001b[0m\u001b[1;33m)\u001b[0m\u001b[1;33m:\u001b[0m\u001b[1;33m\u001b[0m\u001b[1;33m\u001b[0m\u001b[0m\n",
      "\u001b[1;32mpandas\\_libs\\index.pyx\u001b[0m in \u001b[0;36mpandas._libs.index.IndexEngine.get_value\u001b[1;34m()\u001b[0m\n",
      "\u001b[1;32mpandas\\_libs\\index.pyx\u001b[0m in \u001b[0;36mpandas._libs.index.IndexEngine.get_value\u001b[1;34m()\u001b[0m\n",
      "\u001b[1;32mpandas\\_libs\\index.pyx\u001b[0m in \u001b[0;36mpandas._libs.index.IndexEngine.get_loc\u001b[1;34m()\u001b[0m\n",
      "\u001b[1;32mpandas\\_libs\\hashtable_class_helper.pxi\u001b[0m in \u001b[0;36mpandas._libs.hashtable.PyObjectHashTable.get_item\u001b[1;34m()\u001b[0m\n",
      "\u001b[1;32mpandas\\_libs\\hashtable_class_helper.pxi\u001b[0m in \u001b[0;36mpandas._libs.hashtable.PyObjectHashTable.get_item\u001b[1;34m()\u001b[0m\n",
      "\u001b[1;31mKeyError\u001b[0m: 'f'"
     ]
    }
   ],
   "source": [
    "s = pd.Series([1,2,3,4,5],index = ['a','b','c','d','e'])\n",
    "\n",
    "#retrieve multiple elements\n",
    "print (s['f'])"
   ]
  },
  {
   "cell_type": "code",
   "execution_count": 23,
   "metadata": {},
   "outputs": [
    {
     "name": "stdout",
     "output_type": "stream",
     "text": [
      "Empty DataFrame\n",
      "Columns: []\n",
      "Index: []\n"
     ]
    }
   ],
   "source": [
    "df = pd.DataFrame()\n",
    "print(df)"
   ]
  },
  {
   "cell_type": "code",
   "execution_count": 24,
   "metadata": {},
   "outputs": [
    {
     "name": "stdout",
     "output_type": "stream",
     "text": [
      "   0\n",
      "0  1\n",
      "1  2\n",
      "2  3\n",
      "3  4\n",
      "4  5\n"
     ]
    }
   ],
   "source": [
    "data=[1,2,3,4,5]\n",
    "df = pd.DataFrame(data)\n",
    "print(df)\n"
   ]
  },
  {
   "cell_type": "code",
   "execution_count": 27,
   "metadata": {},
   "outputs": [
    {
     "name": "stdout",
     "output_type": "stream",
     "text": [
      "     Name  Age\n",
      "0    Alex   10\n",
      "1     Bob   12\n",
      "2  Clarke   13\n"
     ]
    }
   ],
   "source": [
    "data = [['Alex',10],['Bob',12],['Clarke',13]]\n",
    "df = pd.DataFrame(data,columns=['Name','Age'])\n",
    "print (df)"
   ]
  },
  {
   "cell_type": "code",
   "execution_count": 29,
   "metadata": {},
   "outputs": [
    {
     "name": "stdout",
     "output_type": "stream",
     "text": [
      "     Name   Age\n",
      "0    Alex  10.0\n",
      "1     Bob  12.0\n",
      "2  Clarke  13.0\n"
     ]
    }
   ],
   "source": [
    "data = [['Alex',10],['Bob',12],['Clarke',13]]\n",
    "df = pd.DataFrame(data,columns=['Name','Age'],dtype=float)\n",
    "print (df)"
   ]
  },
  {
   "cell_type": "code",
   "execution_count": 30,
   "metadata": {},
   "outputs": [
    {
     "name": "stdout",
     "output_type": "stream",
     "text": [
      "    Name  Age\n",
      "0    Tom   28\n",
      "1   Jack   34\n",
      "2  Steve   29\n",
      "3  Ricky   42\n"
     ]
    }
   ],
   "source": [
    "data = {'Name':['Tom', 'Jack', 'Steve', 'Ricky'],'Age':[28,34,29,42]}\n",
    "df = pd.DataFrame(data)\n",
    "print (df)"
   ]
  },
  {
   "cell_type": "code",
   "execution_count": 31,
   "metadata": {},
   "outputs": [
    {
     "name": "stdout",
     "output_type": "stream",
     "text": [
      "        a   b     c\n",
      "first   1   2   NaN\n",
      "second  5  10  20.0\n"
     ]
    }
   ],
   "source": [
    "data = [{'a': 1, 'b': 2},{'a': 5, 'b': 10, 'c': 20}]\n",
    "df = pd.DataFrame(data, index=['first', 'second'])\n",
    "print (df)"
   ]
  },
  {
   "cell_type": "code",
   "execution_count": 32,
   "metadata": {},
   "outputs": [
    {
     "name": "stdout",
     "output_type": "stream",
     "text": [
      "        a   b\n",
      "first   1   2\n",
      "second  5  10\n",
      "        a  b1\n",
      "first   1 NaN\n",
      "second  5 NaN\n"
     ]
    }
   ],
   "source": [
    "data = [{'a': 1, 'b': 2},{'a': 5, 'b': 10, 'c': 20}]\n",
    "\n",
    "#With two column indices, values same as dictionary keys\n",
    "df1 = pd.DataFrame(data, index=['first', 'second'], columns=['a', 'b'])\n",
    "\n",
    "#With two column indices with one index with other name\n",
    "df2 = pd.DataFrame(data, index=['first', 'second'], columns=['a', 'b1'])\n",
    "print (df1)\n",
    "print (df2)"
   ]
  },
  {
   "cell_type": "code",
   "execution_count": 33,
   "metadata": {},
   "outputs": [
    {
     "name": "stdout",
     "output_type": "stream",
     "text": [
      "   one  two\n",
      "a  1.0    1\n",
      "b  2.0    2\n",
      "c  3.0    3\n",
      "d  NaN    4\n"
     ]
    }
   ],
   "source": [
    "d = {'one' : pd.Series([1, 2, 3], index=['a', 'b', 'c']),\n",
    "   'two' : pd.Series([1, 2, 3, 4], index=['a', 'b', 'c', 'd'])}\n",
    "\n",
    "df = pd.DataFrame(d)\n",
    "print (df)"
   ]
  },
  {
   "cell_type": "code",
   "execution_count": 90,
   "metadata": {},
   "outputs": [],
   "source": [
    "import pandas as pd\n",
    "import numpy as np\n",
    "newdf=pd.DataFrame(np.random.rand(300,5),index=np.arange(101,401))"
   ]
  },
  {
   "cell_type": "code",
   "execution_count": 5,
   "metadata": {},
   "outputs": [
    {
     "data": {
      "text/html": [
       "<div>\n",
       "<style scoped>\n",
       "    .dataframe tbody tr th:only-of-type {\n",
       "        vertical-align: middle;\n",
       "    }\n",
       "\n",
       "    .dataframe tbody tr th {\n",
       "        vertical-align: top;\n",
       "    }\n",
       "\n",
       "    .dataframe thead th {\n",
       "        text-align: right;\n",
       "    }\n",
       "</style>\n",
       "<table border=\"1\" class=\"dataframe\">\n",
       "  <thead>\n",
       "    <tr style=\"text-align: right;\">\n",
       "      <th></th>\n",
       "      <th>0</th>\n",
       "      <th>1</th>\n",
       "      <th>2</th>\n",
       "      <th>3</th>\n",
       "      <th>4</th>\n",
       "    </tr>\n",
       "  </thead>\n",
       "  <tbody>\n",
       "    <tr>\n",
       "      <th>101</th>\n",
       "      <td>0.198963</td>\n",
       "      <td>0.409293</td>\n",
       "      <td>0.489165</td>\n",
       "      <td>0.687367</td>\n",
       "      <td>0.480822</td>\n",
       "    </tr>\n",
       "    <tr>\n",
       "      <th>102</th>\n",
       "      <td>0.286209</td>\n",
       "      <td>0.297536</td>\n",
       "      <td>0.083077</td>\n",
       "      <td>0.295641</td>\n",
       "      <td>0.461860</td>\n",
       "    </tr>\n",
       "    <tr>\n",
       "      <th>103</th>\n",
       "      <td>0.607689</td>\n",
       "      <td>0.415759</td>\n",
       "      <td>0.335381</td>\n",
       "      <td>0.485997</td>\n",
       "      <td>0.981968</td>\n",
       "    </tr>\n",
       "    <tr>\n",
       "      <th>104</th>\n",
       "      <td>0.988551</td>\n",
       "      <td>0.707449</td>\n",
       "      <td>0.722021</td>\n",
       "      <td>0.815020</td>\n",
       "      <td>0.741543</td>\n",
       "    </tr>\n",
       "    <tr>\n",
       "      <th>105</th>\n",
       "      <td>0.286765</td>\n",
       "      <td>0.253285</td>\n",
       "      <td>0.507106</td>\n",
       "      <td>0.815619</td>\n",
       "      <td>0.337973</td>\n",
       "    </tr>\n",
       "    <tr>\n",
       "      <th>...</th>\n",
       "      <td>...</td>\n",
       "      <td>...</td>\n",
       "      <td>...</td>\n",
       "      <td>...</td>\n",
       "      <td>...</td>\n",
       "    </tr>\n",
       "    <tr>\n",
       "      <th>396</th>\n",
       "      <td>0.548725</td>\n",
       "      <td>0.979460</td>\n",
       "      <td>0.020597</td>\n",
       "      <td>0.525332</td>\n",
       "      <td>0.627650</td>\n",
       "    </tr>\n",
       "    <tr>\n",
       "      <th>397</th>\n",
       "      <td>0.574653</td>\n",
       "      <td>0.933232</td>\n",
       "      <td>0.308025</td>\n",
       "      <td>0.840045</td>\n",
       "      <td>0.545375</td>\n",
       "    </tr>\n",
       "    <tr>\n",
       "      <th>398</th>\n",
       "      <td>0.955948</td>\n",
       "      <td>0.263059</td>\n",
       "      <td>0.366964</td>\n",
       "      <td>0.939503</td>\n",
       "      <td>0.647720</td>\n",
       "    </tr>\n",
       "    <tr>\n",
       "      <th>399</th>\n",
       "      <td>0.756369</td>\n",
       "      <td>0.161190</td>\n",
       "      <td>0.560432</td>\n",
       "      <td>0.768491</td>\n",
       "      <td>0.872633</td>\n",
       "    </tr>\n",
       "    <tr>\n",
       "      <th>400</th>\n",
       "      <td>0.153358</td>\n",
       "      <td>0.583771</td>\n",
       "      <td>0.551714</td>\n",
       "      <td>0.845158</td>\n",
       "      <td>0.458668</td>\n",
       "    </tr>\n",
       "  </tbody>\n",
       "</table>\n",
       "<p>300 rows × 5 columns</p>\n",
       "</div>"
      ],
      "text/plain": [
       "            0         1         2         3         4\n",
       "101  0.198963  0.409293  0.489165  0.687367  0.480822\n",
       "102  0.286209  0.297536  0.083077  0.295641  0.461860\n",
       "103  0.607689  0.415759  0.335381  0.485997  0.981968\n",
       "104  0.988551  0.707449  0.722021  0.815020  0.741543\n",
       "105  0.286765  0.253285  0.507106  0.815619  0.337973\n",
       "..        ...       ...       ...       ...       ...\n",
       "396  0.548725  0.979460  0.020597  0.525332  0.627650\n",
       "397  0.574653  0.933232  0.308025  0.840045  0.545375\n",
       "398  0.955948  0.263059  0.366964  0.939503  0.647720\n",
       "399  0.756369  0.161190  0.560432  0.768491  0.872633\n",
       "400  0.153358  0.583771  0.551714  0.845158  0.458668\n",
       "\n",
       "[300 rows x 5 columns]"
      ]
     },
     "execution_count": 5,
     "metadata": {},
     "output_type": "execute_result"
    }
   ],
   "source": [
    "newdf"
   ]
  },
  {
   "cell_type": "code",
   "execution_count": 6,
   "metadata": {},
   "outputs": [
    {
     "data": {
      "text/html": [
       "<div>\n",
       "<style scoped>\n",
       "    .dataframe tbody tr th:only-of-type {\n",
       "        vertical-align: middle;\n",
       "    }\n",
       "\n",
       "    .dataframe tbody tr th {\n",
       "        vertical-align: top;\n",
       "    }\n",
       "\n",
       "    .dataframe thead th {\n",
       "        text-align: right;\n",
       "    }\n",
       "</style>\n",
       "<table border=\"1\" class=\"dataframe\">\n",
       "  <thead>\n",
       "    <tr style=\"text-align: right;\">\n",
       "      <th></th>\n",
       "      <th>0</th>\n",
       "      <th>1</th>\n",
       "      <th>2</th>\n",
       "      <th>3</th>\n",
       "      <th>4</th>\n",
       "    </tr>\n",
       "  </thead>\n",
       "  <tbody>\n",
       "    <tr>\n",
       "      <th>count</th>\n",
       "      <td>300.000000</td>\n",
       "      <td>300.000000</td>\n",
       "      <td>300.000000</td>\n",
       "      <td>300.000000</td>\n",
       "      <td>300.000000</td>\n",
       "    </tr>\n",
       "    <tr>\n",
       "      <th>mean</th>\n",
       "      <td>0.486682</td>\n",
       "      <td>0.493771</td>\n",
       "      <td>0.508852</td>\n",
       "      <td>0.500588</td>\n",
       "      <td>0.534874</td>\n",
       "    </tr>\n",
       "    <tr>\n",
       "      <th>std</th>\n",
       "      <td>0.282422</td>\n",
       "      <td>0.294966</td>\n",
       "      <td>0.293139</td>\n",
       "      <td>0.296088</td>\n",
       "      <td>0.283379</td>\n",
       "    </tr>\n",
       "    <tr>\n",
       "      <th>min</th>\n",
       "      <td>0.000182</td>\n",
       "      <td>0.001027</td>\n",
       "      <td>0.000780</td>\n",
       "      <td>0.001970</td>\n",
       "      <td>0.010366</td>\n",
       "    </tr>\n",
       "    <tr>\n",
       "      <th>25%</th>\n",
       "      <td>0.257513</td>\n",
       "      <td>0.236532</td>\n",
       "      <td>0.241978</td>\n",
       "      <td>0.240013</td>\n",
       "      <td>0.291483</td>\n",
       "    </tr>\n",
       "    <tr>\n",
       "      <th>50%</th>\n",
       "      <td>0.488508</td>\n",
       "      <td>0.471565</td>\n",
       "      <td>0.529042</td>\n",
       "      <td>0.483554</td>\n",
       "      <td>0.563769</td>\n",
       "    </tr>\n",
       "    <tr>\n",
       "      <th>75%</th>\n",
       "      <td>0.738101</td>\n",
       "      <td>0.736328</td>\n",
       "      <td>0.764363</td>\n",
       "      <td>0.748416</td>\n",
       "      <td>0.785661</td>\n",
       "    </tr>\n",
       "    <tr>\n",
       "      <th>max</th>\n",
       "      <td>0.993615</td>\n",
       "      <td>0.999397</td>\n",
       "      <td>0.998713</td>\n",
       "      <td>0.994452</td>\n",
       "      <td>0.993822</td>\n",
       "    </tr>\n",
       "  </tbody>\n",
       "</table>\n",
       "</div>"
      ],
      "text/plain": [
       "                0           1           2           3           4\n",
       "count  300.000000  300.000000  300.000000  300.000000  300.000000\n",
       "mean     0.486682    0.493771    0.508852    0.500588    0.534874\n",
       "std      0.282422    0.294966    0.293139    0.296088    0.283379\n",
       "min      0.000182    0.001027    0.000780    0.001970    0.010366\n",
       "25%      0.257513    0.236532    0.241978    0.240013    0.291483\n",
       "50%      0.488508    0.471565    0.529042    0.483554    0.563769\n",
       "75%      0.738101    0.736328    0.764363    0.748416    0.785661\n",
       "max      0.993615    0.999397    0.998713    0.994452    0.993822"
      ]
     },
     "execution_count": 6,
     "metadata": {},
     "output_type": "execute_result"
    }
   ],
   "source": [
    "newdf.describe()"
   ]
  },
  {
   "cell_type": "code",
   "execution_count": 7,
   "metadata": {},
   "outputs": [
    {
     "name": "stdout",
     "output_type": "stream",
     "text": [
      "<class 'pandas.core.frame.DataFrame'>\n",
      "Int64Index: 300 entries, 101 to 400\n",
      "Data columns (total 5 columns):\n",
      " #   Column  Non-Null Count  Dtype  \n",
      "---  ------  --------------  -----  \n",
      " 0   0       300 non-null    float64\n",
      " 1   1       300 non-null    float64\n",
      " 2   2       300 non-null    float64\n",
      " 3   3       300 non-null    float64\n",
      " 4   4       300 non-null    float64\n",
      "dtypes: float64(5)\n",
      "memory usage: 14.1 KB\n"
     ]
    }
   ],
   "source": [
    "newdf.info()"
   ]
  },
  {
   "cell_type": "code",
   "execution_count": 9,
   "metadata": {},
   "outputs": [
    {
     "data": {
      "text/html": [
       "<div>\n",
       "<style scoped>\n",
       "    .dataframe tbody tr th:only-of-type {\n",
       "        vertical-align: middle;\n",
       "    }\n",
       "\n",
       "    .dataframe tbody tr th {\n",
       "        vertical-align: top;\n",
       "    }\n",
       "\n",
       "    .dataframe thead th {\n",
       "        text-align: right;\n",
       "    }\n",
       "</style>\n",
       "<table border=\"1\" class=\"dataframe\">\n",
       "  <thead>\n",
       "    <tr style=\"text-align: right;\">\n",
       "      <th></th>\n",
       "      <th>0</th>\n",
       "      <th>1</th>\n",
       "      <th>2</th>\n",
       "      <th>3</th>\n",
       "      <th>4</th>\n",
       "    </tr>\n",
       "  </thead>\n",
       "  <tbody>\n",
       "    <tr>\n",
       "      <th>101</th>\n",
       "      <td>NaN</td>\n",
       "      <td>0.409293</td>\n",
       "      <td>0.489165</td>\n",
       "      <td>0.687367</td>\n",
       "      <td>0.480822</td>\n",
       "    </tr>\n",
       "    <tr>\n",
       "      <th>102</th>\n",
       "      <td>0.286209</td>\n",
       "      <td>0.297536</td>\n",
       "      <td>0.083077</td>\n",
       "      <td>0.295641</td>\n",
       "      <td>0.461860</td>\n",
       "    </tr>\n",
       "    <tr>\n",
       "      <th>103</th>\n",
       "      <td>0.607689</td>\n",
       "      <td>0.415759</td>\n",
       "      <td>0.335381</td>\n",
       "      <td>0.485997</td>\n",
       "      <td>0.981968</td>\n",
       "    </tr>\n",
       "    <tr>\n",
       "      <th>104</th>\n",
       "      <td>0.988551</td>\n",
       "      <td>0.707449</td>\n",
       "      <td>0.722021</td>\n",
       "      <td>0.815020</td>\n",
       "      <td>0.741543</td>\n",
       "    </tr>\n",
       "    <tr>\n",
       "      <th>105</th>\n",
       "      <td>0.286765</td>\n",
       "      <td>0.253285</td>\n",
       "      <td>0.507106</td>\n",
       "      <td>0.815619</td>\n",
       "      <td>0.337973</td>\n",
       "    </tr>\n",
       "    <tr>\n",
       "      <th>...</th>\n",
       "      <td>...</td>\n",
       "      <td>...</td>\n",
       "      <td>...</td>\n",
       "      <td>...</td>\n",
       "      <td>...</td>\n",
       "    </tr>\n",
       "    <tr>\n",
       "      <th>396</th>\n",
       "      <td>0.548725</td>\n",
       "      <td>0.979460</td>\n",
       "      <td>0.020597</td>\n",
       "      <td>0.525332</td>\n",
       "      <td>0.627650</td>\n",
       "    </tr>\n",
       "    <tr>\n",
       "      <th>397</th>\n",
       "      <td>0.574653</td>\n",
       "      <td>0.933232</td>\n",
       "      <td>0.308025</td>\n",
       "      <td>0.840045</td>\n",
       "      <td>0.545375</td>\n",
       "    </tr>\n",
       "    <tr>\n",
       "      <th>398</th>\n",
       "      <td>0.955948</td>\n",
       "      <td>0.263059</td>\n",
       "      <td>0.366964</td>\n",
       "      <td>0.939503</td>\n",
       "      <td>0.647720</td>\n",
       "    </tr>\n",
       "    <tr>\n",
       "      <th>399</th>\n",
       "      <td>0.756369</td>\n",
       "      <td>0.161190</td>\n",
       "      <td>0.560432</td>\n",
       "      <td>0.768491</td>\n",
       "      <td>0.872633</td>\n",
       "    </tr>\n",
       "    <tr>\n",
       "      <th>400</th>\n",
       "      <td>0.153358</td>\n",
       "      <td>0.583771</td>\n",
       "      <td>0.551714</td>\n",
       "      <td>0.845158</td>\n",
       "      <td>0.458668</td>\n",
       "    </tr>\n",
       "  </tbody>\n",
       "</table>\n",
       "<p>300 rows × 5 columns</p>\n",
       "</div>"
      ],
      "text/plain": [
       "            0         1         2         3         4\n",
       "101       NaN  0.409293  0.489165  0.687367  0.480822\n",
       "102  0.286209  0.297536  0.083077  0.295641  0.461860\n",
       "103  0.607689  0.415759  0.335381  0.485997  0.981968\n",
       "104  0.988551  0.707449  0.722021  0.815020  0.741543\n",
       "105  0.286765  0.253285  0.507106  0.815619  0.337973\n",
       "..        ...       ...       ...       ...       ...\n",
       "396  0.548725  0.979460  0.020597  0.525332  0.627650\n",
       "397  0.574653  0.933232  0.308025  0.840045  0.545375\n",
       "398  0.955948  0.263059  0.366964  0.939503  0.647720\n",
       "399  0.756369  0.161190  0.560432  0.768491  0.872633\n",
       "400  0.153358  0.583771  0.551714  0.845158  0.458668\n",
       "\n",
       "[300 rows x 5 columns]"
      ]
     },
     "execution_count": 9,
     "metadata": {},
     "output_type": "execute_result"
    }
   ],
   "source": [
    "newdf[0][101]=np.nan\n",
    "newdf"
   ]
  },
  {
   "cell_type": "code",
   "execution_count": 10,
   "metadata": {},
   "outputs": [
    {
     "data": {
      "text/html": [
       "<div>\n",
       "<style scoped>\n",
       "    .dataframe tbody tr th:only-of-type {\n",
       "        vertical-align: middle;\n",
       "    }\n",
       "\n",
       "    .dataframe tbody tr th {\n",
       "        vertical-align: top;\n",
       "    }\n",
       "\n",
       "    .dataframe thead th {\n",
       "        text-align: right;\n",
       "    }\n",
       "</style>\n",
       "<table border=\"1\" class=\"dataframe\">\n",
       "  <thead>\n",
       "    <tr style=\"text-align: right;\">\n",
       "      <th></th>\n",
       "      <th>0</th>\n",
       "      <th>1</th>\n",
       "      <th>2</th>\n",
       "      <th>3</th>\n",
       "      <th>4</th>\n",
       "    </tr>\n",
       "  </thead>\n",
       "  <tbody>\n",
       "    <tr>\n",
       "      <th>count</th>\n",
       "      <td>299.000000</td>\n",
       "      <td>300.000000</td>\n",
       "      <td>300.000000</td>\n",
       "      <td>300.000000</td>\n",
       "      <td>300.000000</td>\n",
       "    </tr>\n",
       "    <tr>\n",
       "      <th>mean</th>\n",
       "      <td>0.487644</td>\n",
       "      <td>0.493771</td>\n",
       "      <td>0.508852</td>\n",
       "      <td>0.500588</td>\n",
       "      <td>0.534874</td>\n",
       "    </tr>\n",
       "    <tr>\n",
       "      <th>std</th>\n",
       "      <td>0.282403</td>\n",
       "      <td>0.294966</td>\n",
       "      <td>0.293139</td>\n",
       "      <td>0.296088</td>\n",
       "      <td>0.283379</td>\n",
       "    </tr>\n",
       "    <tr>\n",
       "      <th>min</th>\n",
       "      <td>0.000182</td>\n",
       "      <td>0.001027</td>\n",
       "      <td>0.000780</td>\n",
       "      <td>0.001970</td>\n",
       "      <td>0.010366</td>\n",
       "    </tr>\n",
       "    <tr>\n",
       "      <th>25%</th>\n",
       "      <td>0.262636</td>\n",
       "      <td>0.236532</td>\n",
       "      <td>0.241978</td>\n",
       "      <td>0.240013</td>\n",
       "      <td>0.291483</td>\n",
       "    </tr>\n",
       "    <tr>\n",
       "      <th>50%</th>\n",
       "      <td>0.489173</td>\n",
       "      <td>0.471565</td>\n",
       "      <td>0.529042</td>\n",
       "      <td>0.483554</td>\n",
       "      <td>0.563769</td>\n",
       "    </tr>\n",
       "    <tr>\n",
       "      <th>75%</th>\n",
       "      <td>0.739629</td>\n",
       "      <td>0.736328</td>\n",
       "      <td>0.764363</td>\n",
       "      <td>0.748416</td>\n",
       "      <td>0.785661</td>\n",
       "    </tr>\n",
       "    <tr>\n",
       "      <th>max</th>\n",
       "      <td>0.993615</td>\n",
       "      <td>0.999397</td>\n",
       "      <td>0.998713</td>\n",
       "      <td>0.994452</td>\n",
       "      <td>0.993822</td>\n",
       "    </tr>\n",
       "  </tbody>\n",
       "</table>\n",
       "</div>"
      ],
      "text/plain": [
       "                0           1           2           3           4\n",
       "count  299.000000  300.000000  300.000000  300.000000  300.000000\n",
       "mean     0.487644    0.493771    0.508852    0.500588    0.534874\n",
       "std      0.282403    0.294966    0.293139    0.296088    0.283379\n",
       "min      0.000182    0.001027    0.000780    0.001970    0.010366\n",
       "25%      0.262636    0.236532    0.241978    0.240013    0.291483\n",
       "50%      0.489173    0.471565    0.529042    0.483554    0.563769\n",
       "75%      0.739629    0.736328    0.764363    0.748416    0.785661\n",
       "max      0.993615    0.999397    0.998713    0.994452    0.993822"
      ]
     },
     "execution_count": 10,
     "metadata": {},
     "output_type": "execute_result"
    }
   ],
   "source": [
    "newdf.describe()"
   ]
  },
  {
   "cell_type": "code",
   "execution_count": 12,
   "metadata": {},
   "outputs": [
    {
     "name": "stderr",
     "output_type": "stream",
     "text": [
      "C:\\Anaconda\\lib\\site-packages\\ipykernel_launcher.py:1: SettingWithCopyWarning: \n",
      "A value is trying to be set on a copy of a slice from a DataFrame\n",
      "\n",
      "See the caveats in the documentation: https://pandas.pydata.org/pandas-docs/stable/user_guide/indexing.html#returning-a-view-versus-a-copy\n",
      "  \"\"\"Entry point for launching an IPython kernel.\n"
     ]
    },
    {
     "data": {
      "text/html": [
       "<div>\n",
       "<style scoped>\n",
       "    .dataframe tbody tr th:only-of-type {\n",
       "        vertical-align: middle;\n",
       "    }\n",
       "\n",
       "    .dataframe tbody tr th {\n",
       "        vertical-align: top;\n",
       "    }\n",
       "\n",
       "    .dataframe thead th {\n",
       "        text-align: right;\n",
       "    }\n",
       "</style>\n",
       "<table border=\"1\" class=\"dataframe\">\n",
       "  <thead>\n",
       "    <tr style=\"text-align: right;\">\n",
       "      <th></th>\n",
       "      <th>0</th>\n",
       "      <th>1</th>\n",
       "      <th>2</th>\n",
       "      <th>3</th>\n",
       "      <th>4</th>\n",
       "    </tr>\n",
       "  </thead>\n",
       "  <tbody>\n",
       "    <tr>\n",
       "      <th>101</th>\n",
       "      <td>python</td>\n",
       "      <td>0.409293</td>\n",
       "      <td>0.489165</td>\n",
       "      <td>0.687367</td>\n",
       "      <td>0.480822</td>\n",
       "    </tr>\n",
       "    <tr>\n",
       "      <th>102</th>\n",
       "      <td>0.286209</td>\n",
       "      <td>0.297536</td>\n",
       "      <td>0.083077</td>\n",
       "      <td>0.295641</td>\n",
       "      <td>0.461860</td>\n",
       "    </tr>\n",
       "    <tr>\n",
       "      <th>103</th>\n",
       "      <td>0.607689</td>\n",
       "      <td>0.415759</td>\n",
       "      <td>0.335381</td>\n",
       "      <td>0.485997</td>\n",
       "      <td>0.981968</td>\n",
       "    </tr>\n",
       "    <tr>\n",
       "      <th>104</th>\n",
       "      <td>0.988551</td>\n",
       "      <td>0.707449</td>\n",
       "      <td>0.722021</td>\n",
       "      <td>0.815020</td>\n",
       "      <td>0.741543</td>\n",
       "    </tr>\n",
       "    <tr>\n",
       "      <th>105</th>\n",
       "      <td>0.286765</td>\n",
       "      <td>0.253285</td>\n",
       "      <td>0.507106</td>\n",
       "      <td>0.815619</td>\n",
       "      <td>0.337973</td>\n",
       "    </tr>\n",
       "    <tr>\n",
       "      <th>...</th>\n",
       "      <td>...</td>\n",
       "      <td>...</td>\n",
       "      <td>...</td>\n",
       "      <td>...</td>\n",
       "      <td>...</td>\n",
       "    </tr>\n",
       "    <tr>\n",
       "      <th>396</th>\n",
       "      <td>0.548725</td>\n",
       "      <td>0.979460</td>\n",
       "      <td>0.020597</td>\n",
       "      <td>0.525332</td>\n",
       "      <td>0.627650</td>\n",
       "    </tr>\n",
       "    <tr>\n",
       "      <th>397</th>\n",
       "      <td>0.574653</td>\n",
       "      <td>0.933232</td>\n",
       "      <td>0.308025</td>\n",
       "      <td>0.840045</td>\n",
       "      <td>0.545375</td>\n",
       "    </tr>\n",
       "    <tr>\n",
       "      <th>398</th>\n",
       "      <td>0.955948</td>\n",
       "      <td>0.263059</td>\n",
       "      <td>0.366964</td>\n",
       "      <td>0.939503</td>\n",
       "      <td>0.647720</td>\n",
       "    </tr>\n",
       "    <tr>\n",
       "      <th>399</th>\n",
       "      <td>0.756369</td>\n",
       "      <td>0.161190</td>\n",
       "      <td>0.560432</td>\n",
       "      <td>0.768491</td>\n",
       "      <td>0.872633</td>\n",
       "    </tr>\n",
       "    <tr>\n",
       "      <th>400</th>\n",
       "      <td>0.153358</td>\n",
       "      <td>0.583771</td>\n",
       "      <td>0.551714</td>\n",
       "      <td>0.845158</td>\n",
       "      <td>0.458668</td>\n",
       "    </tr>\n",
       "  </tbody>\n",
       "</table>\n",
       "<p>300 rows × 5 columns</p>\n",
       "</div>"
      ],
      "text/plain": [
       "            0         1         2         3         4\n",
       "101    python  0.409293  0.489165  0.687367  0.480822\n",
       "102  0.286209  0.297536  0.083077  0.295641  0.461860\n",
       "103  0.607689  0.415759  0.335381  0.485997  0.981968\n",
       "104  0.988551  0.707449  0.722021  0.815020  0.741543\n",
       "105  0.286765  0.253285  0.507106  0.815619  0.337973\n",
       "..        ...       ...       ...       ...       ...\n",
       "396  0.548725  0.979460  0.020597  0.525332  0.627650\n",
       "397  0.574653  0.933232  0.308025  0.840045  0.545375\n",
       "398  0.955948  0.263059  0.366964  0.939503  0.647720\n",
       "399  0.756369  0.161190  0.560432  0.768491  0.872633\n",
       "400  0.153358  0.583771  0.551714  0.845158  0.458668\n",
       "\n",
       "[300 rows x 5 columns]"
      ]
     },
     "execution_count": 12,
     "metadata": {},
     "output_type": "execute_result"
    }
   ],
   "source": [
    "newdf[0][101]='python'\n",
    "newdf"
   ]
  },
  {
   "cell_type": "code",
   "execution_count": 18,
   "metadata": {},
   "outputs": [
    {
     "data": {
      "text/plain": [
       "0     object\n",
       "1    float64\n",
       "2    float64\n",
       "3    float64\n",
       "4    float64\n",
       "dtype: object"
      ]
     },
     "execution_count": 18,
     "metadata": {},
     "output_type": "execute_result"
    }
   ],
   "source": [
    "newdf.dtypes"
   ]
  },
  {
   "cell_type": "code",
   "execution_count": 20,
   "metadata": {},
   "outputs": [
    {
     "data": {
      "text/plain": [
       "Int64Index([101, 102, 103, 104, 105, 106, 107, 108, 109, 110,\n",
       "            ...\n",
       "            391, 392, 393, 394, 395, 396, 397, 398, 399, 400],\n",
       "           dtype='int64', length=300)"
      ]
     },
     "execution_count": 20,
     "metadata": {},
     "output_type": "execute_result"
    }
   ],
   "source": [
    "newdf.index"
   ]
  },
  {
   "cell_type": "code",
   "execution_count": 21,
   "metadata": {},
   "outputs": [
    {
     "data": {
      "text/plain": [
       "RangeIndex(start=0, stop=5, step=1)"
      ]
     },
     "execution_count": 21,
     "metadata": {},
     "output_type": "execute_result"
    }
   ],
   "source": [
    "newdf.columns"
   ]
  },
  {
   "cell_type": "code",
   "execution_count": 22,
   "metadata": {},
   "outputs": [
    {
     "data": {
      "text/plain": [
       "array([0.15335756776259157, 0.5837713882923486, 0.5517139849118419,\n",
       "       0.8451582641294239, 0.4586680191170458], dtype=object)"
      ]
     },
     "execution_count": 22,
     "metadata": {},
     "output_type": "execute_result"
    }
   ],
   "source": [
    "newdf.to_numpy()[299]"
   ]
  },
  {
   "cell_type": "code",
   "execution_count": 23,
   "metadata": {},
   "outputs": [
    {
     "data": {
      "text/plain": [
       "array(['python', 0.28620888841329073, 0.6076886193144313,\n",
       "       0.9885508465881377, 0.28676472734769143, 0.1267927627935974,\n",
       "       0.21747097199587118, 0.6654384453386623, 0.27537382619209594,\n",
       "       0.6328214577948146, 0.37221316672635674, 0.40561584444821264,\n",
       "       0.291489138326285, 0.9918672626923932, 0.4891729557496911,\n",
       "       0.2651215903201476, 0.21004741124685233, 0.34976076487924423,\n",
       "       0.39453980928456367, 0.601151944295164, 0.3101565959081535,\n",
       "       0.9027032582468133, 0.570524250614641, 0.20709512821189446,\n",
       "       0.9259091195408843, 0.7537917863925879, 0.9565862798338196,\n",
       "       0.2496020195827332, 0.3907302950725756, 0.08188870170969365,\n",
       "       0.45622210570635413, 0.11166884475588357, 0.1622908990590448,\n",
       "       0.2069926982406588, 0.3632442863272979, 0.7996366083495792,\n",
       "       0.9601024248062238, 0.14750684802949854, 0.1812662653048328,\n",
       "       0.5489122183799943, 0.35679129669636045, 0.42133166531481026,\n",
       "       0.2977227177504479, 0.8082179942646143, 0.5041978607668365,\n",
       "       0.6431438702003617, 0.07432267013808758, 0.20003392657328678,\n",
       "       0.389736054680894, 0.4282742650545417, 0.37500696762713526,\n",
       "       0.028975260569770178, 0.6653020960107852, 0.2703299865082447,\n",
       "       0.7623439022284932, 0.21201660580466763, 0.24407476595349786,\n",
       "       0.006517830159817439, 0.827825608264941, 0.2663476294250676,\n",
       "       0.7108413627555453, 0.44885775139367345, 0.3108993673929602,\n",
       "       0.6713268503131797, 0.005998343425844155, 0.44945446637679165,\n",
       "       0.06995895992273382, 0.28318788188152366, 0.2941203418262218,\n",
       "       0.9782623645745934, 0.055177389261224175, 0.1046180713965108,\n",
       "       0.2601499851326122, 0.421746233737739, 0.3706725650496764,\n",
       "       0.6879433821650076, 0.03969191305909836, 0.11840860025382471,\n",
       "       0.7711507727193991, 0.4728401670139243, 0.4878430104992654,\n",
       "       0.9133591477955739, 0.00018193817753475727, 0.07171005062847469,\n",
       "       0.28045537817210675, 0.8871143612623121, 0.1541028523094632,\n",
       "       0.565197682417778, 0.6868161430503144, 0.020074378077487798,\n",
       "       0.2378071401865861, 0.1435356938875938, 0.6207477245950879,\n",
       "       0.41978585299992355, 0.7836308724826101, 0.2728307113122401,\n",
       "       0.7628649434742849, 0.792315072266203, 0.008329364728464461,\n",
       "       0.5460821255952516, 0.6470389012203379, 0.7480495768282962,\n",
       "       0.6510687724970555, 0.3012260530327685, 0.39341429465029554,\n",
       "       0.4132577519892999, 0.3617495563552836, 0.8984873984446563,\n",
       "       0.8104393223184365, 0.849932937213836, 0.4320340542393455,\n",
       "       0.33280422159222245, 0.5009794691681121, 0.5374158358697868,\n",
       "       0.609133700171099, 0.5006971571882516, 0.6019310610028037,\n",
       "       0.8720008670118478, 0.5589458008944997, 0.9062711126479623,\n",
       "       0.08035790082805905, 0.19687206757612907, 0.8989505521956324,\n",
       "       0.7247289136126092, 0.29382445392284684, 0.1558882990276239,\n",
       "       0.12060626505170513, 0.6921725875506359, 0.6449817354182322,\n",
       "       0.6677365849204916, 0.16577005323796612, 0.7006369840725054,\n",
       "       0.07528284258295814, 0.06121917508959751, 0.8726822136053862,\n",
       "       0.5894069940956891, 0.5926083344524946, 0.7334358219169839,\n",
       "       0.7986432474498731, 0.20411685770552923, 0.3123482174620249,\n",
       "       0.5064667999321669, 0.5055379597668186, 0.34862215499059035,\n",
       "       0.1980074102699485, 0.4401236249066296, 0.5035227179916322,\n",
       "       0.5049274174655735, 0.48099508550542214, 0.05419649735387455,\n",
       "       0.1278653892477305, 0.5645894545978632, 0.5094834086524331,\n",
       "       0.3686091732657426, 0.13424147806214748, 0.8581874611364372,\n",
       "       0.3178701873706513, 0.1702278672649643, 0.9296922255403951,\n",
       "       0.6950118763147762, 0.41475262711320615, 0.16788033909151423,\n",
       "       0.04816819822553009, 0.8770695752169634, 0.37564286750385223,\n",
       "       0.5652487760829679, 0.7950546845346951, 0.8318375661479233,\n",
       "       0.9743285288581095, 0.33437854214387996, 0.9141862643525945,\n",
       "       0.7963996771095562, 0.3697523286399842, 0.16651186794145312,\n",
       "       0.554288038392133, 0.7534861484457689, 0.3660869751837442,\n",
       "       0.9113986657915325, 0.8103092841091708, 0.7510436097921516,\n",
       "       0.03484331113292172, 0.21558570083303574, 0.0153172868985757,\n",
       "       0.21839036268019796, 0.6234183366510384, 0.8454695226560258,\n",
       "       0.4117837746389724, 0.803574454451825, 0.9841516182528705,\n",
       "       0.8628550644547057, 0.7888638968880028, 0.4279421684786763,\n",
       "       0.9269067267579186, 0.8336700973264264, 0.2781118176661076,\n",
       "       0.5239797946376217, 0.8402823109731277, 0.8063489203949754,\n",
       "       0.06230769392854563, 0.7674762802030373, 0.10242703677699894,\n",
       "       0.1835194077823702, 0.7453911151100527, 0.35201262062380123,\n",
       "       0.8340862465183194, 0.8029396727876743, 0.7798960283010398,\n",
       "       0.7683288950738263, 0.9094499604557044, 0.646692922546796,\n",
       "       0.10422960725461128, 0.7117121585388595, 0.6781084615820322,\n",
       "       0.30681655795469487, 0.5422637296703394, 0.9697116198358879,\n",
       "       0.30396067853153064, 0.22473419035039377, 0.5970970104384891,\n",
       "       0.742686740306212, 0.6988498670710376, 0.4146525815848964,\n",
       "       0.7189534451779138, 0.8330884941053013, 0.993615207005918,\n",
       "       0.4709612988600277, 0.29796869518164604, 0.7263851692354677,\n",
       "       0.925905069728434, 0.2963899028798399, 0.6897165684967198,\n",
       "       0.8433872736499248, 0.6272837074294582, 0.6240891846767547,\n",
       "       0.16287134015622584, 0.21733478904691328, 0.5866196148443641,\n",
       "       0.9056266087763402, 0.5044215708927646, 0.22511980271516874,\n",
       "       0.5368057501305586, 0.5644836341260591, 0.3526868457197341,\n",
       "       0.07547789601507648, 0.7365718341689937, 0.34054791609550517,\n",
       "       0.8338455321918637, 0.4490611854150519, 0.08552437440687954,\n",
       "       0.5207200339934289, 0.8550104461234967, 0.4913255014736777,\n",
       "       0.3140753552446842, 0.06551848113449232, 0.28700310561235376,\n",
       "       0.8720099146680137, 0.30708165961290046, 0.3995302865946888,\n",
       "       0.8727229059137088, 0.8897349984241394, 0.9788075928538514,\n",
       "       0.08559313761228271, 0.10325581978993281, 0.1952403693216227,\n",
       "       0.5960290433778412, 0.8507298652014401, 0.039865492511104716,\n",
       "       0.8899932233813794, 0.024594102357739178, 0.14859749958830015,\n",
       "       0.2811859730275005, 0.59204497366553, 0.6935258900865994,\n",
       "       0.3394390019650039, 0.8215558084159877, 0.28380589652916166,\n",
       "       0.022148517527739275, 0.8028358591073913, 0.502326649715744,\n",
       "       0.5419443003674983, 0.5302944375120311, 0.6912994485271777,\n",
       "       0.6708665138952424, 0.30881079188369476, 0.18421362080068948,\n",
       "       0.31543819050151245, 0.17580065703951742, 0.7152984861303643,\n",
       "       0.3571324411851353, 0.7364112187358559, 0.1462423247557052,\n",
       "       0.03512241272049321, 0.20433288316433396, 0.6560324648853644,\n",
       "       0.8926437233439208, 0.5487246712479218, 0.5746526681815852,\n",
       "       0.9559479525694697, 0.7563685014795613, 0.15335756776259157],\n",
       "      dtype=object)"
      ]
     },
     "execution_count": 23,
     "metadata": {},
     "output_type": "execute_result"
    }
   ],
   "source": [
    "newdf[0].to_numpy()"
   ]
  },
  {
   "cell_type": "code",
   "execution_count": 24,
   "metadata": {},
   "outputs": [
    {
     "data": {
      "text/html": [
       "<div>\n",
       "<style scoped>\n",
       "    .dataframe tbody tr th:only-of-type {\n",
       "        vertical-align: middle;\n",
       "    }\n",
       "\n",
       "    .dataframe tbody tr th {\n",
       "        vertical-align: top;\n",
       "    }\n",
       "\n",
       "    .dataframe thead th {\n",
       "        text-align: right;\n",
       "    }\n",
       "</style>\n",
       "<table border=\"1\" class=\"dataframe\">\n",
       "  <thead>\n",
       "    <tr style=\"text-align: right;\">\n",
       "      <th></th>\n",
       "      <th>0</th>\n",
       "      <th>1</th>\n",
       "      <th>2</th>\n",
       "      <th>3</th>\n",
       "      <th>4</th>\n",
       "    </tr>\n",
       "  </thead>\n",
       "  <tbody>\n",
       "    <tr>\n",
       "      <th>101</th>\n",
       "      <td>False</td>\n",
       "      <td>False</td>\n",
       "      <td>False</td>\n",
       "      <td>False</td>\n",
       "      <td>False</td>\n",
       "    </tr>\n",
       "    <tr>\n",
       "      <th>102</th>\n",
       "      <td>False</td>\n",
       "      <td>False</td>\n",
       "      <td>False</td>\n",
       "      <td>False</td>\n",
       "      <td>False</td>\n",
       "    </tr>\n",
       "    <tr>\n",
       "      <th>103</th>\n",
       "      <td>False</td>\n",
       "      <td>False</td>\n",
       "      <td>False</td>\n",
       "      <td>False</td>\n",
       "      <td>False</td>\n",
       "    </tr>\n",
       "    <tr>\n",
       "      <th>104</th>\n",
       "      <td>False</td>\n",
       "      <td>False</td>\n",
       "      <td>False</td>\n",
       "      <td>False</td>\n",
       "      <td>False</td>\n",
       "    </tr>\n",
       "    <tr>\n",
       "      <th>105</th>\n",
       "      <td>False</td>\n",
       "      <td>False</td>\n",
       "      <td>False</td>\n",
       "      <td>False</td>\n",
       "      <td>False</td>\n",
       "    </tr>\n",
       "    <tr>\n",
       "      <th>...</th>\n",
       "      <td>...</td>\n",
       "      <td>...</td>\n",
       "      <td>...</td>\n",
       "      <td>...</td>\n",
       "      <td>...</td>\n",
       "    </tr>\n",
       "    <tr>\n",
       "      <th>396</th>\n",
       "      <td>False</td>\n",
       "      <td>False</td>\n",
       "      <td>False</td>\n",
       "      <td>False</td>\n",
       "      <td>False</td>\n",
       "    </tr>\n",
       "    <tr>\n",
       "      <th>397</th>\n",
       "      <td>False</td>\n",
       "      <td>False</td>\n",
       "      <td>False</td>\n",
       "      <td>False</td>\n",
       "      <td>False</td>\n",
       "    </tr>\n",
       "    <tr>\n",
       "      <th>398</th>\n",
       "      <td>False</td>\n",
       "      <td>False</td>\n",
       "      <td>False</td>\n",
       "      <td>False</td>\n",
       "      <td>False</td>\n",
       "    </tr>\n",
       "    <tr>\n",
       "      <th>399</th>\n",
       "      <td>False</td>\n",
       "      <td>False</td>\n",
       "      <td>False</td>\n",
       "      <td>False</td>\n",
       "      <td>False</td>\n",
       "    </tr>\n",
       "    <tr>\n",
       "      <th>400</th>\n",
       "      <td>False</td>\n",
       "      <td>False</td>\n",
       "      <td>False</td>\n",
       "      <td>False</td>\n",
       "      <td>False</td>\n",
       "    </tr>\n",
       "  </tbody>\n",
       "</table>\n",
       "<p>300 rows × 5 columns</p>\n",
       "</div>"
      ],
      "text/plain": [
       "         0      1      2      3      4\n",
       "101  False  False  False  False  False\n",
       "102  False  False  False  False  False\n",
       "103  False  False  False  False  False\n",
       "104  False  False  False  False  False\n",
       "105  False  False  False  False  False\n",
       "..     ...    ...    ...    ...    ...\n",
       "396  False  False  False  False  False\n",
       "397  False  False  False  False  False\n",
       "398  False  False  False  False  False\n",
       "399  False  False  False  False  False\n",
       "400  False  False  False  False  False\n",
       "\n",
       "[300 rows x 5 columns]"
      ]
     },
     "execution_count": 24,
     "metadata": {},
     "output_type": "execute_result"
    }
   ],
   "source": [
    "newdf.isnull()"
   ]
  },
  {
   "cell_type": "code",
   "execution_count": 25,
   "metadata": {},
   "outputs": [
    {
     "data": {
      "text/html": [
       "<div>\n",
       "<style scoped>\n",
       "    .dataframe tbody tr th:only-of-type {\n",
       "        vertical-align: middle;\n",
       "    }\n",
       "\n",
       "    .dataframe tbody tr th {\n",
       "        vertical-align: top;\n",
       "    }\n",
       "\n",
       "    .dataframe thead th {\n",
       "        text-align: right;\n",
       "    }\n",
       "</style>\n",
       "<table border=\"1\" class=\"dataframe\">\n",
       "  <thead>\n",
       "    <tr style=\"text-align: right;\">\n",
       "      <th></th>\n",
       "      <th>0</th>\n",
       "      <th>1</th>\n",
       "      <th>2</th>\n",
       "      <th>3</th>\n",
       "      <th>4</th>\n",
       "    </tr>\n",
       "  </thead>\n",
       "  <tbody>\n",
       "    <tr>\n",
       "      <th>101</th>\n",
       "      <td>True</td>\n",
       "      <td>True</td>\n",
       "      <td>True</td>\n",
       "      <td>True</td>\n",
       "      <td>True</td>\n",
       "    </tr>\n",
       "    <tr>\n",
       "      <th>102</th>\n",
       "      <td>True</td>\n",
       "      <td>True</td>\n",
       "      <td>True</td>\n",
       "      <td>True</td>\n",
       "      <td>True</td>\n",
       "    </tr>\n",
       "    <tr>\n",
       "      <th>103</th>\n",
       "      <td>True</td>\n",
       "      <td>True</td>\n",
       "      <td>True</td>\n",
       "      <td>True</td>\n",
       "      <td>True</td>\n",
       "    </tr>\n",
       "    <tr>\n",
       "      <th>104</th>\n",
       "      <td>True</td>\n",
       "      <td>True</td>\n",
       "      <td>True</td>\n",
       "      <td>True</td>\n",
       "      <td>True</td>\n",
       "    </tr>\n",
       "    <tr>\n",
       "      <th>105</th>\n",
       "      <td>True</td>\n",
       "      <td>True</td>\n",
       "      <td>True</td>\n",
       "      <td>True</td>\n",
       "      <td>True</td>\n",
       "    </tr>\n",
       "    <tr>\n",
       "      <th>...</th>\n",
       "      <td>...</td>\n",
       "      <td>...</td>\n",
       "      <td>...</td>\n",
       "      <td>...</td>\n",
       "      <td>...</td>\n",
       "    </tr>\n",
       "    <tr>\n",
       "      <th>396</th>\n",
       "      <td>True</td>\n",
       "      <td>True</td>\n",
       "      <td>True</td>\n",
       "      <td>True</td>\n",
       "      <td>True</td>\n",
       "    </tr>\n",
       "    <tr>\n",
       "      <th>397</th>\n",
       "      <td>True</td>\n",
       "      <td>True</td>\n",
       "      <td>True</td>\n",
       "      <td>True</td>\n",
       "      <td>True</td>\n",
       "    </tr>\n",
       "    <tr>\n",
       "      <th>398</th>\n",
       "      <td>True</td>\n",
       "      <td>True</td>\n",
       "      <td>True</td>\n",
       "      <td>True</td>\n",
       "      <td>True</td>\n",
       "    </tr>\n",
       "    <tr>\n",
       "      <th>399</th>\n",
       "      <td>True</td>\n",
       "      <td>True</td>\n",
       "      <td>True</td>\n",
       "      <td>True</td>\n",
       "      <td>True</td>\n",
       "    </tr>\n",
       "    <tr>\n",
       "      <th>400</th>\n",
       "      <td>True</td>\n",
       "      <td>True</td>\n",
       "      <td>True</td>\n",
       "      <td>True</td>\n",
       "      <td>True</td>\n",
       "    </tr>\n",
       "  </tbody>\n",
       "</table>\n",
       "<p>300 rows × 5 columns</p>\n",
       "</div>"
      ],
      "text/plain": [
       "        0     1     2     3     4\n",
       "101  True  True  True  True  True\n",
       "102  True  True  True  True  True\n",
       "103  True  True  True  True  True\n",
       "104  True  True  True  True  True\n",
       "105  True  True  True  True  True\n",
       "..    ...   ...   ...   ...   ...\n",
       "396  True  True  True  True  True\n",
       "397  True  True  True  True  True\n",
       "398  True  True  True  True  True\n",
       "399  True  True  True  True  True\n",
       "400  True  True  True  True  True\n",
       "\n",
       "[300 rows x 5 columns]"
      ]
     },
     "execution_count": 25,
     "metadata": {},
     "output_type": "execute_result"
    }
   ],
   "source": [
    "newdf.notnull()"
   ]
  },
  {
   "cell_type": "code",
   "execution_count": 27,
   "metadata": {},
   "outputs": [
    {
     "data": {
      "text/html": [
       "<div>\n",
       "<style scoped>\n",
       "    .dataframe tbody tr th:only-of-type {\n",
       "        vertical-align: middle;\n",
       "    }\n",
       "\n",
       "    .dataframe tbody tr th {\n",
       "        vertical-align: top;\n",
       "    }\n",
       "\n",
       "    .dataframe thead th {\n",
       "        text-align: right;\n",
       "    }\n",
       "</style>\n",
       "<table border=\"1\" class=\"dataframe\">\n",
       "  <thead>\n",
       "    <tr style=\"text-align: right;\">\n",
       "      <th></th>\n",
       "      <th>0</th>\n",
       "      <th>1</th>\n",
       "      <th>2</th>\n",
       "      <th>3</th>\n",
       "      <th>4</th>\n",
       "    </tr>\n",
       "  </thead>\n",
       "  <tbody>\n",
       "    <tr>\n",
       "      <th>101</th>\n",
       "      <td>python</td>\n",
       "      <td>0.409293</td>\n",
       "      <td>0.489165</td>\n",
       "      <td>0.687367</td>\n",
       "      <td>0.480822</td>\n",
       "    </tr>\n",
       "    <tr>\n",
       "      <th>102</th>\n",
       "      <td>0.286209</td>\n",
       "      <td>0.297536</td>\n",
       "      <td>0.083077</td>\n",
       "      <td>0.295641</td>\n",
       "      <td>0.461860</td>\n",
       "    </tr>\n",
       "    <tr>\n",
       "      <th>103</th>\n",
       "      <td>0.607689</td>\n",
       "      <td>0.415759</td>\n",
       "      <td>0.335381</td>\n",
       "      <td>0.485997</td>\n",
       "      <td>0.981968</td>\n",
       "    </tr>\n",
       "    <tr>\n",
       "      <th>104</th>\n",
       "      <td>0.988551</td>\n",
       "      <td>0.707449</td>\n",
       "      <td>0.722021</td>\n",
       "      <td>0.815020</td>\n",
       "      <td>0.741543</td>\n",
       "    </tr>\n",
       "    <tr>\n",
       "      <th>105</th>\n",
       "      <td>0.286765</td>\n",
       "      <td>0.253285</td>\n",
       "      <td>0.507106</td>\n",
       "      <td>0.815619</td>\n",
       "      <td>0.337973</td>\n",
       "    </tr>\n",
       "    <tr>\n",
       "      <th>...</th>\n",
       "      <td>...</td>\n",
       "      <td>...</td>\n",
       "      <td>...</td>\n",
       "      <td>...</td>\n",
       "      <td>...</td>\n",
       "    </tr>\n",
       "    <tr>\n",
       "      <th>396</th>\n",
       "      <td>0.548725</td>\n",
       "      <td>0.979460</td>\n",
       "      <td>0.020597</td>\n",
       "      <td>0.525332</td>\n",
       "      <td>0.627650</td>\n",
       "    </tr>\n",
       "    <tr>\n",
       "      <th>397</th>\n",
       "      <td>0.574653</td>\n",
       "      <td>0.933232</td>\n",
       "      <td>0.308025</td>\n",
       "      <td>0.840045</td>\n",
       "      <td>0.545375</td>\n",
       "    </tr>\n",
       "    <tr>\n",
       "      <th>398</th>\n",
       "      <td>0.955948</td>\n",
       "      <td>0.263059</td>\n",
       "      <td>0.366964</td>\n",
       "      <td>0.939503</td>\n",
       "      <td>0.647720</td>\n",
       "    </tr>\n",
       "    <tr>\n",
       "      <th>399</th>\n",
       "      <td>0.756369</td>\n",
       "      <td>0.161190</td>\n",
       "      <td>0.560432</td>\n",
       "      <td>0.768491</td>\n",
       "      <td>0.872633</td>\n",
       "    </tr>\n",
       "    <tr>\n",
       "      <th>400</th>\n",
       "      <td>0.153358</td>\n",
       "      <td>0.583771</td>\n",
       "      <td>0.551714</td>\n",
       "      <td>0.845158</td>\n",
       "      <td>0.458668</td>\n",
       "    </tr>\n",
       "  </tbody>\n",
       "</table>\n",
       "<p>300 rows × 5 columns</p>\n",
       "</div>"
      ],
      "text/plain": [
       "            0         1         2         3         4\n",
       "101    python  0.409293  0.489165  0.687367  0.480822\n",
       "102  0.286209  0.297536  0.083077  0.295641  0.461860\n",
       "103  0.607689  0.415759  0.335381  0.485997  0.981968\n",
       "104  0.988551  0.707449  0.722021  0.815020  0.741543\n",
       "105  0.286765  0.253285  0.507106  0.815619  0.337973\n",
       "..        ...       ...       ...       ...       ...\n",
       "396  0.548725  0.979460  0.020597  0.525332  0.627650\n",
       "397  0.574653  0.933232  0.308025  0.840045  0.545375\n",
       "398  0.955948  0.263059  0.366964  0.939503  0.647720\n",
       "399  0.756369  0.161190  0.560432  0.768491  0.872633\n",
       "400  0.153358  0.583771  0.551714  0.845158  0.458668\n",
       "\n",
       "[300 rows x 5 columns]"
      ]
     },
     "execution_count": 27,
     "metadata": {},
     "output_type": "execute_result"
    }
   ],
   "source": [
    "newdf[newdf.notnull()]\n",
    "newdf"
   ]
  },
  {
   "cell_type": "code",
   "execution_count": 28,
   "metadata": {},
   "outputs": [
    {
     "data": {
      "text/html": [
       "<div>\n",
       "<style scoped>\n",
       "    .dataframe tbody tr th:only-of-type {\n",
       "        vertical-align: middle;\n",
       "    }\n",
       "\n",
       "    .dataframe tbody tr th {\n",
       "        vertical-align: top;\n",
       "    }\n",
       "\n",
       "    .dataframe thead th {\n",
       "        text-align: right;\n",
       "    }\n",
       "</style>\n",
       "<table border=\"1\" class=\"dataframe\">\n",
       "  <thead>\n",
       "    <tr style=\"text-align: right;\">\n",
       "      <th></th>\n",
       "      <th>0</th>\n",
       "      <th>1</th>\n",
       "      <th>2</th>\n",
       "      <th>3</th>\n",
       "      <th>4</th>\n",
       "    </tr>\n",
       "  </thead>\n",
       "  <tbody>\n",
       "    <tr>\n",
       "      <th>101</th>\n",
       "      <td>python</td>\n",
       "      <td>0.409293</td>\n",
       "      <td>0.489165</td>\n",
       "      <td>0.687367</td>\n",
       "      <td>0.480822</td>\n",
       "    </tr>\n",
       "    <tr>\n",
       "      <th>102</th>\n",
       "      <td>0.286209</td>\n",
       "      <td>0.297536</td>\n",
       "      <td>0.083077</td>\n",
       "      <td>0.295641</td>\n",
       "      <td>0.461860</td>\n",
       "    </tr>\n",
       "    <tr>\n",
       "      <th>103</th>\n",
       "      <td>0.607689</td>\n",
       "      <td>0.415759</td>\n",
       "      <td>0.335381</td>\n",
       "      <td>0.485997</td>\n",
       "      <td>0.981968</td>\n",
       "    </tr>\n",
       "    <tr>\n",
       "      <th>104</th>\n",
       "      <td>0.988551</td>\n",
       "      <td>0.707449</td>\n",
       "      <td>0.722021</td>\n",
       "      <td>0.815020</td>\n",
       "      <td>0.741543</td>\n",
       "    </tr>\n",
       "    <tr>\n",
       "      <th>105</th>\n",
       "      <td>0.286765</td>\n",
       "      <td>0.253285</td>\n",
       "      <td>0.507106</td>\n",
       "      <td>0.815619</td>\n",
       "      <td>0.337973</td>\n",
       "    </tr>\n",
       "    <tr>\n",
       "      <th>...</th>\n",
       "      <td>...</td>\n",
       "      <td>...</td>\n",
       "      <td>...</td>\n",
       "      <td>...</td>\n",
       "      <td>...</td>\n",
       "    </tr>\n",
       "    <tr>\n",
       "      <th>396</th>\n",
       "      <td>0.548725</td>\n",
       "      <td>0.979460</td>\n",
       "      <td>0.020597</td>\n",
       "      <td>0.525332</td>\n",
       "      <td>0.627650</td>\n",
       "    </tr>\n",
       "    <tr>\n",
       "      <th>397</th>\n",
       "      <td>0.574653</td>\n",
       "      <td>0.933232</td>\n",
       "      <td>0.308025</td>\n",
       "      <td>0.840045</td>\n",
       "      <td>0.545375</td>\n",
       "    </tr>\n",
       "    <tr>\n",
       "      <th>398</th>\n",
       "      <td>0.955948</td>\n",
       "      <td>0.263059</td>\n",
       "      <td>0.366964</td>\n",
       "      <td>0.939503</td>\n",
       "      <td>0.647720</td>\n",
       "    </tr>\n",
       "    <tr>\n",
       "      <th>399</th>\n",
       "      <td>0.756369</td>\n",
       "      <td>0.161190</td>\n",
       "      <td>0.560432</td>\n",
       "      <td>0.768491</td>\n",
       "      <td>0.872633</td>\n",
       "    </tr>\n",
       "    <tr>\n",
       "      <th>400</th>\n",
       "      <td>0.153358</td>\n",
       "      <td>0.583771</td>\n",
       "      <td>0.551714</td>\n",
       "      <td>0.845158</td>\n",
       "      <td>0.458668</td>\n",
       "    </tr>\n",
       "  </tbody>\n",
       "</table>\n",
       "<p>300 rows × 5 columns</p>\n",
       "</div>"
      ],
      "text/plain": [
       "            0         1         2         3         4\n",
       "101    python  0.409293  0.489165  0.687367  0.480822\n",
       "102  0.286209  0.297536  0.083077  0.295641  0.461860\n",
       "103  0.607689  0.415759  0.335381  0.485997  0.981968\n",
       "104  0.988551  0.707449  0.722021  0.815020  0.741543\n",
       "105  0.286765  0.253285  0.507106  0.815619  0.337973\n",
       "..        ...       ...       ...       ...       ...\n",
       "396  0.548725  0.979460  0.020597  0.525332  0.627650\n",
       "397  0.574653  0.933232  0.308025  0.840045  0.545375\n",
       "398  0.955948  0.263059  0.366964  0.939503  0.647720\n",
       "399  0.756369  0.161190  0.560432  0.768491  0.872633\n",
       "400  0.153358  0.583771  0.551714  0.845158  0.458668\n",
       "\n",
       "[300 rows x 5 columns]"
      ]
     },
     "execution_count": 28,
     "metadata": {},
     "output_type": "execute_result"
    }
   ],
   "source": [
    "newdf[newdf[0].notnull()]"
   ]
  },
  {
   "cell_type": "code",
   "execution_count": 29,
   "metadata": {},
   "outputs": [
    {
     "data": {
      "text/html": [
       "<div>\n",
       "<style scoped>\n",
       "    .dataframe tbody tr th:only-of-type {\n",
       "        vertical-align: middle;\n",
       "    }\n",
       "\n",
       "    .dataframe tbody tr th {\n",
       "        vertical-align: top;\n",
       "    }\n",
       "\n",
       "    .dataframe thead th {\n",
       "        text-align: right;\n",
       "    }\n",
       "</style>\n",
       "<table border=\"1\" class=\"dataframe\">\n",
       "  <thead>\n",
       "    <tr style=\"text-align: right;\">\n",
       "      <th></th>\n",
       "      <th>101</th>\n",
       "      <th>102</th>\n",
       "      <th>103</th>\n",
       "      <th>104</th>\n",
       "      <th>105</th>\n",
       "      <th>106</th>\n",
       "      <th>107</th>\n",
       "      <th>108</th>\n",
       "      <th>109</th>\n",
       "      <th>110</th>\n",
       "      <th>...</th>\n",
       "      <th>391</th>\n",
       "      <th>392</th>\n",
       "      <th>393</th>\n",
       "      <th>394</th>\n",
       "      <th>395</th>\n",
       "      <th>396</th>\n",
       "      <th>397</th>\n",
       "      <th>398</th>\n",
       "      <th>399</th>\n",
       "      <th>400</th>\n",
       "    </tr>\n",
       "  </thead>\n",
       "  <tbody>\n",
       "    <tr>\n",
       "      <th>0</th>\n",
       "      <td>python</td>\n",
       "      <td>0.286209</td>\n",
       "      <td>0.607689</td>\n",
       "      <td>0.988551</td>\n",
       "      <td>0.286765</td>\n",
       "      <td>0.126793</td>\n",
       "      <td>0.217471</td>\n",
       "      <td>0.665438</td>\n",
       "      <td>0.275374</td>\n",
       "      <td>0.632821</td>\n",
       "      <td>...</td>\n",
       "      <td>0.146242</td>\n",
       "      <td>0.0351224</td>\n",
       "      <td>0.204333</td>\n",
       "      <td>0.656032</td>\n",
       "      <td>0.892644</td>\n",
       "      <td>0.548725</td>\n",
       "      <td>0.574653</td>\n",
       "      <td>0.955948</td>\n",
       "      <td>0.756369</td>\n",
       "      <td>0.153358</td>\n",
       "    </tr>\n",
       "    <tr>\n",
       "      <th>1</th>\n",
       "      <td>0.409293</td>\n",
       "      <td>0.297536</td>\n",
       "      <td>0.415759</td>\n",
       "      <td>0.707449</td>\n",
       "      <td>0.253285</td>\n",
       "      <td>0.215217</td>\n",
       "      <td>0.377422</td>\n",
       "      <td>0.578973</td>\n",
       "      <td>0.0878182</td>\n",
       "      <td>0.970031</td>\n",
       "      <td>...</td>\n",
       "      <td>0.742471</td>\n",
       "      <td>0.473447</td>\n",
       "      <td>0.458674</td>\n",
       "      <td>0.503295</td>\n",
       "      <td>0.820261</td>\n",
       "      <td>0.97946</td>\n",
       "      <td>0.933232</td>\n",
       "      <td>0.263059</td>\n",
       "      <td>0.16119</td>\n",
       "      <td>0.583771</td>\n",
       "    </tr>\n",
       "    <tr>\n",
       "      <th>2</th>\n",
       "      <td>0.489165</td>\n",
       "      <td>0.0830775</td>\n",
       "      <td>0.335381</td>\n",
       "      <td>0.722021</td>\n",
       "      <td>0.507106</td>\n",
       "      <td>0.729592</td>\n",
       "      <td>0.329255</td>\n",
       "      <td>0.125207</td>\n",
       "      <td>0.0912919</td>\n",
       "      <td>0.197067</td>\n",
       "      <td>...</td>\n",
       "      <td>0.511118</td>\n",
       "      <td>0.346178</td>\n",
       "      <td>0.0301202</td>\n",
       "      <td>0.199906</td>\n",
       "      <td>0.0912175</td>\n",
       "      <td>0.0205969</td>\n",
       "      <td>0.308025</td>\n",
       "      <td>0.366964</td>\n",
       "      <td>0.560432</td>\n",
       "      <td>0.551714</td>\n",
       "    </tr>\n",
       "    <tr>\n",
       "      <th>3</th>\n",
       "      <td>0.687367</td>\n",
       "      <td>0.295641</td>\n",
       "      <td>0.485997</td>\n",
       "      <td>0.81502</td>\n",
       "      <td>0.815619</td>\n",
       "      <td>0.827688</td>\n",
       "      <td>0.396706</td>\n",
       "      <td>0.929946</td>\n",
       "      <td>0.208249</td>\n",
       "      <td>0.453668</td>\n",
       "      <td>...</td>\n",
       "      <td>0.673029</td>\n",
       "      <td>0.6218</td>\n",
       "      <td>0.38961</td>\n",
       "      <td>0.291564</td>\n",
       "      <td>0.222504</td>\n",
       "      <td>0.525332</td>\n",
       "      <td>0.840045</td>\n",
       "      <td>0.939503</td>\n",
       "      <td>0.768491</td>\n",
       "      <td>0.845158</td>\n",
       "    </tr>\n",
       "    <tr>\n",
       "      <th>4</th>\n",
       "      <td>0.480822</td>\n",
       "      <td>0.46186</td>\n",
       "      <td>0.981968</td>\n",
       "      <td>0.741543</td>\n",
       "      <td>0.337973</td>\n",
       "      <td>0.777002</td>\n",
       "      <td>0.66654</td>\n",
       "      <td>0.949614</td>\n",
       "      <td>0.388943</td>\n",
       "      <td>0.203238</td>\n",
       "      <td>...</td>\n",
       "      <td>0.255787</td>\n",
       "      <td>0.423623</td>\n",
       "      <td>0.430174</td>\n",
       "      <td>0.927715</td>\n",
       "      <td>0.573778</td>\n",
       "      <td>0.62765</td>\n",
       "      <td>0.545375</td>\n",
       "      <td>0.64772</td>\n",
       "      <td>0.872633</td>\n",
       "      <td>0.458668</td>\n",
       "    </tr>\n",
       "  </tbody>\n",
       "</table>\n",
       "<p>5 rows × 300 columns</p>\n",
       "</div>"
      ],
      "text/plain": [
       "        101        102       103       104       105       106       107  \\\n",
       "0    python   0.286209  0.607689  0.988551  0.286765  0.126793  0.217471   \n",
       "1  0.409293   0.297536  0.415759  0.707449  0.253285  0.215217  0.377422   \n",
       "2  0.489165  0.0830775  0.335381  0.722021  0.507106  0.729592  0.329255   \n",
       "3  0.687367   0.295641  0.485997   0.81502  0.815619  0.827688  0.396706   \n",
       "4  0.480822    0.46186  0.981968  0.741543  0.337973  0.777002   0.66654   \n",
       "\n",
       "        108        109       110  ...       391        392        393  \\\n",
       "0  0.665438   0.275374  0.632821  ...  0.146242  0.0351224   0.204333   \n",
       "1  0.578973  0.0878182  0.970031  ...  0.742471   0.473447   0.458674   \n",
       "2  0.125207  0.0912919  0.197067  ...  0.511118   0.346178  0.0301202   \n",
       "3  0.929946   0.208249  0.453668  ...  0.673029     0.6218    0.38961   \n",
       "4  0.949614   0.388943  0.203238  ...  0.255787   0.423623   0.430174   \n",
       "\n",
       "        394        395        396       397       398       399       400  \n",
       "0  0.656032   0.892644   0.548725  0.574653  0.955948  0.756369  0.153358  \n",
       "1  0.503295   0.820261    0.97946  0.933232  0.263059   0.16119  0.583771  \n",
       "2  0.199906  0.0912175  0.0205969  0.308025  0.366964  0.560432  0.551714  \n",
       "3  0.291564   0.222504   0.525332  0.840045  0.939503  0.768491  0.845158  \n",
       "4  0.927715   0.573778    0.62765  0.545375   0.64772  0.872633  0.458668  \n",
       "\n",
       "[5 rows x 300 columns]"
      ]
     },
     "execution_count": 29,
     "metadata": {},
     "output_type": "execute_result"
    }
   ],
   "source": [
    "newdf.T"
   ]
  },
  {
   "cell_type": "code",
   "execution_count": 32,
   "metadata": {},
   "outputs": [
    {
     "data": {
      "text/html": [
       "<div>\n",
       "<style scoped>\n",
       "    .dataframe tbody tr th:only-of-type {\n",
       "        vertical-align: middle;\n",
       "    }\n",
       "\n",
       "    .dataframe tbody tr th {\n",
       "        vertical-align: top;\n",
       "    }\n",
       "\n",
       "    .dataframe thead th {\n",
       "        text-align: right;\n",
       "    }\n",
       "</style>\n",
       "<table border=\"1\" class=\"dataframe\">\n",
       "  <thead>\n",
       "    <tr style=\"text-align: right;\">\n",
       "      <th></th>\n",
       "      <th>A</th>\n",
       "      <th>B</th>\n",
       "      <th>C</th>\n",
       "      <th>D</th>\n",
       "      <th>E</th>\n",
       "    </tr>\n",
       "  </thead>\n",
       "  <tbody>\n",
       "    <tr>\n",
       "      <th>101</th>\n",
       "      <td>python</td>\n",
       "      <td>0.409293</td>\n",
       "      <td>0.489165</td>\n",
       "      <td>0.687367</td>\n",
       "      <td>0.480822</td>\n",
       "    </tr>\n",
       "    <tr>\n",
       "      <th>102</th>\n",
       "      <td>0.286209</td>\n",
       "      <td>0.297536</td>\n",
       "      <td>0.083077</td>\n",
       "      <td>0.295641</td>\n",
       "      <td>0.461860</td>\n",
       "    </tr>\n",
       "    <tr>\n",
       "      <th>103</th>\n",
       "      <td>0.607689</td>\n",
       "      <td>0.415759</td>\n",
       "      <td>0.335381</td>\n",
       "      <td>0.485997</td>\n",
       "      <td>0.981968</td>\n",
       "    </tr>\n",
       "    <tr>\n",
       "      <th>104</th>\n",
       "      <td>0.988551</td>\n",
       "      <td>0.707449</td>\n",
       "      <td>0.722021</td>\n",
       "      <td>0.815020</td>\n",
       "      <td>0.741543</td>\n",
       "    </tr>\n",
       "    <tr>\n",
       "      <th>105</th>\n",
       "      <td>0.286765</td>\n",
       "      <td>0.253285</td>\n",
       "      <td>0.507106</td>\n",
       "      <td>0.815619</td>\n",
       "      <td>0.337973</td>\n",
       "    </tr>\n",
       "    <tr>\n",
       "      <th>...</th>\n",
       "      <td>...</td>\n",
       "      <td>...</td>\n",
       "      <td>...</td>\n",
       "      <td>...</td>\n",
       "      <td>...</td>\n",
       "    </tr>\n",
       "    <tr>\n",
       "      <th>396</th>\n",
       "      <td>0.548725</td>\n",
       "      <td>0.979460</td>\n",
       "      <td>0.020597</td>\n",
       "      <td>0.525332</td>\n",
       "      <td>0.627650</td>\n",
       "    </tr>\n",
       "    <tr>\n",
       "      <th>397</th>\n",
       "      <td>0.574653</td>\n",
       "      <td>0.933232</td>\n",
       "      <td>0.308025</td>\n",
       "      <td>0.840045</td>\n",
       "      <td>0.545375</td>\n",
       "    </tr>\n",
       "    <tr>\n",
       "      <th>398</th>\n",
       "      <td>0.955948</td>\n",
       "      <td>0.263059</td>\n",
       "      <td>0.366964</td>\n",
       "      <td>0.939503</td>\n",
       "      <td>0.647720</td>\n",
       "    </tr>\n",
       "    <tr>\n",
       "      <th>399</th>\n",
       "      <td>0.756369</td>\n",
       "      <td>0.161190</td>\n",
       "      <td>0.560432</td>\n",
       "      <td>0.768491</td>\n",
       "      <td>0.872633</td>\n",
       "    </tr>\n",
       "    <tr>\n",
       "      <th>400</th>\n",
       "      <td>0.153358</td>\n",
       "      <td>0.583771</td>\n",
       "      <td>0.551714</td>\n",
       "      <td>0.845158</td>\n",
       "      <td>0.458668</td>\n",
       "    </tr>\n",
       "  </tbody>\n",
       "</table>\n",
       "<p>300 rows × 5 columns</p>\n",
       "</div>"
      ],
      "text/plain": [
       "            A         B         C         D         E\n",
       "101    python  0.409293  0.489165  0.687367  0.480822\n",
       "102  0.286209  0.297536  0.083077  0.295641  0.461860\n",
       "103  0.607689  0.415759  0.335381  0.485997  0.981968\n",
       "104  0.988551  0.707449  0.722021  0.815020  0.741543\n",
       "105  0.286765  0.253285  0.507106  0.815619  0.337973\n",
       "..        ...       ...       ...       ...       ...\n",
       "396  0.548725  0.979460  0.020597  0.525332  0.627650\n",
       "397  0.574653  0.933232  0.308025  0.840045  0.545375\n",
       "398  0.955948  0.263059  0.366964  0.939503  0.647720\n",
       "399  0.756369  0.161190  0.560432  0.768491  0.872633\n",
       "400  0.153358  0.583771  0.551714  0.845158  0.458668\n",
       "\n",
       "[300 rows x 5 columns]"
      ]
     },
     "execution_count": 32,
     "metadata": {},
     "output_type": "execute_result"
    }
   ],
   "source": [
    "newdf.columns=list(\"ABCDE\")\n",
    "newdf"
   ]
  },
  {
   "cell_type": "code",
   "execution_count": 34,
   "metadata": {},
   "outputs": [
    {
     "data": {
      "text/html": [
       "<div>\n",
       "<style scoped>\n",
       "    .dataframe tbody tr th:only-of-type {\n",
       "        vertical-align: middle;\n",
       "    }\n",
       "\n",
       "    .dataframe tbody tr th {\n",
       "        vertical-align: top;\n",
       "    }\n",
       "\n",
       "    .dataframe thead th {\n",
       "        text-align: right;\n",
       "    }\n",
       "</style>\n",
       "<table border=\"1\" class=\"dataframe\">\n",
       "  <thead>\n",
       "    <tr style=\"text-align: right;\">\n",
       "      <th></th>\n",
       "      <th>COL1</th>\n",
       "      <th>B</th>\n",
       "      <th>C</th>\n",
       "      <th>D</th>\n",
       "      <th>E</th>\n",
       "    </tr>\n",
       "  </thead>\n",
       "  <tbody>\n",
       "    <tr>\n",
       "      <th>101</th>\n",
       "      <td>python</td>\n",
       "      <td>0.409293</td>\n",
       "      <td>0.489165</td>\n",
       "      <td>0.687367</td>\n",
       "      <td>0.480822</td>\n",
       "    </tr>\n",
       "    <tr>\n",
       "      <th>102</th>\n",
       "      <td>0.286209</td>\n",
       "      <td>0.297536</td>\n",
       "      <td>0.083077</td>\n",
       "      <td>0.295641</td>\n",
       "      <td>0.461860</td>\n",
       "    </tr>\n",
       "    <tr>\n",
       "      <th>103</th>\n",
       "      <td>0.607689</td>\n",
       "      <td>0.415759</td>\n",
       "      <td>0.335381</td>\n",
       "      <td>0.485997</td>\n",
       "      <td>0.981968</td>\n",
       "    </tr>\n",
       "    <tr>\n",
       "      <th>104</th>\n",
       "      <td>0.988551</td>\n",
       "      <td>0.707449</td>\n",
       "      <td>0.722021</td>\n",
       "      <td>0.815020</td>\n",
       "      <td>0.741543</td>\n",
       "    </tr>\n",
       "    <tr>\n",
       "      <th>105</th>\n",
       "      <td>0.286765</td>\n",
       "      <td>0.253285</td>\n",
       "      <td>0.507106</td>\n",
       "      <td>0.815619</td>\n",
       "      <td>0.337973</td>\n",
       "    </tr>\n",
       "    <tr>\n",
       "      <th>...</th>\n",
       "      <td>...</td>\n",
       "      <td>...</td>\n",
       "      <td>...</td>\n",
       "      <td>...</td>\n",
       "      <td>...</td>\n",
       "    </tr>\n",
       "    <tr>\n",
       "      <th>396</th>\n",
       "      <td>0.548725</td>\n",
       "      <td>0.979460</td>\n",
       "      <td>0.020597</td>\n",
       "      <td>0.525332</td>\n",
       "      <td>0.627650</td>\n",
       "    </tr>\n",
       "    <tr>\n",
       "      <th>397</th>\n",
       "      <td>0.574653</td>\n",
       "      <td>0.933232</td>\n",
       "      <td>0.308025</td>\n",
       "      <td>0.840045</td>\n",
       "      <td>0.545375</td>\n",
       "    </tr>\n",
       "    <tr>\n",
       "      <th>398</th>\n",
       "      <td>0.955948</td>\n",
       "      <td>0.263059</td>\n",
       "      <td>0.366964</td>\n",
       "      <td>0.939503</td>\n",
       "      <td>0.647720</td>\n",
       "    </tr>\n",
       "    <tr>\n",
       "      <th>399</th>\n",
       "      <td>0.756369</td>\n",
       "      <td>0.161190</td>\n",
       "      <td>0.560432</td>\n",
       "      <td>0.768491</td>\n",
       "      <td>0.872633</td>\n",
       "    </tr>\n",
       "    <tr>\n",
       "      <th>400</th>\n",
       "      <td>0.153358</td>\n",
       "      <td>0.583771</td>\n",
       "      <td>0.551714</td>\n",
       "      <td>0.845158</td>\n",
       "      <td>0.458668</td>\n",
       "    </tr>\n",
       "  </tbody>\n",
       "</table>\n",
       "<p>300 rows × 5 columns</p>\n",
       "</div>"
      ],
      "text/plain": [
       "         COL1         B         C         D         E\n",
       "101    python  0.409293  0.489165  0.687367  0.480822\n",
       "102  0.286209  0.297536  0.083077  0.295641  0.461860\n",
       "103  0.607689  0.415759  0.335381  0.485997  0.981968\n",
       "104  0.988551  0.707449  0.722021  0.815020  0.741543\n",
       "105  0.286765  0.253285  0.507106  0.815619  0.337973\n",
       "..        ...       ...       ...       ...       ...\n",
       "396  0.548725  0.979460  0.020597  0.525332  0.627650\n",
       "397  0.574653  0.933232  0.308025  0.840045  0.545375\n",
       "398  0.955948  0.263059  0.366964  0.939503  0.647720\n",
       "399  0.756369  0.161190  0.560432  0.768491  0.872633\n",
       "400  0.153358  0.583771  0.551714  0.845158  0.458668\n",
       "\n",
       "[300 rows x 5 columns]"
      ]
     },
     "execution_count": 34,
     "metadata": {},
     "output_type": "execute_result"
    }
   ],
   "source": [
    "newdf=newdf.rename(columns={'A':'COL1'})\n",
    "newdf"
   ]
  },
  {
   "cell_type": "code",
   "execution_count": 36,
   "metadata": {},
   "outputs": [
    {
     "data": {
      "text/html": [
       "<div>\n",
       "<style scoped>\n",
       "    .dataframe tbody tr th:only-of-type {\n",
       "        vertical-align: middle;\n",
       "    }\n",
       "\n",
       "    .dataframe tbody tr th {\n",
       "        vertical-align: top;\n",
       "    }\n",
       "\n",
       "    .dataframe thead th {\n",
       "        text-align: right;\n",
       "    }\n",
       "</style>\n",
       "<table border=\"1\" class=\"dataframe\">\n",
       "  <thead>\n",
       "    <tr style=\"text-align: right;\">\n",
       "      <th></th>\n",
       "      <th>COL1</th>\n",
       "      <th>Col2</th>\n",
       "      <th>Col3</th>\n",
       "      <th>D</th>\n",
       "      <th>E</th>\n",
       "    </tr>\n",
       "  </thead>\n",
       "  <tbody>\n",
       "    <tr>\n",
       "      <th>Sample 1</th>\n",
       "      <td>python</td>\n",
       "      <td>0.409293</td>\n",
       "      <td>0.489165</td>\n",
       "      <td>0.687367</td>\n",
       "      <td>0.480822</td>\n",
       "    </tr>\n",
       "    <tr>\n",
       "      <th>102</th>\n",
       "      <td>0.286209</td>\n",
       "      <td>0.297536</td>\n",
       "      <td>0.083077</td>\n",
       "      <td>0.295641</td>\n",
       "      <td>0.461860</td>\n",
       "    </tr>\n",
       "    <tr>\n",
       "      <th>103</th>\n",
       "      <td>0.607689</td>\n",
       "      <td>0.415759</td>\n",
       "      <td>0.335381</td>\n",
       "      <td>0.485997</td>\n",
       "      <td>0.981968</td>\n",
       "    </tr>\n",
       "    <tr>\n",
       "      <th>104</th>\n",
       "      <td>0.988551</td>\n",
       "      <td>0.707449</td>\n",
       "      <td>0.722021</td>\n",
       "      <td>0.815020</td>\n",
       "      <td>0.741543</td>\n",
       "    </tr>\n",
       "    <tr>\n",
       "      <th>105</th>\n",
       "      <td>0.286765</td>\n",
       "      <td>0.253285</td>\n",
       "      <td>0.507106</td>\n",
       "      <td>0.815619</td>\n",
       "      <td>0.337973</td>\n",
       "    </tr>\n",
       "    <tr>\n",
       "      <th>...</th>\n",
       "      <td>...</td>\n",
       "      <td>...</td>\n",
       "      <td>...</td>\n",
       "      <td>...</td>\n",
       "      <td>...</td>\n",
       "    </tr>\n",
       "    <tr>\n",
       "      <th>396</th>\n",
       "      <td>0.548725</td>\n",
       "      <td>0.979460</td>\n",
       "      <td>0.020597</td>\n",
       "      <td>0.525332</td>\n",
       "      <td>0.627650</td>\n",
       "    </tr>\n",
       "    <tr>\n",
       "      <th>397</th>\n",
       "      <td>0.574653</td>\n",
       "      <td>0.933232</td>\n",
       "      <td>0.308025</td>\n",
       "      <td>0.840045</td>\n",
       "      <td>0.545375</td>\n",
       "    </tr>\n",
       "    <tr>\n",
       "      <th>398</th>\n",
       "      <td>0.955948</td>\n",
       "      <td>0.263059</td>\n",
       "      <td>0.366964</td>\n",
       "      <td>0.939503</td>\n",
       "      <td>0.647720</td>\n",
       "    </tr>\n",
       "    <tr>\n",
       "      <th>399</th>\n",
       "      <td>0.756369</td>\n",
       "      <td>0.161190</td>\n",
       "      <td>0.560432</td>\n",
       "      <td>0.768491</td>\n",
       "      <td>0.872633</td>\n",
       "    </tr>\n",
       "    <tr>\n",
       "      <th>400</th>\n",
       "      <td>0.153358</td>\n",
       "      <td>0.583771</td>\n",
       "      <td>0.551714</td>\n",
       "      <td>0.845158</td>\n",
       "      <td>0.458668</td>\n",
       "    </tr>\n",
       "  </tbody>\n",
       "</table>\n",
       "<p>300 rows × 5 columns</p>\n",
       "</div>"
      ],
      "text/plain": [
       "              COL1      Col2      Col3         D         E\n",
       "Sample 1    python  0.409293  0.489165  0.687367  0.480822\n",
       "102       0.286209  0.297536  0.083077  0.295641  0.461860\n",
       "103       0.607689  0.415759  0.335381  0.485997  0.981968\n",
       "104       0.988551  0.707449  0.722021  0.815020  0.741543\n",
       "105       0.286765  0.253285  0.507106  0.815619  0.337973\n",
       "...            ...       ...       ...       ...       ...\n",
       "396       0.548725  0.979460  0.020597  0.525332  0.627650\n",
       "397       0.574653  0.933232  0.308025  0.840045  0.545375\n",
       "398       0.955948  0.263059  0.366964  0.939503  0.647720\n",
       "399       0.756369  0.161190  0.560432  0.768491  0.872633\n",
       "400       0.153358  0.583771  0.551714  0.845158  0.458668\n",
       "\n",
       "[300 rows x 5 columns]"
      ]
     },
     "execution_count": 36,
     "metadata": {},
     "output_type": "execute_result"
    }
   ],
   "source": [
    "newdf.rename(columns={'B':'Col2','C':'Col3'},index={101:'Sample 1'},inplace=True)\n",
    "newdf"
   ]
  },
  {
   "cell_type": "code",
   "execution_count": 38,
   "metadata": {},
   "outputs": [
    {
     "data": {
      "text/html": [
       "<div>\n",
       "<style scoped>\n",
       "    .dataframe tbody tr th:only-of-type {\n",
       "        vertical-align: middle;\n",
       "    }\n",
       "\n",
       "    .dataframe tbody tr th {\n",
       "        vertical-align: top;\n",
       "    }\n",
       "\n",
       "    .dataframe thead th {\n",
       "        text-align: right;\n",
       "    }\n",
       "</style>\n",
       "<table border=\"1\" class=\"dataframe\">\n",
       "  <thead>\n",
       "    <tr style=\"text-align: right;\">\n",
       "      <th></th>\n",
       "      <th>COL1</th>\n",
       "      <th>Col2</th>\n",
       "      <th>Col3</th>\n",
       "      <th>D</th>\n",
       "      <th>E</th>\n",
       "    </tr>\n",
       "  </thead>\n",
       "  <tbody>\n",
       "    <tr>\n",
       "      <th>101</th>\n",
       "      <td>python</td>\n",
       "      <td>0.409293</td>\n",
       "      <td>0.489165</td>\n",
       "      <td>0.687367</td>\n",
       "      <td>0.480822</td>\n",
       "    </tr>\n",
       "    <tr>\n",
       "      <th>102</th>\n",
       "      <td>0.286209</td>\n",
       "      <td>0.297536</td>\n",
       "      <td>0.083077</td>\n",
       "      <td>0.295641</td>\n",
       "      <td>0.461860</td>\n",
       "    </tr>\n",
       "    <tr>\n",
       "      <th>103</th>\n",
       "      <td>0.607689</td>\n",
       "      <td>0.415759</td>\n",
       "      <td>0.335381</td>\n",
       "      <td>0.485997</td>\n",
       "      <td>0.981968</td>\n",
       "    </tr>\n",
       "    <tr>\n",
       "      <th>104</th>\n",
       "      <td>0.988551</td>\n",
       "      <td>0.707449</td>\n",
       "      <td>0.722021</td>\n",
       "      <td>0.815020</td>\n",
       "      <td>0.741543</td>\n",
       "    </tr>\n",
       "    <tr>\n",
       "      <th>105</th>\n",
       "      <td>0.286765</td>\n",
       "      <td>0.253285</td>\n",
       "      <td>0.507106</td>\n",
       "      <td>0.815619</td>\n",
       "      <td>0.337973</td>\n",
       "    </tr>\n",
       "    <tr>\n",
       "      <th>...</th>\n",
       "      <td>...</td>\n",
       "      <td>...</td>\n",
       "      <td>...</td>\n",
       "      <td>...</td>\n",
       "      <td>...</td>\n",
       "    </tr>\n",
       "    <tr>\n",
       "      <th>396</th>\n",
       "      <td>0.548725</td>\n",
       "      <td>0.979460</td>\n",
       "      <td>0.020597</td>\n",
       "      <td>0.525332</td>\n",
       "      <td>0.627650</td>\n",
       "    </tr>\n",
       "    <tr>\n",
       "      <th>397</th>\n",
       "      <td>0.574653</td>\n",
       "      <td>0.933232</td>\n",
       "      <td>0.308025</td>\n",
       "      <td>0.840045</td>\n",
       "      <td>0.545375</td>\n",
       "    </tr>\n",
       "    <tr>\n",
       "      <th>398</th>\n",
       "      <td>0.955948</td>\n",
       "      <td>0.263059</td>\n",
       "      <td>0.366964</td>\n",
       "      <td>0.939503</td>\n",
       "      <td>0.647720</td>\n",
       "    </tr>\n",
       "    <tr>\n",
       "      <th>399</th>\n",
       "      <td>0.756369</td>\n",
       "      <td>0.161190</td>\n",
       "      <td>0.560432</td>\n",
       "      <td>0.768491</td>\n",
       "      <td>0.872633</td>\n",
       "    </tr>\n",
       "    <tr>\n",
       "      <th>400</th>\n",
       "      <td>0.153358</td>\n",
       "      <td>0.583771</td>\n",
       "      <td>0.551714</td>\n",
       "      <td>0.845158</td>\n",
       "      <td>0.458668</td>\n",
       "    </tr>\n",
       "  </tbody>\n",
       "</table>\n",
       "<p>300 rows × 5 columns</p>\n",
       "</div>"
      ],
      "text/plain": [
       "         COL1      Col2      Col3         D         E\n",
       "101    python  0.409293  0.489165  0.687367  0.480822\n",
       "102  0.286209  0.297536  0.083077  0.295641  0.461860\n",
       "103  0.607689  0.415759  0.335381  0.485997  0.981968\n",
       "104  0.988551  0.707449  0.722021  0.815020  0.741543\n",
       "105  0.286765  0.253285  0.507106  0.815619  0.337973\n",
       "..        ...       ...       ...       ...       ...\n",
       "396  0.548725  0.979460  0.020597  0.525332  0.627650\n",
       "397  0.574653  0.933232  0.308025  0.840045  0.545375\n",
       "398  0.955948  0.263059  0.366964  0.939503  0.647720\n",
       "399  0.756369  0.161190  0.560432  0.768491  0.872633\n",
       "400  0.153358  0.583771  0.551714  0.845158  0.458668\n",
       "\n",
       "[300 rows x 5 columns]"
      ]
     },
     "execution_count": 38,
     "metadata": {},
     "output_type": "execute_result"
    }
   ],
   "source": [
    "newdf=newdf.rename(index={'Sample 1':101})\n",
    "newdf"
   ]
  },
  {
   "cell_type": "code",
   "execution_count": 40,
   "metadata": {},
   "outputs": [
    {
     "data": {
      "text/html": [
       "<div>\n",
       "<style scoped>\n",
       "    .dataframe tbody tr th:only-of-type {\n",
       "        vertical-align: middle;\n",
       "    }\n",
       "\n",
       "    .dataframe tbody tr th {\n",
       "        vertical-align: top;\n",
       "    }\n",
       "\n",
       "    .dataframe thead th {\n",
       "        text-align: right;\n",
       "    }\n",
       "</style>\n",
       "<table border=\"1\" class=\"dataframe\">\n",
       "  <thead>\n",
       "    <tr style=\"text-align: right;\">\n",
       "      <th></th>\n",
       "      <th>COL1</th>\n",
       "      <th>Col2</th>\n",
       "      <th>Col3</th>\n",
       "      <th>D</th>\n",
       "      <th>E</th>\n",
       "    </tr>\n",
       "  </thead>\n",
       "  <tbody>\n",
       "    <tr>\n",
       "      <th>400</th>\n",
       "      <td>0.153358</td>\n",
       "      <td>0.583771</td>\n",
       "      <td>0.551714</td>\n",
       "      <td>0.845158</td>\n",
       "      <td>0.458668</td>\n",
       "    </tr>\n",
       "    <tr>\n",
       "      <th>399</th>\n",
       "      <td>0.756369</td>\n",
       "      <td>0.161190</td>\n",
       "      <td>0.560432</td>\n",
       "      <td>0.768491</td>\n",
       "      <td>0.872633</td>\n",
       "    </tr>\n",
       "    <tr>\n",
       "      <th>398</th>\n",
       "      <td>0.955948</td>\n",
       "      <td>0.263059</td>\n",
       "      <td>0.366964</td>\n",
       "      <td>0.939503</td>\n",
       "      <td>0.647720</td>\n",
       "    </tr>\n",
       "    <tr>\n",
       "      <th>397</th>\n",
       "      <td>0.574653</td>\n",
       "      <td>0.933232</td>\n",
       "      <td>0.308025</td>\n",
       "      <td>0.840045</td>\n",
       "      <td>0.545375</td>\n",
       "    </tr>\n",
       "    <tr>\n",
       "      <th>396</th>\n",
       "      <td>0.548725</td>\n",
       "      <td>0.979460</td>\n",
       "      <td>0.020597</td>\n",
       "      <td>0.525332</td>\n",
       "      <td>0.627650</td>\n",
       "    </tr>\n",
       "    <tr>\n",
       "      <th>...</th>\n",
       "      <td>...</td>\n",
       "      <td>...</td>\n",
       "      <td>...</td>\n",
       "      <td>...</td>\n",
       "      <td>...</td>\n",
       "    </tr>\n",
       "    <tr>\n",
       "      <th>105</th>\n",
       "      <td>0.286765</td>\n",
       "      <td>0.253285</td>\n",
       "      <td>0.507106</td>\n",
       "      <td>0.815619</td>\n",
       "      <td>0.337973</td>\n",
       "    </tr>\n",
       "    <tr>\n",
       "      <th>104</th>\n",
       "      <td>0.988551</td>\n",
       "      <td>0.707449</td>\n",
       "      <td>0.722021</td>\n",
       "      <td>0.815020</td>\n",
       "      <td>0.741543</td>\n",
       "    </tr>\n",
       "    <tr>\n",
       "      <th>103</th>\n",
       "      <td>0.607689</td>\n",
       "      <td>0.415759</td>\n",
       "      <td>0.335381</td>\n",
       "      <td>0.485997</td>\n",
       "      <td>0.981968</td>\n",
       "    </tr>\n",
       "    <tr>\n",
       "      <th>102</th>\n",
       "      <td>0.286209</td>\n",
       "      <td>0.297536</td>\n",
       "      <td>0.083077</td>\n",
       "      <td>0.295641</td>\n",
       "      <td>0.461860</td>\n",
       "    </tr>\n",
       "    <tr>\n",
       "      <th>101</th>\n",
       "      <td>python</td>\n",
       "      <td>0.409293</td>\n",
       "      <td>0.489165</td>\n",
       "      <td>0.687367</td>\n",
       "      <td>0.480822</td>\n",
       "    </tr>\n",
       "  </tbody>\n",
       "</table>\n",
       "<p>300 rows × 5 columns</p>\n",
       "</div>"
      ],
      "text/plain": [
       "         COL1      Col2      Col3         D         E\n",
       "400  0.153358  0.583771  0.551714  0.845158  0.458668\n",
       "399  0.756369  0.161190  0.560432  0.768491  0.872633\n",
       "398  0.955948  0.263059  0.366964  0.939503  0.647720\n",
       "397  0.574653  0.933232  0.308025  0.840045  0.545375\n",
       "396  0.548725  0.979460  0.020597  0.525332  0.627650\n",
       "..        ...       ...       ...       ...       ...\n",
       "105  0.286765  0.253285  0.507106  0.815619  0.337973\n",
       "104  0.988551  0.707449  0.722021  0.815020  0.741543\n",
       "103  0.607689  0.415759  0.335381  0.485997  0.981968\n",
       "102  0.286209  0.297536  0.083077  0.295641  0.461860\n",
       "101    python  0.409293  0.489165  0.687367  0.480822\n",
       "\n",
       "[300 rows x 5 columns]"
      ]
     },
     "execution_count": 40,
     "metadata": {},
     "output_type": "execute_result"
    }
   ],
   "source": [
    "newdf.sort_index(ascending=False)"
   ]
  },
  {
   "cell_type": "code",
   "execution_count": 41,
   "metadata": {},
   "outputs": [
    {
     "data": {
      "text/html": [
       "<div>\n",
       "<style scoped>\n",
       "    .dataframe tbody tr th:only-of-type {\n",
       "        vertical-align: middle;\n",
       "    }\n",
       "\n",
       "    .dataframe tbody tr th {\n",
       "        vertical-align: top;\n",
       "    }\n",
       "\n",
       "    .dataframe thead th {\n",
       "        text-align: right;\n",
       "    }\n",
       "</style>\n",
       "<table border=\"1\" class=\"dataframe\">\n",
       "  <thead>\n",
       "    <tr style=\"text-align: right;\">\n",
       "      <th></th>\n",
       "      <th>E</th>\n",
       "      <th>D</th>\n",
       "      <th>Col3</th>\n",
       "      <th>Col2</th>\n",
       "      <th>COL1</th>\n",
       "    </tr>\n",
       "  </thead>\n",
       "  <tbody>\n",
       "    <tr>\n",
       "      <th>101</th>\n",
       "      <td>0.480822</td>\n",
       "      <td>0.687367</td>\n",
       "      <td>0.489165</td>\n",
       "      <td>0.409293</td>\n",
       "      <td>python</td>\n",
       "    </tr>\n",
       "    <tr>\n",
       "      <th>102</th>\n",
       "      <td>0.461860</td>\n",
       "      <td>0.295641</td>\n",
       "      <td>0.083077</td>\n",
       "      <td>0.297536</td>\n",
       "      <td>0.286209</td>\n",
       "    </tr>\n",
       "    <tr>\n",
       "      <th>103</th>\n",
       "      <td>0.981968</td>\n",
       "      <td>0.485997</td>\n",
       "      <td>0.335381</td>\n",
       "      <td>0.415759</td>\n",
       "      <td>0.607689</td>\n",
       "    </tr>\n",
       "    <tr>\n",
       "      <th>104</th>\n",
       "      <td>0.741543</td>\n",
       "      <td>0.815020</td>\n",
       "      <td>0.722021</td>\n",
       "      <td>0.707449</td>\n",
       "      <td>0.988551</td>\n",
       "    </tr>\n",
       "    <tr>\n",
       "      <th>105</th>\n",
       "      <td>0.337973</td>\n",
       "      <td>0.815619</td>\n",
       "      <td>0.507106</td>\n",
       "      <td>0.253285</td>\n",
       "      <td>0.286765</td>\n",
       "    </tr>\n",
       "    <tr>\n",
       "      <th>...</th>\n",
       "      <td>...</td>\n",
       "      <td>...</td>\n",
       "      <td>...</td>\n",
       "      <td>...</td>\n",
       "      <td>...</td>\n",
       "    </tr>\n",
       "    <tr>\n",
       "      <th>396</th>\n",
       "      <td>0.627650</td>\n",
       "      <td>0.525332</td>\n",
       "      <td>0.020597</td>\n",
       "      <td>0.979460</td>\n",
       "      <td>0.548725</td>\n",
       "    </tr>\n",
       "    <tr>\n",
       "      <th>397</th>\n",
       "      <td>0.545375</td>\n",
       "      <td>0.840045</td>\n",
       "      <td>0.308025</td>\n",
       "      <td>0.933232</td>\n",
       "      <td>0.574653</td>\n",
       "    </tr>\n",
       "    <tr>\n",
       "      <th>398</th>\n",
       "      <td>0.647720</td>\n",
       "      <td>0.939503</td>\n",
       "      <td>0.366964</td>\n",
       "      <td>0.263059</td>\n",
       "      <td>0.955948</td>\n",
       "    </tr>\n",
       "    <tr>\n",
       "      <th>399</th>\n",
       "      <td>0.872633</td>\n",
       "      <td>0.768491</td>\n",
       "      <td>0.560432</td>\n",
       "      <td>0.161190</td>\n",
       "      <td>0.756369</td>\n",
       "    </tr>\n",
       "    <tr>\n",
       "      <th>400</th>\n",
       "      <td>0.458668</td>\n",
       "      <td>0.845158</td>\n",
       "      <td>0.551714</td>\n",
       "      <td>0.583771</td>\n",
       "      <td>0.153358</td>\n",
       "    </tr>\n",
       "  </tbody>\n",
       "</table>\n",
       "<p>300 rows × 5 columns</p>\n",
       "</div>"
      ],
      "text/plain": [
       "            E         D      Col3      Col2      COL1\n",
       "101  0.480822  0.687367  0.489165  0.409293    python\n",
       "102  0.461860  0.295641  0.083077  0.297536  0.286209\n",
       "103  0.981968  0.485997  0.335381  0.415759  0.607689\n",
       "104  0.741543  0.815020  0.722021  0.707449  0.988551\n",
       "105  0.337973  0.815619  0.507106  0.253285  0.286765\n",
       "..        ...       ...       ...       ...       ...\n",
       "396  0.627650  0.525332  0.020597  0.979460  0.548725\n",
       "397  0.545375  0.840045  0.308025  0.933232  0.574653\n",
       "398  0.647720  0.939503  0.366964  0.263059  0.955948\n",
       "399  0.872633  0.768491  0.560432  0.161190  0.756369\n",
       "400  0.458668  0.845158  0.551714  0.583771  0.153358\n",
       "\n",
       "[300 rows x 5 columns]"
      ]
     },
     "execution_count": 41,
     "metadata": {},
     "output_type": "execute_result"
    }
   ],
   "source": [
    "newdf.sort_index(axis=1,ascending=False)"
   ]
  },
  {
   "cell_type": "code",
   "execution_count": 42,
   "metadata": {},
   "outputs": [
    {
     "data": {
      "text/html": [
       "<div>\n",
       "<style scoped>\n",
       "    .dataframe tbody tr th:only-of-type {\n",
       "        vertical-align: middle;\n",
       "    }\n",
       "\n",
       "    .dataframe tbody tr th {\n",
       "        vertical-align: top;\n",
       "    }\n",
       "\n",
       "    .dataframe thead th {\n",
       "        text-align: right;\n",
       "    }\n",
       "</style>\n",
       "<table border=\"1\" class=\"dataframe\">\n",
       "  <thead>\n",
       "    <tr style=\"text-align: right;\">\n",
       "      <th></th>\n",
       "      <th>COL1</th>\n",
       "      <th>Col2</th>\n",
       "      <th>Col3</th>\n",
       "      <th>D</th>\n",
       "      <th>E</th>\n",
       "    </tr>\n",
       "  </thead>\n",
       "  <tbody>\n",
       "    <tr>\n",
       "      <th>101</th>\n",
       "      <td>python</td>\n",
       "      <td>0.409293</td>\n",
       "      <td>0.489165</td>\n",
       "      <td>0.687367</td>\n",
       "      <td>0.480822</td>\n",
       "    </tr>\n",
       "    <tr>\n",
       "      <th>102</th>\n",
       "      <td>0.286209</td>\n",
       "      <td>0.297536</td>\n",
       "      <td>0.083077</td>\n",
       "      <td>0.295641</td>\n",
       "      <td>0.461860</td>\n",
       "    </tr>\n",
       "    <tr>\n",
       "      <th>103</th>\n",
       "      <td>0.607689</td>\n",
       "      <td>0.415759</td>\n",
       "      <td>0.335381</td>\n",
       "      <td>0.485997</td>\n",
       "      <td>0.981968</td>\n",
       "    </tr>\n",
       "    <tr>\n",
       "      <th>104</th>\n",
       "      <td>0.988551</td>\n",
       "      <td>0.707449</td>\n",
       "      <td>0.722021</td>\n",
       "      <td>0.815020</td>\n",
       "      <td>0.741543</td>\n",
       "    </tr>\n",
       "    <tr>\n",
       "      <th>105</th>\n",
       "      <td>0.286765</td>\n",
       "      <td>0.253285</td>\n",
       "      <td>0.507106</td>\n",
       "      <td>0.815619</td>\n",
       "      <td>0.337973</td>\n",
       "    </tr>\n",
       "  </tbody>\n",
       "</table>\n",
       "</div>"
      ],
      "text/plain": [
       "         COL1      Col2      Col3         D         E\n",
       "101    python  0.409293  0.489165  0.687367  0.480822\n",
       "102  0.286209  0.297536  0.083077  0.295641  0.461860\n",
       "103  0.607689  0.415759  0.335381  0.485997  0.981968\n",
       "104  0.988551  0.707449  0.722021  0.815020  0.741543\n",
       "105  0.286765  0.253285  0.507106  0.815619  0.337973"
      ]
     },
     "execution_count": 42,
     "metadata": {},
     "output_type": "execute_result"
    }
   ],
   "source": [
    "newdf.head(5)"
   ]
  },
  {
   "cell_type": "code",
   "execution_count": 43,
   "metadata": {},
   "outputs": [],
   "source": [
    "moddf=newdf"
   ]
  },
  {
   "cell_type": "code",
   "execution_count": 44,
   "metadata": {},
   "outputs": [
    {
     "data": {
      "text/html": [
       "<div>\n",
       "<style scoped>\n",
       "    .dataframe tbody tr th:only-of-type {\n",
       "        vertical-align: middle;\n",
       "    }\n",
       "\n",
       "    .dataframe tbody tr th {\n",
       "        vertical-align: top;\n",
       "    }\n",
       "\n",
       "    .dataframe thead th {\n",
       "        text-align: right;\n",
       "    }\n",
       "</style>\n",
       "<table border=\"1\" class=\"dataframe\">\n",
       "  <thead>\n",
       "    <tr style=\"text-align: right;\">\n",
       "      <th></th>\n",
       "      <th>COL1</th>\n",
       "      <th>Col2</th>\n",
       "      <th>Col3</th>\n",
       "      <th>D</th>\n",
       "      <th>E</th>\n",
       "    </tr>\n",
       "  </thead>\n",
       "  <tbody>\n",
       "    <tr>\n",
       "      <th>101</th>\n",
       "      <td>python</td>\n",
       "      <td>0.409293</td>\n",
       "      <td>0.489165</td>\n",
       "      <td>0.687367</td>\n",
       "      <td>0.480822</td>\n",
       "    </tr>\n",
       "    <tr>\n",
       "      <th>102</th>\n",
       "      <td>0.286209</td>\n",
       "      <td>0.297536</td>\n",
       "      <td>0.083077</td>\n",
       "      <td>0.295641</td>\n",
       "      <td>0.461860</td>\n",
       "    </tr>\n",
       "    <tr>\n",
       "      <th>103</th>\n",
       "      <td>0.607689</td>\n",
       "      <td>0.415759</td>\n",
       "      <td>0.335381</td>\n",
       "      <td>0.485997</td>\n",
       "      <td>0.981968</td>\n",
       "    </tr>\n",
       "  </tbody>\n",
       "</table>\n",
       "</div>"
      ],
      "text/plain": [
       "         COL1      Col2      Col3         D         E\n",
       "101    python  0.409293  0.489165  0.687367  0.480822\n",
       "102  0.286209  0.297536  0.083077  0.295641  0.461860\n",
       "103  0.607689  0.415759  0.335381  0.485997  0.981968"
      ]
     },
     "execution_count": 44,
     "metadata": {},
     "output_type": "execute_result"
    }
   ],
   "source": [
    "moddf.head(3)"
   ]
  },
  {
   "cell_type": "code",
   "execution_count": 45,
   "metadata": {},
   "outputs": [],
   "source": [
    "moddf['COL1']=np.random.rand(300)"
   ]
  },
  {
   "cell_type": "code",
   "execution_count": 46,
   "metadata": {},
   "outputs": [
    {
     "data": {
      "text/html": [
       "<div>\n",
       "<style scoped>\n",
       "    .dataframe tbody tr th:only-of-type {\n",
       "        vertical-align: middle;\n",
       "    }\n",
       "\n",
       "    .dataframe tbody tr th {\n",
       "        vertical-align: top;\n",
       "    }\n",
       "\n",
       "    .dataframe thead th {\n",
       "        text-align: right;\n",
       "    }\n",
       "</style>\n",
       "<table border=\"1\" class=\"dataframe\">\n",
       "  <thead>\n",
       "    <tr style=\"text-align: right;\">\n",
       "      <th></th>\n",
       "      <th>COL1</th>\n",
       "      <th>Col2</th>\n",
       "      <th>Col3</th>\n",
       "      <th>D</th>\n",
       "      <th>E</th>\n",
       "    </tr>\n",
       "  </thead>\n",
       "  <tbody>\n",
       "    <tr>\n",
       "      <th>101</th>\n",
       "      <td>0.618762</td>\n",
       "      <td>0.409293</td>\n",
       "      <td>0.489165</td>\n",
       "      <td>0.687367</td>\n",
       "      <td>0.480822</td>\n",
       "    </tr>\n",
       "    <tr>\n",
       "      <th>102</th>\n",
       "      <td>0.058086</td>\n",
       "      <td>0.297536</td>\n",
       "      <td>0.083077</td>\n",
       "      <td>0.295641</td>\n",
       "      <td>0.461860</td>\n",
       "    </tr>\n",
       "    <tr>\n",
       "      <th>103</th>\n",
       "      <td>0.236499</td>\n",
       "      <td>0.415759</td>\n",
       "      <td>0.335381</td>\n",
       "      <td>0.485997</td>\n",
       "      <td>0.981968</td>\n",
       "    </tr>\n",
       "  </tbody>\n",
       "</table>\n",
       "</div>"
      ],
      "text/plain": [
       "         COL1      Col2      Col3         D         E\n",
       "101  0.618762  0.409293  0.489165  0.687367  0.480822\n",
       "102  0.058086  0.297536  0.083077  0.295641  0.461860\n",
       "103  0.236499  0.415759  0.335381  0.485997  0.981968"
      ]
     },
     "execution_count": 46,
     "metadata": {},
     "output_type": "execute_result"
    }
   ],
   "source": [
    "moddf.head(3)"
   ]
  },
  {
   "cell_type": "code",
   "execution_count": 47,
   "metadata": {},
   "outputs": [
    {
     "data": {
      "text/html": [
       "<div>\n",
       "<style scoped>\n",
       "    .dataframe tbody tr th:only-of-type {\n",
       "        vertical-align: middle;\n",
       "    }\n",
       "\n",
       "    .dataframe tbody tr th {\n",
       "        vertical-align: top;\n",
       "    }\n",
       "\n",
       "    .dataframe thead th {\n",
       "        text-align: right;\n",
       "    }\n",
       "</style>\n",
       "<table border=\"1\" class=\"dataframe\">\n",
       "  <thead>\n",
       "    <tr style=\"text-align: right;\">\n",
       "      <th></th>\n",
       "      <th>COL1</th>\n",
       "      <th>Col2</th>\n",
       "      <th>Col3</th>\n",
       "      <th>D</th>\n",
       "      <th>E</th>\n",
       "    </tr>\n",
       "  </thead>\n",
       "  <tbody>\n",
       "    <tr>\n",
       "      <th>101</th>\n",
       "      <td>0.618762</td>\n",
       "      <td>0.409293</td>\n",
       "      <td>0.489165</td>\n",
       "      <td>0.687367</td>\n",
       "      <td>0.480822</td>\n",
       "    </tr>\n",
       "    <tr>\n",
       "      <th>102</th>\n",
       "      <td>0.058086</td>\n",
       "      <td>0.297536</td>\n",
       "      <td>0.083077</td>\n",
       "      <td>0.295641</td>\n",
       "      <td>0.461860</td>\n",
       "    </tr>\n",
       "    <tr>\n",
       "      <th>103</th>\n",
       "      <td>0.236499</td>\n",
       "      <td>0.415759</td>\n",
       "      <td>0.335381</td>\n",
       "      <td>0.485997</td>\n",
       "      <td>0.981968</td>\n",
       "    </tr>\n",
       "  </tbody>\n",
       "</table>\n",
       "</div>"
      ],
      "text/plain": [
       "         COL1      Col2      Col3         D         E\n",
       "101  0.618762  0.409293  0.489165  0.687367  0.480822\n",
       "102  0.058086  0.297536  0.083077  0.295641  0.461860\n",
       "103  0.236499  0.415759  0.335381  0.485997  0.981968"
      ]
     },
     "execution_count": 47,
     "metadata": {},
     "output_type": "execute_result"
    }
   ],
   "source": [
    "newdf.head(3)"
   ]
  },
  {
   "cell_type": "code",
   "execution_count": 49,
   "metadata": {},
   "outputs": [
    {
     "data": {
      "text/html": [
       "<div>\n",
       "<style scoped>\n",
       "    .dataframe tbody tr th:only-of-type {\n",
       "        vertical-align: middle;\n",
       "    }\n",
       "\n",
       "    .dataframe tbody tr th {\n",
       "        vertical-align: top;\n",
       "    }\n",
       "\n",
       "    .dataframe thead th {\n",
       "        text-align: right;\n",
       "    }\n",
       "</style>\n",
       "<table border=\"1\" class=\"dataframe\">\n",
       "  <thead>\n",
       "    <tr style=\"text-align: right;\">\n",
       "      <th></th>\n",
       "      <th>COL1</th>\n",
       "      <th>Col2</th>\n",
       "      <th>Col3</th>\n",
       "      <th>D</th>\n",
       "      <th>E</th>\n",
       "    </tr>\n",
       "  </thead>\n",
       "  <tbody>\n",
       "    <tr>\n",
       "      <th>101</th>\n",
       "      <td>0.250000</td>\n",
       "      <td>0.409293</td>\n",
       "      <td>0.489165</td>\n",
       "      <td>0.687367</td>\n",
       "      <td>0.480822</td>\n",
       "    </tr>\n",
       "    <tr>\n",
       "      <th>102</th>\n",
       "      <td>0.058086</td>\n",
       "      <td>0.297536</td>\n",
       "      <td>0.083077</td>\n",
       "      <td>0.295641</td>\n",
       "      <td>0.461860</td>\n",
       "    </tr>\n",
       "    <tr>\n",
       "      <th>103</th>\n",
       "      <td>0.236499</td>\n",
       "      <td>0.415759</td>\n",
       "      <td>0.335381</td>\n",
       "      <td>0.485997</td>\n",
       "      <td>0.981968</td>\n",
       "    </tr>\n",
       "    <tr>\n",
       "      <th>104</th>\n",
       "      <td>0.399361</td>\n",
       "      <td>0.707449</td>\n",
       "      <td>0.722021</td>\n",
       "      <td>0.815020</td>\n",
       "      <td>0.741543</td>\n",
       "    </tr>\n",
       "    <tr>\n",
       "      <th>105</th>\n",
       "      <td>0.833768</td>\n",
       "      <td>0.253285</td>\n",
       "      <td>0.507106</td>\n",
       "      <td>0.815619</td>\n",
       "      <td>0.337973</td>\n",
       "    </tr>\n",
       "    <tr>\n",
       "      <th>...</th>\n",
       "      <td>...</td>\n",
       "      <td>...</td>\n",
       "      <td>...</td>\n",
       "      <td>...</td>\n",
       "      <td>...</td>\n",
       "    </tr>\n",
       "    <tr>\n",
       "      <th>396</th>\n",
       "      <td>0.765339</td>\n",
       "      <td>0.979460</td>\n",
       "      <td>0.020597</td>\n",
       "      <td>0.525332</td>\n",
       "      <td>0.627650</td>\n",
       "    </tr>\n",
       "    <tr>\n",
       "      <th>397</th>\n",
       "      <td>0.793562</td>\n",
       "      <td>0.933232</td>\n",
       "      <td>0.308025</td>\n",
       "      <td>0.840045</td>\n",
       "      <td>0.545375</td>\n",
       "    </tr>\n",
       "    <tr>\n",
       "      <th>398</th>\n",
       "      <td>0.050780</td>\n",
       "      <td>0.263059</td>\n",
       "      <td>0.366964</td>\n",
       "      <td>0.939503</td>\n",
       "      <td>0.647720</td>\n",
       "    </tr>\n",
       "    <tr>\n",
       "      <th>399</th>\n",
       "      <td>0.795329</td>\n",
       "      <td>0.161190</td>\n",
       "      <td>0.560432</td>\n",
       "      <td>0.768491</td>\n",
       "      <td>0.872633</td>\n",
       "    </tr>\n",
       "    <tr>\n",
       "      <th>400</th>\n",
       "      <td>0.863961</td>\n",
       "      <td>0.583771</td>\n",
       "      <td>0.551714</td>\n",
       "      <td>0.845158</td>\n",
       "      <td>0.458668</td>\n",
       "    </tr>\n",
       "  </tbody>\n",
       "</table>\n",
       "<p>300 rows × 5 columns</p>\n",
       "</div>"
      ],
      "text/plain": [
       "         COL1      Col2      Col3         D         E\n",
       "101  0.250000  0.409293  0.489165  0.687367  0.480822\n",
       "102  0.058086  0.297536  0.083077  0.295641  0.461860\n",
       "103  0.236499  0.415759  0.335381  0.485997  0.981968\n",
       "104  0.399361  0.707449  0.722021  0.815020  0.741543\n",
       "105  0.833768  0.253285  0.507106  0.815619  0.337973\n",
       "..        ...       ...       ...       ...       ...\n",
       "396  0.765339  0.979460  0.020597  0.525332  0.627650\n",
       "397  0.793562  0.933232  0.308025  0.840045  0.545375\n",
       "398  0.050780  0.263059  0.366964  0.939503  0.647720\n",
       "399  0.795329  0.161190  0.560432  0.768491  0.872633\n",
       "400  0.863961  0.583771  0.551714  0.845158  0.458668\n",
       "\n",
       "[300 rows x 5 columns]"
      ]
     },
     "execution_count": 49,
     "metadata": {},
     "output_type": "execute_result"
    }
   ],
   "source": [
    "newdf['COL1'][101]=0.25\n",
    "newdf"
   ]
  },
  {
   "cell_type": "code",
   "execution_count": 50,
   "metadata": {},
   "outputs": [
    {
     "data": {
      "text/html": [
       "<div>\n",
       "<style scoped>\n",
       "    .dataframe tbody tr th:only-of-type {\n",
       "        vertical-align: middle;\n",
       "    }\n",
       "\n",
       "    .dataframe tbody tr th {\n",
       "        vertical-align: top;\n",
       "    }\n",
       "\n",
       "    .dataframe thead th {\n",
       "        text-align: right;\n",
       "    }\n",
       "</style>\n",
       "<table border=\"1\" class=\"dataframe\">\n",
       "  <thead>\n",
       "    <tr style=\"text-align: right;\">\n",
       "      <th></th>\n",
       "      <th>COL1</th>\n",
       "      <th>Col2</th>\n",
       "      <th>Col3</th>\n",
       "      <th>D</th>\n",
       "      <th>E</th>\n",
       "    </tr>\n",
       "  </thead>\n",
       "  <tbody>\n",
       "    <tr>\n",
       "      <th>101</th>\n",
       "      <td>0.250000</td>\n",
       "      <td>0.409293</td>\n",
       "      <td>0.489165</td>\n",
       "      <td>0.687367</td>\n",
       "      <td>0.480822</td>\n",
       "    </tr>\n",
       "    <tr>\n",
       "      <th>102</th>\n",
       "      <td>0.058086</td>\n",
       "      <td>0.297536</td>\n",
       "      <td>0.083077</td>\n",
       "      <td>0.295641</td>\n",
       "      <td>0.461860</td>\n",
       "    </tr>\n",
       "    <tr>\n",
       "      <th>103</th>\n",
       "      <td>0.236499</td>\n",
       "      <td>0.415759</td>\n",
       "      <td>0.335381</td>\n",
       "      <td>0.485997</td>\n",
       "      <td>0.981968</td>\n",
       "    </tr>\n",
       "    <tr>\n",
       "      <th>104</th>\n",
       "      <td>0.399361</td>\n",
       "      <td>0.707449</td>\n",
       "      <td>0.722021</td>\n",
       "      <td>0.815020</td>\n",
       "      <td>0.741543</td>\n",
       "    </tr>\n",
       "    <tr>\n",
       "      <th>105</th>\n",
       "      <td>0.833768</td>\n",
       "      <td>0.253285</td>\n",
       "      <td>0.507106</td>\n",
       "      <td>0.815619</td>\n",
       "      <td>0.337973</td>\n",
       "    </tr>\n",
       "    <tr>\n",
       "      <th>...</th>\n",
       "      <td>...</td>\n",
       "      <td>...</td>\n",
       "      <td>...</td>\n",
       "      <td>...</td>\n",
       "      <td>...</td>\n",
       "    </tr>\n",
       "    <tr>\n",
       "      <th>396</th>\n",
       "      <td>0.765339</td>\n",
       "      <td>0.979460</td>\n",
       "      <td>0.020597</td>\n",
       "      <td>0.525332</td>\n",
       "      <td>0.627650</td>\n",
       "    </tr>\n",
       "    <tr>\n",
       "      <th>397</th>\n",
       "      <td>0.793562</td>\n",
       "      <td>0.933232</td>\n",
       "      <td>0.308025</td>\n",
       "      <td>0.840045</td>\n",
       "      <td>0.545375</td>\n",
       "    </tr>\n",
       "    <tr>\n",
       "      <th>398</th>\n",
       "      <td>0.050780</td>\n",
       "      <td>0.263059</td>\n",
       "      <td>0.366964</td>\n",
       "      <td>0.939503</td>\n",
       "      <td>0.647720</td>\n",
       "    </tr>\n",
       "    <tr>\n",
       "      <th>399</th>\n",
       "      <td>0.795329</td>\n",
       "      <td>0.161190</td>\n",
       "      <td>0.560432</td>\n",
       "      <td>0.768491</td>\n",
       "      <td>0.872633</td>\n",
       "    </tr>\n",
       "    <tr>\n",
       "      <th>400</th>\n",
       "      <td>0.863961</td>\n",
       "      <td>0.583771</td>\n",
       "      <td>0.551714</td>\n",
       "      <td>0.845158</td>\n",
       "      <td>0.458668</td>\n",
       "    </tr>\n",
       "  </tbody>\n",
       "</table>\n",
       "<p>300 rows × 5 columns</p>\n",
       "</div>"
      ],
      "text/plain": [
       "         COL1      Col2      Col3         D         E\n",
       "101  0.250000  0.409293  0.489165  0.687367  0.480822\n",
       "102  0.058086  0.297536  0.083077  0.295641  0.461860\n",
       "103  0.236499  0.415759  0.335381  0.485997  0.981968\n",
       "104  0.399361  0.707449  0.722021  0.815020  0.741543\n",
       "105  0.833768  0.253285  0.507106  0.815619  0.337973\n",
       "..        ...       ...       ...       ...       ...\n",
       "396  0.765339  0.979460  0.020597  0.525332  0.627650\n",
       "397  0.793562  0.933232  0.308025  0.840045  0.545375\n",
       "398  0.050780  0.263059  0.366964  0.939503  0.647720\n",
       "399  0.795329  0.161190  0.560432  0.768491  0.872633\n",
       "400  0.863961  0.583771  0.551714  0.845158  0.458668\n",
       "\n",
       "[300 rows x 5 columns]"
      ]
     },
     "execution_count": 50,
     "metadata": {},
     "output_type": "execute_result"
    }
   ],
   "source": [
    "moddf=newdf.copy()\n",
    "moddf\n"
   ]
  },
  {
   "cell_type": "code",
   "execution_count": 51,
   "metadata": {},
   "outputs": [
    {
     "data": {
      "text/html": [
       "<div>\n",
       "<style scoped>\n",
       "    .dataframe tbody tr th:only-of-type {\n",
       "        vertical-align: middle;\n",
       "    }\n",
       "\n",
       "    .dataframe tbody tr th {\n",
       "        vertical-align: top;\n",
       "    }\n",
       "\n",
       "    .dataframe thead th {\n",
       "        text-align: right;\n",
       "    }\n",
       "</style>\n",
       "<table border=\"1\" class=\"dataframe\">\n",
       "  <thead>\n",
       "    <tr style=\"text-align: right;\">\n",
       "      <th></th>\n",
       "      <th>COL1</th>\n",
       "      <th>Col2</th>\n",
       "      <th>Col3</th>\n",
       "      <th>D</th>\n",
       "      <th>E</th>\n",
       "    </tr>\n",
       "  </thead>\n",
       "  <tbody>\n",
       "    <tr>\n",
       "      <th>101</th>\n",
       "      <td>0.250000</td>\n",
       "      <td>0.409293</td>\n",
       "      <td>0.489165</td>\n",
       "      <td>0.687367</td>\n",
       "      <td>0.480822</td>\n",
       "    </tr>\n",
       "    <tr>\n",
       "      <th>102</th>\n",
       "      <td>0.058086</td>\n",
       "      <td>0.297536</td>\n",
       "      <td>0.083077</td>\n",
       "      <td>0.295641</td>\n",
       "      <td>0.461860</td>\n",
       "    </tr>\n",
       "    <tr>\n",
       "      <th>103</th>\n",
       "      <td>0.236499</td>\n",
       "      <td>0.415759</td>\n",
       "      <td>0.335381</td>\n",
       "      <td>0.485997</td>\n",
       "      <td>0.981968</td>\n",
       "    </tr>\n",
       "  </tbody>\n",
       "</table>\n",
       "</div>"
      ],
      "text/plain": [
       "         COL1      Col2      Col3         D         E\n",
       "101  0.250000  0.409293  0.489165  0.687367  0.480822\n",
       "102  0.058086  0.297536  0.083077  0.295641  0.461860\n",
       "103  0.236499  0.415759  0.335381  0.485997  0.981968"
      ]
     },
     "execution_count": 51,
     "metadata": {},
     "output_type": "execute_result"
    }
   ],
   "source": [
    "newdf.head(3)"
   ]
  },
  {
   "cell_type": "code",
   "execution_count": 52,
   "metadata": {},
   "outputs": [
    {
     "data": {
      "text/plain": [
       "pandas.core.frame.DataFrame"
      ]
     },
     "execution_count": 52,
     "metadata": {},
     "output_type": "execute_result"
    }
   ],
   "source": [
    "type(moddf)"
   ]
  },
  {
   "cell_type": "code",
   "execution_count": 54,
   "metadata": {},
   "outputs": [
    {
     "data": {
      "text/html": [
       "<div>\n",
       "<style scoped>\n",
       "    .dataframe tbody tr th:only-of-type {\n",
       "        vertical-align: middle;\n",
       "    }\n",
       "\n",
       "    .dataframe tbody tr th {\n",
       "        vertical-align: top;\n",
       "    }\n",
       "\n",
       "    .dataframe thead th {\n",
       "        text-align: right;\n",
       "    }\n",
       "</style>\n",
       "<table border=\"1\" class=\"dataframe\">\n",
       "  <thead>\n",
       "    <tr style=\"text-align: right;\">\n",
       "      <th></th>\n",
       "      <th>COL1</th>\n",
       "      <th>Col2</th>\n",
       "      <th>Col3</th>\n",
       "      <th>D</th>\n",
       "      <th>E</th>\n",
       "    </tr>\n",
       "  </thead>\n",
       "  <tbody>\n",
       "    <tr>\n",
       "      <th>101</th>\n",
       "      <td>0.985000</td>\n",
       "      <td>0.409293</td>\n",
       "      <td>0.489165</td>\n",
       "      <td>0.687367</td>\n",
       "      <td>0.480822</td>\n",
       "    </tr>\n",
       "    <tr>\n",
       "      <th>102</th>\n",
       "      <td>0.058086</td>\n",
       "      <td>0.297536</td>\n",
       "      <td>0.083077</td>\n",
       "      <td>0.295641</td>\n",
       "      <td>0.461860</td>\n",
       "    </tr>\n",
       "    <tr>\n",
       "      <th>103</th>\n",
       "      <td>0.236499</td>\n",
       "      <td>0.415759</td>\n",
       "      <td>0.335381</td>\n",
       "      <td>0.485997</td>\n",
       "      <td>0.981968</td>\n",
       "    </tr>\n",
       "    <tr>\n",
       "      <th>104</th>\n",
       "      <td>0.399361</td>\n",
       "      <td>0.707449</td>\n",
       "      <td>0.722021</td>\n",
       "      <td>0.815020</td>\n",
       "      <td>0.741543</td>\n",
       "    </tr>\n",
       "    <tr>\n",
       "      <th>105</th>\n",
       "      <td>0.833768</td>\n",
       "      <td>0.253285</td>\n",
       "      <td>0.507106</td>\n",
       "      <td>0.815619</td>\n",
       "      <td>0.337973</td>\n",
       "    </tr>\n",
       "    <tr>\n",
       "      <th>...</th>\n",
       "      <td>...</td>\n",
       "      <td>...</td>\n",
       "      <td>...</td>\n",
       "      <td>...</td>\n",
       "      <td>...</td>\n",
       "    </tr>\n",
       "    <tr>\n",
       "      <th>396</th>\n",
       "      <td>0.765339</td>\n",
       "      <td>0.979460</td>\n",
       "      <td>0.020597</td>\n",
       "      <td>0.525332</td>\n",
       "      <td>0.627650</td>\n",
       "    </tr>\n",
       "    <tr>\n",
       "      <th>397</th>\n",
       "      <td>0.793562</td>\n",
       "      <td>0.933232</td>\n",
       "      <td>0.308025</td>\n",
       "      <td>0.840045</td>\n",
       "      <td>0.545375</td>\n",
       "    </tr>\n",
       "    <tr>\n",
       "      <th>398</th>\n",
       "      <td>0.050780</td>\n",
       "      <td>0.263059</td>\n",
       "      <td>0.366964</td>\n",
       "      <td>0.939503</td>\n",
       "      <td>0.647720</td>\n",
       "    </tr>\n",
       "    <tr>\n",
       "      <th>399</th>\n",
       "      <td>0.795329</td>\n",
       "      <td>0.161190</td>\n",
       "      <td>0.560432</td>\n",
       "      <td>0.768491</td>\n",
       "      <td>0.872633</td>\n",
       "    </tr>\n",
       "    <tr>\n",
       "      <th>400</th>\n",
       "      <td>0.863961</td>\n",
       "      <td>0.583771</td>\n",
       "      <td>0.551714</td>\n",
       "      <td>0.845158</td>\n",
       "      <td>0.458668</td>\n",
       "    </tr>\n",
       "  </tbody>\n",
       "</table>\n",
       "<p>300 rows × 5 columns</p>\n",
       "</div>"
      ],
      "text/plain": [
       "         COL1      Col2      Col3         D         E\n",
       "101  0.985000  0.409293  0.489165  0.687367  0.480822\n",
       "102  0.058086  0.297536  0.083077  0.295641  0.461860\n",
       "103  0.236499  0.415759  0.335381  0.485997  0.981968\n",
       "104  0.399361  0.707449  0.722021  0.815020  0.741543\n",
       "105  0.833768  0.253285  0.507106  0.815619  0.337973\n",
       "..        ...       ...       ...       ...       ...\n",
       "396  0.765339  0.979460  0.020597  0.525332  0.627650\n",
       "397  0.793562  0.933232  0.308025  0.840045  0.545375\n",
       "398  0.050780  0.263059  0.366964  0.939503  0.647720\n",
       "399  0.795329  0.161190  0.560432  0.768491  0.872633\n",
       "400  0.863961  0.583771  0.551714  0.845158  0.458668\n",
       "\n",
       "[300 rows x 5 columns]"
      ]
     },
     "execution_count": 54,
     "metadata": {},
     "output_type": "execute_result"
    }
   ],
   "source": [
    "newdf.loc[101,'COL1']=0.985\n",
    "newdf"
   ]
  },
  {
   "cell_type": "code",
   "execution_count": 55,
   "metadata": {},
   "outputs": [
    {
     "data": {
      "text/plain": [
       "0.985"
      ]
     },
     "execution_count": 55,
     "metadata": {},
     "output_type": "execute_result"
    }
   ],
   "source": [
    "newdf.loc[101,'COL1']"
   ]
  },
  {
   "cell_type": "code",
   "execution_count": 57,
   "metadata": {},
   "outputs": [
    {
     "data": {
      "text/plain": [
       "101    0.985000\n",
       "102    0.058086\n",
       "103    0.236499\n",
       "104    0.399361\n",
       "105    0.833768\n",
       "         ...   \n",
       "396    0.765339\n",
       "397    0.793562\n",
       "398    0.050780\n",
       "399    0.795329\n",
       "400    0.863961\n",
       "Name: COL1, Length: 300, dtype: float64"
      ]
     },
     "execution_count": 57,
     "metadata": {},
     "output_type": "execute_result"
    }
   ],
   "source": [
    "newdf.loc[:,'COL1']"
   ]
  },
  {
   "cell_type": "code",
   "execution_count": 58,
   "metadata": {},
   "outputs": [
    {
     "data": {
      "text/html": [
       "<div>\n",
       "<style scoped>\n",
       "    .dataframe tbody tr th:only-of-type {\n",
       "        vertical-align: middle;\n",
       "    }\n",
       "\n",
       "    .dataframe tbody tr th {\n",
       "        vertical-align: top;\n",
       "    }\n",
       "\n",
       "    .dataframe thead th {\n",
       "        text-align: right;\n",
       "    }\n",
       "</style>\n",
       "<table border=\"1\" class=\"dataframe\">\n",
       "  <thead>\n",
       "    <tr style=\"text-align: right;\">\n",
       "      <th></th>\n",
       "      <th>COL1</th>\n",
       "      <th>Col2</th>\n",
       "      <th>Col3</th>\n",
       "      <th>D</th>\n",
       "      <th>E</th>\n",
       "    </tr>\n",
       "  </thead>\n",
       "  <tbody>\n",
       "    <tr>\n",
       "      <th>101</th>\n",
       "      <td>0.985000</td>\n",
       "      <td>0.409293</td>\n",
       "      <td>0.489165</td>\n",
       "      <td>0.687367</td>\n",
       "      <td>0.480822</td>\n",
       "    </tr>\n",
       "    <tr>\n",
       "      <th>102</th>\n",
       "      <td>0.058086</td>\n",
       "      <td>0.297536</td>\n",
       "      <td>0.083077</td>\n",
       "      <td>0.295641</td>\n",
       "      <td>0.461860</td>\n",
       "    </tr>\n",
       "    <tr>\n",
       "      <th>103</th>\n",
       "      <td>0.236499</td>\n",
       "      <td>0.415759</td>\n",
       "      <td>0.335381</td>\n",
       "      <td>0.485997</td>\n",
       "      <td>0.981968</td>\n",
       "    </tr>\n",
       "    <tr>\n",
       "      <th>104</th>\n",
       "      <td>0.399361</td>\n",
       "      <td>0.707449</td>\n",
       "      <td>0.722021</td>\n",
       "      <td>0.815020</td>\n",
       "      <td>0.741543</td>\n",
       "    </tr>\n",
       "    <tr>\n",
       "      <th>105</th>\n",
       "      <td>0.833768</td>\n",
       "      <td>0.253285</td>\n",
       "      <td>0.507106</td>\n",
       "      <td>0.815619</td>\n",
       "      <td>0.337973</td>\n",
       "    </tr>\n",
       "    <tr>\n",
       "      <th>...</th>\n",
       "      <td>...</td>\n",
       "      <td>...</td>\n",
       "      <td>...</td>\n",
       "      <td>...</td>\n",
       "      <td>...</td>\n",
       "    </tr>\n",
       "    <tr>\n",
       "      <th>396</th>\n",
       "      <td>0.765339</td>\n",
       "      <td>0.979460</td>\n",
       "      <td>0.020597</td>\n",
       "      <td>0.525332</td>\n",
       "      <td>0.627650</td>\n",
       "    </tr>\n",
       "    <tr>\n",
       "      <th>397</th>\n",
       "      <td>0.793562</td>\n",
       "      <td>0.933232</td>\n",
       "      <td>0.308025</td>\n",
       "      <td>0.840045</td>\n",
       "      <td>0.545375</td>\n",
       "    </tr>\n",
       "    <tr>\n",
       "      <th>398</th>\n",
       "      <td>0.050780</td>\n",
       "      <td>0.263059</td>\n",
       "      <td>0.366964</td>\n",
       "      <td>0.939503</td>\n",
       "      <td>0.647720</td>\n",
       "    </tr>\n",
       "    <tr>\n",
       "      <th>399</th>\n",
       "      <td>0.795329</td>\n",
       "      <td>0.161190</td>\n",
       "      <td>0.560432</td>\n",
       "      <td>0.768491</td>\n",
       "      <td>0.872633</td>\n",
       "    </tr>\n",
       "    <tr>\n",
       "      <th>400</th>\n",
       "      <td>0.863961</td>\n",
       "      <td>0.583771</td>\n",
       "      <td>0.551714</td>\n",
       "      <td>0.845158</td>\n",
       "      <td>0.458668</td>\n",
       "    </tr>\n",
       "  </tbody>\n",
       "</table>\n",
       "<p>300 rows × 5 columns</p>\n",
       "</div>"
      ],
      "text/plain": [
       "         COL1      Col2      Col3         D         E\n",
       "101  0.985000  0.409293  0.489165  0.687367  0.480822\n",
       "102  0.058086  0.297536  0.083077  0.295641  0.461860\n",
       "103  0.236499  0.415759  0.335381  0.485997  0.981968\n",
       "104  0.399361  0.707449  0.722021  0.815020  0.741543\n",
       "105  0.833768  0.253285  0.507106  0.815619  0.337973\n",
       "..        ...       ...       ...       ...       ...\n",
       "396  0.765339  0.979460  0.020597  0.525332  0.627650\n",
       "397  0.793562  0.933232  0.308025  0.840045  0.545375\n",
       "398  0.050780  0.263059  0.366964  0.939503  0.647720\n",
       "399  0.795329  0.161190  0.560432  0.768491  0.872633\n",
       "400  0.863961  0.583771  0.551714  0.845158  0.458668\n",
       "\n",
       "[300 rows x 5 columns]"
      ]
     },
     "execution_count": 58,
     "metadata": {},
     "output_type": "execute_result"
    }
   ],
   "source": [
    "newdf.loc[:,:]"
   ]
  },
  {
   "cell_type": "code",
   "execution_count": 59,
   "metadata": {},
   "outputs": [
    {
     "data": {
      "text/plain": [
       "101    0.985000\n",
       "102    0.058086\n",
       "103    0.236499\n",
       "104    0.399361\n",
       "105    0.833768\n",
       "Name: COL1, dtype: float64"
      ]
     },
     "execution_count": 59,
     "metadata": {},
     "output_type": "execute_result"
    }
   ],
   "source": [
    "newdf.loc[101:105,'COL1']"
   ]
  },
  {
   "cell_type": "code",
   "execution_count": 60,
   "metadata": {},
   "outputs": [
    {
     "data": {
      "text/html": [
       "<div>\n",
       "<style scoped>\n",
       "    .dataframe tbody tr th:only-of-type {\n",
       "        vertical-align: middle;\n",
       "    }\n",
       "\n",
       "    .dataframe tbody tr th {\n",
       "        vertical-align: top;\n",
       "    }\n",
       "\n",
       "    .dataframe thead th {\n",
       "        text-align: right;\n",
       "    }\n",
       "</style>\n",
       "<table border=\"1\" class=\"dataframe\">\n",
       "  <thead>\n",
       "    <tr style=\"text-align: right;\">\n",
       "      <th></th>\n",
       "      <th>COL1</th>\n",
       "      <th>Col2</th>\n",
       "      <th>Col3</th>\n",
       "    </tr>\n",
       "  </thead>\n",
       "  <tbody>\n",
       "    <tr>\n",
       "      <th>101</th>\n",
       "      <td>0.985000</td>\n",
       "      <td>0.409293</td>\n",
       "      <td>0.489165</td>\n",
       "    </tr>\n",
       "    <tr>\n",
       "      <th>102</th>\n",
       "      <td>0.058086</td>\n",
       "      <td>0.297536</td>\n",
       "      <td>0.083077</td>\n",
       "    </tr>\n",
       "    <tr>\n",
       "      <th>103</th>\n",
       "      <td>0.236499</td>\n",
       "      <td>0.415759</td>\n",
       "      <td>0.335381</td>\n",
       "    </tr>\n",
       "    <tr>\n",
       "      <th>104</th>\n",
       "      <td>0.399361</td>\n",
       "      <td>0.707449</td>\n",
       "      <td>0.722021</td>\n",
       "    </tr>\n",
       "    <tr>\n",
       "      <th>105</th>\n",
       "      <td>0.833768</td>\n",
       "      <td>0.253285</td>\n",
       "      <td>0.507106</td>\n",
       "    </tr>\n",
       "  </tbody>\n",
       "</table>\n",
       "</div>"
      ],
      "text/plain": [
       "         COL1      Col2      Col3\n",
       "101  0.985000  0.409293  0.489165\n",
       "102  0.058086  0.297536  0.083077\n",
       "103  0.236499  0.415759  0.335381\n",
       "104  0.399361  0.707449  0.722021\n",
       "105  0.833768  0.253285  0.507106"
      ]
     },
     "execution_count": 60,
     "metadata": {},
     "output_type": "execute_result"
    }
   ],
   "source": [
    "newdf.loc[101:105,'COL1':'Col3']"
   ]
  },
  {
   "cell_type": "code",
   "execution_count": 61,
   "metadata": {},
   "outputs": [
    {
     "data": {
      "text/html": [
       "<div>\n",
       "<style scoped>\n",
       "    .dataframe tbody tr th:only-of-type {\n",
       "        vertical-align: middle;\n",
       "    }\n",
       "\n",
       "    .dataframe tbody tr th {\n",
       "        vertical-align: top;\n",
       "    }\n",
       "\n",
       "    .dataframe thead th {\n",
       "        text-align: right;\n",
       "    }\n",
       "</style>\n",
       "<table border=\"1\" class=\"dataframe\">\n",
       "  <thead>\n",
       "    <tr style=\"text-align: right;\">\n",
       "      <th></th>\n",
       "      <th>COL1</th>\n",
       "      <th>Col2</th>\n",
       "      <th>Col3</th>\n",
       "      <th>D</th>\n",
       "      <th>E</th>\n",
       "    </tr>\n",
       "  </thead>\n",
       "  <tbody>\n",
       "    <tr>\n",
       "      <th>119</th>\n",
       "      <td>0.957766</td>\n",
       "      <td>0.539946</td>\n",
       "      <td>0.043846</td>\n",
       "      <td>0.478151</td>\n",
       "      <td>0.143672</td>\n",
       "    </tr>\n",
       "    <tr>\n",
       "      <th>121</th>\n",
       "      <td>0.782185</td>\n",
       "      <td>0.785363</td>\n",
       "      <td>0.072680</td>\n",
       "      <td>0.390177</td>\n",
       "      <td>0.924253</td>\n",
       "    </tr>\n",
       "    <tr>\n",
       "      <th>181</th>\n",
       "      <td>0.568263</td>\n",
       "      <td>0.792250</td>\n",
       "      <td>0.080309</td>\n",
       "      <td>0.394789</td>\n",
       "      <td>0.233672</td>\n",
       "    </tr>\n",
       "    <tr>\n",
       "      <th>189</th>\n",
       "      <td>0.568215</td>\n",
       "      <td>0.945802</td>\n",
       "      <td>0.042448</td>\n",
       "      <td>0.971675</td>\n",
       "      <td>0.124114</td>\n",
       "    </tr>\n",
       "    <tr>\n",
       "      <th>196</th>\n",
       "      <td>0.758253</td>\n",
       "      <td>0.906825</td>\n",
       "      <td>0.032988</td>\n",
       "      <td>0.947343</td>\n",
       "      <td>0.297016</td>\n",
       "    </tr>\n",
       "    <tr>\n",
       "      <th>226</th>\n",
       "      <td>0.581823</td>\n",
       "      <td>0.361949</td>\n",
       "      <td>0.012276</td>\n",
       "      <td>0.483714</td>\n",
       "      <td>0.733869</td>\n",
       "    </tr>\n",
       "    <tr>\n",
       "      <th>246</th>\n",
       "      <td>0.782679</td>\n",
       "      <td>0.040078</td>\n",
       "      <td>0.000780</td>\n",
       "      <td>0.950649</td>\n",
       "      <td>0.874948</td>\n",
       "    </tr>\n",
       "    <tr>\n",
       "      <th>247</th>\n",
       "      <td>0.809237</td>\n",
       "      <td>0.204075</td>\n",
       "      <td>0.031457</td>\n",
       "      <td>0.515703</td>\n",
       "      <td>0.132659</td>\n",
       "    </tr>\n",
       "    <tr>\n",
       "      <th>283</th>\n",
       "      <td>0.556112</td>\n",
       "      <td>0.649806</td>\n",
       "      <td>0.023817</td>\n",
       "      <td>0.509998</td>\n",
       "      <td>0.894803</td>\n",
       "    </tr>\n",
       "    <tr>\n",
       "      <th>324</th>\n",
       "      <td>0.827373</td>\n",
       "      <td>0.579071</td>\n",
       "      <td>0.045206</td>\n",
       "      <td>0.812783</td>\n",
       "      <td>0.830879</td>\n",
       "    </tr>\n",
       "    <tr>\n",
       "      <th>325</th>\n",
       "      <td>0.960797</td>\n",
       "      <td>0.151697</td>\n",
       "      <td>0.047707</td>\n",
       "      <td>0.051285</td>\n",
       "      <td>0.216799</td>\n",
       "    </tr>\n",
       "    <tr>\n",
       "      <th>328</th>\n",
       "      <td>0.965770</td>\n",
       "      <td>0.617809</td>\n",
       "      <td>0.042650</td>\n",
       "      <td>0.166742</td>\n",
       "      <td>0.439263</td>\n",
       "    </tr>\n",
       "    <tr>\n",
       "      <th>364</th>\n",
       "      <td>0.941216</td>\n",
       "      <td>0.039288</td>\n",
       "      <td>0.059028</td>\n",
       "      <td>0.383046</td>\n",
       "      <td>0.057885</td>\n",
       "    </tr>\n",
       "    <tr>\n",
       "      <th>396</th>\n",
       "      <td>0.765339</td>\n",
       "      <td>0.979460</td>\n",
       "      <td>0.020597</td>\n",
       "      <td>0.525332</td>\n",
       "      <td>0.627650</td>\n",
       "    </tr>\n",
       "  </tbody>\n",
       "</table>\n",
       "</div>"
      ],
      "text/plain": [
       "         COL1      Col2      Col3         D         E\n",
       "119  0.957766  0.539946  0.043846  0.478151  0.143672\n",
       "121  0.782185  0.785363  0.072680  0.390177  0.924253\n",
       "181  0.568263  0.792250  0.080309  0.394789  0.233672\n",
       "189  0.568215  0.945802  0.042448  0.971675  0.124114\n",
       "196  0.758253  0.906825  0.032988  0.947343  0.297016\n",
       "226  0.581823  0.361949  0.012276  0.483714  0.733869\n",
       "246  0.782679  0.040078  0.000780  0.950649  0.874948\n",
       "247  0.809237  0.204075  0.031457  0.515703  0.132659\n",
       "283  0.556112  0.649806  0.023817  0.509998  0.894803\n",
       "324  0.827373  0.579071  0.045206  0.812783  0.830879\n",
       "325  0.960797  0.151697  0.047707  0.051285  0.216799\n",
       "328  0.965770  0.617809  0.042650  0.166742  0.439263\n",
       "364  0.941216  0.039288  0.059028  0.383046  0.057885\n",
       "396  0.765339  0.979460  0.020597  0.525332  0.627650"
      ]
     },
     "execution_count": 61,
     "metadata": {},
     "output_type": "execute_result"
    }
   ],
   "source": [
    "newdf.loc[(newdf['COL1']>0.5) & (newdf['Col3']<0.1)]"
   ]
  },
  {
   "cell_type": "code",
   "execution_count": 62,
   "metadata": {},
   "outputs": [
    {
     "data": {
      "text/plain": [
       "0.4808222819160438"
      ]
     },
     "execution_count": 62,
     "metadata": {},
     "output_type": "execute_result"
    }
   ],
   "source": [
    "newdf.iloc[0,4]"
   ]
  },
  {
   "cell_type": "code",
   "execution_count": 63,
   "metadata": {},
   "outputs": [
    {
     "data": {
      "text/plain": [
       "COL1    0.058086\n",
       "Col2    0.297536\n",
       "Col3    0.083077\n",
       "D       0.295641\n",
       "E       0.461860\n",
       "Name: 102, dtype: float64"
      ]
     },
     "execution_count": 63,
     "metadata": {},
     "output_type": "execute_result"
    }
   ],
   "source": [
    "newdf.iloc[1,:]"
   ]
  },
  {
   "cell_type": "code",
   "execution_count": 64,
   "metadata": {},
   "outputs": [
    {
     "data": {
      "text/html": [
       "<div>\n",
       "<style scoped>\n",
       "    .dataframe tbody tr th:only-of-type {\n",
       "        vertical-align: middle;\n",
       "    }\n",
       "\n",
       "    .dataframe tbody tr th {\n",
       "        vertical-align: top;\n",
       "    }\n",
       "\n",
       "    .dataframe thead th {\n",
       "        text-align: right;\n",
       "    }\n",
       "</style>\n",
       "<table border=\"1\" class=\"dataframe\">\n",
       "  <thead>\n",
       "    <tr style=\"text-align: right;\">\n",
       "      <th></th>\n",
       "      <th>Col2</th>\n",
       "      <th>Col3</th>\n",
       "      <th>D</th>\n",
       "    </tr>\n",
       "  </thead>\n",
       "  <tbody>\n",
       "    <tr>\n",
       "      <th>101</th>\n",
       "      <td>0.409293</td>\n",
       "      <td>0.489165</td>\n",
       "      <td>0.687367</td>\n",
       "    </tr>\n",
       "    <tr>\n",
       "      <th>102</th>\n",
       "      <td>0.297536</td>\n",
       "      <td>0.083077</td>\n",
       "      <td>0.295641</td>\n",
       "    </tr>\n",
       "    <tr>\n",
       "      <th>103</th>\n",
       "      <td>0.415759</td>\n",
       "      <td>0.335381</td>\n",
       "      <td>0.485997</td>\n",
       "    </tr>\n",
       "    <tr>\n",
       "      <th>104</th>\n",
       "      <td>0.707449</td>\n",
       "      <td>0.722021</td>\n",
       "      <td>0.815020</td>\n",
       "    </tr>\n",
       "    <tr>\n",
       "      <th>105</th>\n",
       "      <td>0.253285</td>\n",
       "      <td>0.507106</td>\n",
       "      <td>0.815619</td>\n",
       "    </tr>\n",
       "  </tbody>\n",
       "</table>\n",
       "</div>"
      ],
      "text/plain": [
       "         Col2      Col3         D\n",
       "101  0.409293  0.489165  0.687367\n",
       "102  0.297536  0.083077  0.295641\n",
       "103  0.415759  0.335381  0.485997\n",
       "104  0.707449  0.722021  0.815020\n",
       "105  0.253285  0.507106  0.815619"
      ]
     },
     "execution_count": 64,
     "metadata": {},
     "output_type": "execute_result"
    }
   ],
   "source": [
    "newdf.iloc[0:5,1:4]"
   ]
  },
  {
   "cell_type": "code",
   "execution_count": 67,
   "metadata": {},
   "outputs": [],
   "source": [
    "newdf.drop(['Col2'],axis=1,inplace=True)"
   ]
  },
  {
   "cell_type": "code",
   "execution_count": 68,
   "metadata": {},
   "outputs": [
    {
     "data": {
      "text/html": [
       "<div>\n",
       "<style scoped>\n",
       "    .dataframe tbody tr th:only-of-type {\n",
       "        vertical-align: middle;\n",
       "    }\n",
       "\n",
       "    .dataframe tbody tr th {\n",
       "        vertical-align: top;\n",
       "    }\n",
       "\n",
       "    .dataframe thead th {\n",
       "        text-align: right;\n",
       "    }\n",
       "</style>\n",
       "<table border=\"1\" class=\"dataframe\">\n",
       "  <thead>\n",
       "    <tr style=\"text-align: right;\">\n",
       "      <th></th>\n",
       "      <th>COL1</th>\n",
       "      <th>Col3</th>\n",
       "      <th>D</th>\n",
       "    </tr>\n",
       "  </thead>\n",
       "  <tbody>\n",
       "    <tr>\n",
       "      <th>101</th>\n",
       "      <td>0.985000</td>\n",
       "      <td>0.489165</td>\n",
       "      <td>0.687367</td>\n",
       "    </tr>\n",
       "    <tr>\n",
       "      <th>102</th>\n",
       "      <td>0.058086</td>\n",
       "      <td>0.083077</td>\n",
       "      <td>0.295641</td>\n",
       "    </tr>\n",
       "    <tr>\n",
       "      <th>103</th>\n",
       "      <td>0.236499</td>\n",
       "      <td>0.335381</td>\n",
       "      <td>0.485997</td>\n",
       "    </tr>\n",
       "    <tr>\n",
       "      <th>104</th>\n",
       "      <td>0.399361</td>\n",
       "      <td>0.722021</td>\n",
       "      <td>0.815020</td>\n",
       "    </tr>\n",
       "    <tr>\n",
       "      <th>105</th>\n",
       "      <td>0.833768</td>\n",
       "      <td>0.507106</td>\n",
       "      <td>0.815619</td>\n",
       "    </tr>\n",
       "    <tr>\n",
       "      <th>...</th>\n",
       "      <td>...</td>\n",
       "      <td>...</td>\n",
       "      <td>...</td>\n",
       "    </tr>\n",
       "    <tr>\n",
       "      <th>396</th>\n",
       "      <td>0.765339</td>\n",
       "      <td>0.020597</td>\n",
       "      <td>0.525332</td>\n",
       "    </tr>\n",
       "    <tr>\n",
       "      <th>397</th>\n",
       "      <td>0.793562</td>\n",
       "      <td>0.308025</td>\n",
       "      <td>0.840045</td>\n",
       "    </tr>\n",
       "    <tr>\n",
       "      <th>398</th>\n",
       "      <td>0.050780</td>\n",
       "      <td>0.366964</td>\n",
       "      <td>0.939503</td>\n",
       "    </tr>\n",
       "    <tr>\n",
       "      <th>399</th>\n",
       "      <td>0.795329</td>\n",
       "      <td>0.560432</td>\n",
       "      <td>0.768491</td>\n",
       "    </tr>\n",
       "    <tr>\n",
       "      <th>400</th>\n",
       "      <td>0.863961</td>\n",
       "      <td>0.551714</td>\n",
       "      <td>0.845158</td>\n",
       "    </tr>\n",
       "  </tbody>\n",
       "</table>\n",
       "<p>300 rows × 3 columns</p>\n",
       "</div>"
      ],
      "text/plain": [
       "         COL1      Col3         D\n",
       "101  0.985000  0.489165  0.687367\n",
       "102  0.058086  0.083077  0.295641\n",
       "103  0.236499  0.335381  0.485997\n",
       "104  0.399361  0.722021  0.815020\n",
       "105  0.833768  0.507106  0.815619\n",
       "..        ...       ...       ...\n",
       "396  0.765339  0.020597  0.525332\n",
       "397  0.793562  0.308025  0.840045\n",
       "398  0.050780  0.366964  0.939503\n",
       "399  0.795329  0.560432  0.768491\n",
       "400  0.863961  0.551714  0.845158\n",
       "\n",
       "[300 rows x 3 columns]"
      ]
     },
     "execution_count": 68,
     "metadata": {},
     "output_type": "execute_result"
    }
   ],
   "source": [
    "newdf"
   ]
  },
  {
   "cell_type": "code",
   "execution_count": 69,
   "metadata": {},
   "outputs": [],
   "source": [
    "newdf.reset_index(drop=False,inplace=True)"
   ]
  },
  {
   "cell_type": "code",
   "execution_count": 70,
   "metadata": {},
   "outputs": [
    {
     "data": {
      "text/html": [
       "<div>\n",
       "<style scoped>\n",
       "    .dataframe tbody tr th:only-of-type {\n",
       "        vertical-align: middle;\n",
       "    }\n",
       "\n",
       "    .dataframe tbody tr th {\n",
       "        vertical-align: top;\n",
       "    }\n",
       "\n",
       "    .dataframe thead th {\n",
       "        text-align: right;\n",
       "    }\n",
       "</style>\n",
       "<table border=\"1\" class=\"dataframe\">\n",
       "  <thead>\n",
       "    <tr style=\"text-align: right;\">\n",
       "      <th></th>\n",
       "      <th>index</th>\n",
       "      <th>COL1</th>\n",
       "      <th>Col3</th>\n",
       "      <th>D</th>\n",
       "    </tr>\n",
       "  </thead>\n",
       "  <tbody>\n",
       "    <tr>\n",
       "      <th>0</th>\n",
       "      <td>101</td>\n",
       "      <td>0.985000</td>\n",
       "      <td>0.489165</td>\n",
       "      <td>0.687367</td>\n",
       "    </tr>\n",
       "    <tr>\n",
       "      <th>1</th>\n",
       "      <td>102</td>\n",
       "      <td>0.058086</td>\n",
       "      <td>0.083077</td>\n",
       "      <td>0.295641</td>\n",
       "    </tr>\n",
       "    <tr>\n",
       "      <th>2</th>\n",
       "      <td>103</td>\n",
       "      <td>0.236499</td>\n",
       "      <td>0.335381</td>\n",
       "      <td>0.485997</td>\n",
       "    </tr>\n",
       "    <tr>\n",
       "      <th>3</th>\n",
       "      <td>104</td>\n",
       "      <td>0.399361</td>\n",
       "      <td>0.722021</td>\n",
       "      <td>0.815020</td>\n",
       "    </tr>\n",
       "    <tr>\n",
       "      <th>4</th>\n",
       "      <td>105</td>\n",
       "      <td>0.833768</td>\n",
       "      <td>0.507106</td>\n",
       "      <td>0.815619</td>\n",
       "    </tr>\n",
       "    <tr>\n",
       "      <th>...</th>\n",
       "      <td>...</td>\n",
       "      <td>...</td>\n",
       "      <td>...</td>\n",
       "      <td>...</td>\n",
       "    </tr>\n",
       "    <tr>\n",
       "      <th>295</th>\n",
       "      <td>396</td>\n",
       "      <td>0.765339</td>\n",
       "      <td>0.020597</td>\n",
       "      <td>0.525332</td>\n",
       "    </tr>\n",
       "    <tr>\n",
       "      <th>296</th>\n",
       "      <td>397</td>\n",
       "      <td>0.793562</td>\n",
       "      <td>0.308025</td>\n",
       "      <td>0.840045</td>\n",
       "    </tr>\n",
       "    <tr>\n",
       "      <th>297</th>\n",
       "      <td>398</td>\n",
       "      <td>0.050780</td>\n",
       "      <td>0.366964</td>\n",
       "      <td>0.939503</td>\n",
       "    </tr>\n",
       "    <tr>\n",
       "      <th>298</th>\n",
       "      <td>399</td>\n",
       "      <td>0.795329</td>\n",
       "      <td>0.560432</td>\n",
       "      <td>0.768491</td>\n",
       "    </tr>\n",
       "    <tr>\n",
       "      <th>299</th>\n",
       "      <td>400</td>\n",
       "      <td>0.863961</td>\n",
       "      <td>0.551714</td>\n",
       "      <td>0.845158</td>\n",
       "    </tr>\n",
       "  </tbody>\n",
       "</table>\n",
       "<p>300 rows × 4 columns</p>\n",
       "</div>"
      ],
      "text/plain": [
       "     index      COL1      Col3         D\n",
       "0      101  0.985000  0.489165  0.687367\n",
       "1      102  0.058086  0.083077  0.295641\n",
       "2      103  0.236499  0.335381  0.485997\n",
       "3      104  0.399361  0.722021  0.815020\n",
       "4      105  0.833768  0.507106  0.815619\n",
       "..     ...       ...       ...       ...\n",
       "295    396  0.765339  0.020597  0.525332\n",
       "296    397  0.793562  0.308025  0.840045\n",
       "297    398  0.050780  0.366964  0.939503\n",
       "298    399  0.795329  0.560432  0.768491\n",
       "299    400  0.863961  0.551714  0.845158\n",
       "\n",
       "[300 rows x 4 columns]"
      ]
     },
     "execution_count": 70,
     "metadata": {},
     "output_type": "execute_result"
    }
   ],
   "source": [
    "newdf"
   ]
  },
  {
   "cell_type": "code",
   "execution_count": 75,
   "metadata": {},
   "outputs": [
    {
     "ename": "KeyError",
     "evalue": "\"['level_0'] not found in axis\"",
     "output_type": "error",
     "traceback": [
      "\u001b[1;31m---------------------------------------------------------------------------\u001b[0m",
      "\u001b[1;31mKeyError\u001b[0m                                  Traceback (most recent call last)",
      "\u001b[1;32m<ipython-input-75-1d0eeb81066f>\u001b[0m in \u001b[0;36m<module>\u001b[1;34m\u001b[0m\n\u001b[1;32m----> 1\u001b[1;33m \u001b[0mnewdf\u001b[0m\u001b[1;33m.\u001b[0m\u001b[0mdrop\u001b[0m\u001b[1;33m(\u001b[0m\u001b[1;34m'level_0'\u001b[0m\u001b[1;33m,\u001b[0m\u001b[0maxis\u001b[0m\u001b[1;33m=\u001b[0m\u001b[1;36m1\u001b[0m\u001b[1;33m,\u001b[0m\u001b[0minplace\u001b[0m\u001b[1;33m=\u001b[0m\u001b[1;32mTrue\u001b[0m\u001b[1;33m)\u001b[0m\u001b[1;33m\u001b[0m\u001b[1;33m\u001b[0m\u001b[0m\n\u001b[0m",
      "\u001b[1;32mC:\\Anaconda\\lib\\site-packages\\pandas\\core\\frame.py\u001b[0m in \u001b[0;36mdrop\u001b[1;34m(self, labels, axis, index, columns, level, inplace, errors)\u001b[0m\n\u001b[0;32m   3995\u001b[0m             \u001b[0mlevel\u001b[0m\u001b[1;33m=\u001b[0m\u001b[0mlevel\u001b[0m\u001b[1;33m,\u001b[0m\u001b[1;33m\u001b[0m\u001b[1;33m\u001b[0m\u001b[0m\n\u001b[0;32m   3996\u001b[0m             \u001b[0minplace\u001b[0m\u001b[1;33m=\u001b[0m\u001b[0minplace\u001b[0m\u001b[1;33m,\u001b[0m\u001b[1;33m\u001b[0m\u001b[1;33m\u001b[0m\u001b[0m\n\u001b[1;32m-> 3997\u001b[1;33m             \u001b[0merrors\u001b[0m\u001b[1;33m=\u001b[0m\u001b[0merrors\u001b[0m\u001b[1;33m,\u001b[0m\u001b[1;33m\u001b[0m\u001b[1;33m\u001b[0m\u001b[0m\n\u001b[0m\u001b[0;32m   3998\u001b[0m         )\n\u001b[0;32m   3999\u001b[0m \u001b[1;33m\u001b[0m\u001b[0m\n",
      "\u001b[1;32mC:\\Anaconda\\lib\\site-packages\\pandas\\core\\generic.py\u001b[0m in \u001b[0;36mdrop\u001b[1;34m(self, labels, axis, index, columns, level, inplace, errors)\u001b[0m\n\u001b[0;32m   3934\u001b[0m         \u001b[1;32mfor\u001b[0m \u001b[0maxis\u001b[0m\u001b[1;33m,\u001b[0m \u001b[0mlabels\u001b[0m \u001b[1;32min\u001b[0m \u001b[0maxes\u001b[0m\u001b[1;33m.\u001b[0m\u001b[0mitems\u001b[0m\u001b[1;33m(\u001b[0m\u001b[1;33m)\u001b[0m\u001b[1;33m:\u001b[0m\u001b[1;33m\u001b[0m\u001b[1;33m\u001b[0m\u001b[0m\n\u001b[0;32m   3935\u001b[0m             \u001b[1;32mif\u001b[0m \u001b[0mlabels\u001b[0m \u001b[1;32mis\u001b[0m \u001b[1;32mnot\u001b[0m \u001b[1;32mNone\u001b[0m\u001b[1;33m:\u001b[0m\u001b[1;33m\u001b[0m\u001b[1;33m\u001b[0m\u001b[0m\n\u001b[1;32m-> 3936\u001b[1;33m                 \u001b[0mobj\u001b[0m \u001b[1;33m=\u001b[0m \u001b[0mobj\u001b[0m\u001b[1;33m.\u001b[0m\u001b[0m_drop_axis\u001b[0m\u001b[1;33m(\u001b[0m\u001b[0mlabels\u001b[0m\u001b[1;33m,\u001b[0m \u001b[0maxis\u001b[0m\u001b[1;33m,\u001b[0m \u001b[0mlevel\u001b[0m\u001b[1;33m=\u001b[0m\u001b[0mlevel\u001b[0m\u001b[1;33m,\u001b[0m \u001b[0merrors\u001b[0m\u001b[1;33m=\u001b[0m\u001b[0merrors\u001b[0m\u001b[1;33m)\u001b[0m\u001b[1;33m\u001b[0m\u001b[1;33m\u001b[0m\u001b[0m\n\u001b[0m\u001b[0;32m   3937\u001b[0m \u001b[1;33m\u001b[0m\u001b[0m\n\u001b[0;32m   3938\u001b[0m         \u001b[1;32mif\u001b[0m \u001b[0minplace\u001b[0m\u001b[1;33m:\u001b[0m\u001b[1;33m\u001b[0m\u001b[1;33m\u001b[0m\u001b[0m\n",
      "\u001b[1;32mC:\\Anaconda\\lib\\site-packages\\pandas\\core\\generic.py\u001b[0m in \u001b[0;36m_drop_axis\u001b[1;34m(self, labels, axis, level, errors)\u001b[0m\n\u001b[0;32m   3968\u001b[0m                 \u001b[0mnew_axis\u001b[0m \u001b[1;33m=\u001b[0m \u001b[0maxis\u001b[0m\u001b[1;33m.\u001b[0m\u001b[0mdrop\u001b[0m\u001b[1;33m(\u001b[0m\u001b[0mlabels\u001b[0m\u001b[1;33m,\u001b[0m \u001b[0mlevel\u001b[0m\u001b[1;33m=\u001b[0m\u001b[0mlevel\u001b[0m\u001b[1;33m,\u001b[0m \u001b[0merrors\u001b[0m\u001b[1;33m=\u001b[0m\u001b[0merrors\u001b[0m\u001b[1;33m)\u001b[0m\u001b[1;33m\u001b[0m\u001b[1;33m\u001b[0m\u001b[0m\n\u001b[0;32m   3969\u001b[0m             \u001b[1;32melse\u001b[0m\u001b[1;33m:\u001b[0m\u001b[1;33m\u001b[0m\u001b[1;33m\u001b[0m\u001b[0m\n\u001b[1;32m-> 3970\u001b[1;33m                 \u001b[0mnew_axis\u001b[0m \u001b[1;33m=\u001b[0m \u001b[0maxis\u001b[0m\u001b[1;33m.\u001b[0m\u001b[0mdrop\u001b[0m\u001b[1;33m(\u001b[0m\u001b[0mlabels\u001b[0m\u001b[1;33m,\u001b[0m \u001b[0merrors\u001b[0m\u001b[1;33m=\u001b[0m\u001b[0merrors\u001b[0m\u001b[1;33m)\u001b[0m\u001b[1;33m\u001b[0m\u001b[1;33m\u001b[0m\u001b[0m\n\u001b[0m\u001b[0;32m   3971\u001b[0m             \u001b[0mresult\u001b[0m \u001b[1;33m=\u001b[0m \u001b[0mself\u001b[0m\u001b[1;33m.\u001b[0m\u001b[0mreindex\u001b[0m\u001b[1;33m(\u001b[0m\u001b[1;33m**\u001b[0m\u001b[1;33m{\u001b[0m\u001b[0maxis_name\u001b[0m\u001b[1;33m:\u001b[0m \u001b[0mnew_axis\u001b[0m\u001b[1;33m}\u001b[0m\u001b[1;33m)\u001b[0m\u001b[1;33m\u001b[0m\u001b[1;33m\u001b[0m\u001b[0m\n\u001b[0;32m   3972\u001b[0m \u001b[1;33m\u001b[0m\u001b[0m\n",
      "\u001b[1;32mC:\\Anaconda\\lib\\site-packages\\pandas\\core\\indexes\\base.py\u001b[0m in \u001b[0;36mdrop\u001b[1;34m(self, labels, errors)\u001b[0m\n\u001b[0;32m   5016\u001b[0m         \u001b[1;32mif\u001b[0m \u001b[0mmask\u001b[0m\u001b[1;33m.\u001b[0m\u001b[0many\u001b[0m\u001b[1;33m(\u001b[0m\u001b[1;33m)\u001b[0m\u001b[1;33m:\u001b[0m\u001b[1;33m\u001b[0m\u001b[1;33m\u001b[0m\u001b[0m\n\u001b[0;32m   5017\u001b[0m             \u001b[1;32mif\u001b[0m \u001b[0merrors\u001b[0m \u001b[1;33m!=\u001b[0m \u001b[1;34m\"ignore\"\u001b[0m\u001b[1;33m:\u001b[0m\u001b[1;33m\u001b[0m\u001b[1;33m\u001b[0m\u001b[0m\n\u001b[1;32m-> 5018\u001b[1;33m                 \u001b[1;32mraise\u001b[0m \u001b[0mKeyError\u001b[0m\u001b[1;33m(\u001b[0m\u001b[1;34mf\"{labels[mask]} not found in axis\"\u001b[0m\u001b[1;33m)\u001b[0m\u001b[1;33m\u001b[0m\u001b[1;33m\u001b[0m\u001b[0m\n\u001b[0m\u001b[0;32m   5019\u001b[0m             \u001b[0mindexer\u001b[0m \u001b[1;33m=\u001b[0m \u001b[0mindexer\u001b[0m\u001b[1;33m[\u001b[0m\u001b[1;33m~\u001b[0m\u001b[0mmask\u001b[0m\u001b[1;33m]\u001b[0m\u001b[1;33m\u001b[0m\u001b[1;33m\u001b[0m\u001b[0m\n\u001b[0;32m   5020\u001b[0m         \u001b[1;32mreturn\u001b[0m \u001b[0mself\u001b[0m\u001b[1;33m.\u001b[0m\u001b[0mdelete\u001b[0m\u001b[1;33m(\u001b[0m\u001b[0mindexer\u001b[0m\u001b[1;33m)\u001b[0m\u001b[1;33m\u001b[0m\u001b[1;33m\u001b[0m\u001b[0m\n",
      "\u001b[1;31mKeyError\u001b[0m: \"['level_0'] not found in axis\""
     ]
    }
   ],
   "source": [
    "newdf.drop('level_0',axis=1,inplace=True)\n"
   ]
  },
  {
   "cell_type": "code",
   "execution_count": 76,
   "metadata": {},
   "outputs": [
    {
     "ename": "KeyError",
     "evalue": "\"['index'] not found in axis\"",
     "output_type": "error",
     "traceback": [
      "\u001b[1;31m---------------------------------------------------------------------------\u001b[0m",
      "\u001b[1;31mKeyError\u001b[0m                                  Traceback (most recent call last)",
      "\u001b[1;32m<ipython-input-76-11c196de334f>\u001b[0m in \u001b[0;36m<module>\u001b[1;34m\u001b[0m\n\u001b[1;32m----> 1\u001b[1;33m \u001b[0mnewdf\u001b[0m\u001b[1;33m.\u001b[0m\u001b[0mdrop\u001b[0m\u001b[1;33m(\u001b[0m\u001b[1;34m'index'\u001b[0m\u001b[1;33m,\u001b[0m\u001b[0maxis\u001b[0m\u001b[1;33m=\u001b[0m\u001b[1;36m1\u001b[0m\u001b[1;33m,\u001b[0m\u001b[0minplace\u001b[0m\u001b[1;33m=\u001b[0m\u001b[1;32mTrue\u001b[0m\u001b[1;33m)\u001b[0m\u001b[1;33m\u001b[0m\u001b[1;33m\u001b[0m\u001b[0m\n\u001b[0m",
      "\u001b[1;32mC:\\Anaconda\\lib\\site-packages\\pandas\\core\\frame.py\u001b[0m in \u001b[0;36mdrop\u001b[1;34m(self, labels, axis, index, columns, level, inplace, errors)\u001b[0m\n\u001b[0;32m   3995\u001b[0m             \u001b[0mlevel\u001b[0m\u001b[1;33m=\u001b[0m\u001b[0mlevel\u001b[0m\u001b[1;33m,\u001b[0m\u001b[1;33m\u001b[0m\u001b[1;33m\u001b[0m\u001b[0m\n\u001b[0;32m   3996\u001b[0m             \u001b[0minplace\u001b[0m\u001b[1;33m=\u001b[0m\u001b[0minplace\u001b[0m\u001b[1;33m,\u001b[0m\u001b[1;33m\u001b[0m\u001b[1;33m\u001b[0m\u001b[0m\n\u001b[1;32m-> 3997\u001b[1;33m             \u001b[0merrors\u001b[0m\u001b[1;33m=\u001b[0m\u001b[0merrors\u001b[0m\u001b[1;33m,\u001b[0m\u001b[1;33m\u001b[0m\u001b[1;33m\u001b[0m\u001b[0m\n\u001b[0m\u001b[0;32m   3998\u001b[0m         )\n\u001b[0;32m   3999\u001b[0m \u001b[1;33m\u001b[0m\u001b[0m\n",
      "\u001b[1;32mC:\\Anaconda\\lib\\site-packages\\pandas\\core\\generic.py\u001b[0m in \u001b[0;36mdrop\u001b[1;34m(self, labels, axis, index, columns, level, inplace, errors)\u001b[0m\n\u001b[0;32m   3934\u001b[0m         \u001b[1;32mfor\u001b[0m \u001b[0maxis\u001b[0m\u001b[1;33m,\u001b[0m \u001b[0mlabels\u001b[0m \u001b[1;32min\u001b[0m \u001b[0maxes\u001b[0m\u001b[1;33m.\u001b[0m\u001b[0mitems\u001b[0m\u001b[1;33m(\u001b[0m\u001b[1;33m)\u001b[0m\u001b[1;33m:\u001b[0m\u001b[1;33m\u001b[0m\u001b[1;33m\u001b[0m\u001b[0m\n\u001b[0;32m   3935\u001b[0m             \u001b[1;32mif\u001b[0m \u001b[0mlabels\u001b[0m \u001b[1;32mis\u001b[0m \u001b[1;32mnot\u001b[0m \u001b[1;32mNone\u001b[0m\u001b[1;33m:\u001b[0m\u001b[1;33m\u001b[0m\u001b[1;33m\u001b[0m\u001b[0m\n\u001b[1;32m-> 3936\u001b[1;33m                 \u001b[0mobj\u001b[0m \u001b[1;33m=\u001b[0m \u001b[0mobj\u001b[0m\u001b[1;33m.\u001b[0m\u001b[0m_drop_axis\u001b[0m\u001b[1;33m(\u001b[0m\u001b[0mlabels\u001b[0m\u001b[1;33m,\u001b[0m \u001b[0maxis\u001b[0m\u001b[1;33m,\u001b[0m \u001b[0mlevel\u001b[0m\u001b[1;33m=\u001b[0m\u001b[0mlevel\u001b[0m\u001b[1;33m,\u001b[0m \u001b[0merrors\u001b[0m\u001b[1;33m=\u001b[0m\u001b[0merrors\u001b[0m\u001b[1;33m)\u001b[0m\u001b[1;33m\u001b[0m\u001b[1;33m\u001b[0m\u001b[0m\n\u001b[0m\u001b[0;32m   3937\u001b[0m \u001b[1;33m\u001b[0m\u001b[0m\n\u001b[0;32m   3938\u001b[0m         \u001b[1;32mif\u001b[0m \u001b[0minplace\u001b[0m\u001b[1;33m:\u001b[0m\u001b[1;33m\u001b[0m\u001b[1;33m\u001b[0m\u001b[0m\n",
      "\u001b[1;32mC:\\Anaconda\\lib\\site-packages\\pandas\\core\\generic.py\u001b[0m in \u001b[0;36m_drop_axis\u001b[1;34m(self, labels, axis, level, errors)\u001b[0m\n\u001b[0;32m   3968\u001b[0m                 \u001b[0mnew_axis\u001b[0m \u001b[1;33m=\u001b[0m \u001b[0maxis\u001b[0m\u001b[1;33m.\u001b[0m\u001b[0mdrop\u001b[0m\u001b[1;33m(\u001b[0m\u001b[0mlabels\u001b[0m\u001b[1;33m,\u001b[0m \u001b[0mlevel\u001b[0m\u001b[1;33m=\u001b[0m\u001b[0mlevel\u001b[0m\u001b[1;33m,\u001b[0m \u001b[0merrors\u001b[0m\u001b[1;33m=\u001b[0m\u001b[0merrors\u001b[0m\u001b[1;33m)\u001b[0m\u001b[1;33m\u001b[0m\u001b[1;33m\u001b[0m\u001b[0m\n\u001b[0;32m   3969\u001b[0m             \u001b[1;32melse\u001b[0m\u001b[1;33m:\u001b[0m\u001b[1;33m\u001b[0m\u001b[1;33m\u001b[0m\u001b[0m\n\u001b[1;32m-> 3970\u001b[1;33m                 \u001b[0mnew_axis\u001b[0m \u001b[1;33m=\u001b[0m \u001b[0maxis\u001b[0m\u001b[1;33m.\u001b[0m\u001b[0mdrop\u001b[0m\u001b[1;33m(\u001b[0m\u001b[0mlabels\u001b[0m\u001b[1;33m,\u001b[0m \u001b[0merrors\u001b[0m\u001b[1;33m=\u001b[0m\u001b[0merrors\u001b[0m\u001b[1;33m)\u001b[0m\u001b[1;33m\u001b[0m\u001b[1;33m\u001b[0m\u001b[0m\n\u001b[0m\u001b[0;32m   3971\u001b[0m             \u001b[0mresult\u001b[0m \u001b[1;33m=\u001b[0m \u001b[0mself\u001b[0m\u001b[1;33m.\u001b[0m\u001b[0mreindex\u001b[0m\u001b[1;33m(\u001b[0m\u001b[1;33m**\u001b[0m\u001b[1;33m{\u001b[0m\u001b[0maxis_name\u001b[0m\u001b[1;33m:\u001b[0m \u001b[0mnew_axis\u001b[0m\u001b[1;33m}\u001b[0m\u001b[1;33m)\u001b[0m\u001b[1;33m\u001b[0m\u001b[1;33m\u001b[0m\u001b[0m\n\u001b[0;32m   3972\u001b[0m \u001b[1;33m\u001b[0m\u001b[0m\n",
      "\u001b[1;32mC:\\Anaconda\\lib\\site-packages\\pandas\\core\\indexes\\base.py\u001b[0m in \u001b[0;36mdrop\u001b[1;34m(self, labels, errors)\u001b[0m\n\u001b[0;32m   5016\u001b[0m         \u001b[1;32mif\u001b[0m \u001b[0mmask\u001b[0m\u001b[1;33m.\u001b[0m\u001b[0many\u001b[0m\u001b[1;33m(\u001b[0m\u001b[1;33m)\u001b[0m\u001b[1;33m:\u001b[0m\u001b[1;33m\u001b[0m\u001b[1;33m\u001b[0m\u001b[0m\n\u001b[0;32m   5017\u001b[0m             \u001b[1;32mif\u001b[0m \u001b[0merrors\u001b[0m \u001b[1;33m!=\u001b[0m \u001b[1;34m\"ignore\"\u001b[0m\u001b[1;33m:\u001b[0m\u001b[1;33m\u001b[0m\u001b[1;33m\u001b[0m\u001b[0m\n\u001b[1;32m-> 5018\u001b[1;33m                 \u001b[1;32mraise\u001b[0m \u001b[0mKeyError\u001b[0m\u001b[1;33m(\u001b[0m\u001b[1;34mf\"{labels[mask]} not found in axis\"\u001b[0m\u001b[1;33m)\u001b[0m\u001b[1;33m\u001b[0m\u001b[1;33m\u001b[0m\u001b[0m\n\u001b[0m\u001b[0;32m   5019\u001b[0m             \u001b[0mindexer\u001b[0m \u001b[1;33m=\u001b[0m \u001b[0mindexer\u001b[0m\u001b[1;33m[\u001b[0m\u001b[1;33m~\u001b[0m\u001b[0mmask\u001b[0m\u001b[1;33m]\u001b[0m\u001b[1;33m\u001b[0m\u001b[1;33m\u001b[0m\u001b[0m\n\u001b[0;32m   5020\u001b[0m         \u001b[1;32mreturn\u001b[0m \u001b[0mself\u001b[0m\u001b[1;33m.\u001b[0m\u001b[0mdelete\u001b[0m\u001b[1;33m(\u001b[0m\u001b[0mindexer\u001b[0m\u001b[1;33m)\u001b[0m\u001b[1;33m\u001b[0m\u001b[1;33m\u001b[0m\u001b[0m\n",
      "\u001b[1;31mKeyError\u001b[0m: \"['index'] not found in axis\""
     ]
    }
   ],
   "source": [
    "newdf.drop('index',axis=1,inplace=True)\n"
   ]
  },
  {
   "cell_type": "code",
   "execution_count": 77,
   "metadata": {},
   "outputs": [
    {
     "ename": "KeyError",
     "evalue": "\"['index'] not found in axis\"",
     "output_type": "error",
     "traceback": [
      "\u001b[1;31m---------------------------------------------------------------------------\u001b[0m",
      "\u001b[1;31mKeyError\u001b[0m                                  Traceback (most recent call last)",
      "\u001b[1;32m<ipython-input-77-11c196de334f>\u001b[0m in \u001b[0;36m<module>\u001b[1;34m\u001b[0m\n\u001b[1;32m----> 1\u001b[1;33m \u001b[0mnewdf\u001b[0m\u001b[1;33m.\u001b[0m\u001b[0mdrop\u001b[0m\u001b[1;33m(\u001b[0m\u001b[1;34m'index'\u001b[0m\u001b[1;33m,\u001b[0m\u001b[0maxis\u001b[0m\u001b[1;33m=\u001b[0m\u001b[1;36m1\u001b[0m\u001b[1;33m,\u001b[0m\u001b[0minplace\u001b[0m\u001b[1;33m=\u001b[0m\u001b[1;32mTrue\u001b[0m\u001b[1;33m)\u001b[0m\u001b[1;33m\u001b[0m\u001b[1;33m\u001b[0m\u001b[0m\n\u001b[0m",
      "\u001b[1;32mC:\\Anaconda\\lib\\site-packages\\pandas\\core\\frame.py\u001b[0m in \u001b[0;36mdrop\u001b[1;34m(self, labels, axis, index, columns, level, inplace, errors)\u001b[0m\n\u001b[0;32m   3995\u001b[0m             \u001b[0mlevel\u001b[0m\u001b[1;33m=\u001b[0m\u001b[0mlevel\u001b[0m\u001b[1;33m,\u001b[0m\u001b[1;33m\u001b[0m\u001b[1;33m\u001b[0m\u001b[0m\n\u001b[0;32m   3996\u001b[0m             \u001b[0minplace\u001b[0m\u001b[1;33m=\u001b[0m\u001b[0minplace\u001b[0m\u001b[1;33m,\u001b[0m\u001b[1;33m\u001b[0m\u001b[1;33m\u001b[0m\u001b[0m\n\u001b[1;32m-> 3997\u001b[1;33m             \u001b[0merrors\u001b[0m\u001b[1;33m=\u001b[0m\u001b[0merrors\u001b[0m\u001b[1;33m,\u001b[0m\u001b[1;33m\u001b[0m\u001b[1;33m\u001b[0m\u001b[0m\n\u001b[0m\u001b[0;32m   3998\u001b[0m         )\n\u001b[0;32m   3999\u001b[0m \u001b[1;33m\u001b[0m\u001b[0m\n",
      "\u001b[1;32mC:\\Anaconda\\lib\\site-packages\\pandas\\core\\generic.py\u001b[0m in \u001b[0;36mdrop\u001b[1;34m(self, labels, axis, index, columns, level, inplace, errors)\u001b[0m\n\u001b[0;32m   3934\u001b[0m         \u001b[1;32mfor\u001b[0m \u001b[0maxis\u001b[0m\u001b[1;33m,\u001b[0m \u001b[0mlabels\u001b[0m \u001b[1;32min\u001b[0m \u001b[0maxes\u001b[0m\u001b[1;33m.\u001b[0m\u001b[0mitems\u001b[0m\u001b[1;33m(\u001b[0m\u001b[1;33m)\u001b[0m\u001b[1;33m:\u001b[0m\u001b[1;33m\u001b[0m\u001b[1;33m\u001b[0m\u001b[0m\n\u001b[0;32m   3935\u001b[0m             \u001b[1;32mif\u001b[0m \u001b[0mlabels\u001b[0m \u001b[1;32mis\u001b[0m \u001b[1;32mnot\u001b[0m \u001b[1;32mNone\u001b[0m\u001b[1;33m:\u001b[0m\u001b[1;33m\u001b[0m\u001b[1;33m\u001b[0m\u001b[0m\n\u001b[1;32m-> 3936\u001b[1;33m                 \u001b[0mobj\u001b[0m \u001b[1;33m=\u001b[0m \u001b[0mobj\u001b[0m\u001b[1;33m.\u001b[0m\u001b[0m_drop_axis\u001b[0m\u001b[1;33m(\u001b[0m\u001b[0mlabels\u001b[0m\u001b[1;33m,\u001b[0m \u001b[0maxis\u001b[0m\u001b[1;33m,\u001b[0m \u001b[0mlevel\u001b[0m\u001b[1;33m=\u001b[0m\u001b[0mlevel\u001b[0m\u001b[1;33m,\u001b[0m \u001b[0merrors\u001b[0m\u001b[1;33m=\u001b[0m\u001b[0merrors\u001b[0m\u001b[1;33m)\u001b[0m\u001b[1;33m\u001b[0m\u001b[1;33m\u001b[0m\u001b[0m\n\u001b[0m\u001b[0;32m   3937\u001b[0m \u001b[1;33m\u001b[0m\u001b[0m\n\u001b[0;32m   3938\u001b[0m         \u001b[1;32mif\u001b[0m \u001b[0minplace\u001b[0m\u001b[1;33m:\u001b[0m\u001b[1;33m\u001b[0m\u001b[1;33m\u001b[0m\u001b[0m\n",
      "\u001b[1;32mC:\\Anaconda\\lib\\site-packages\\pandas\\core\\generic.py\u001b[0m in \u001b[0;36m_drop_axis\u001b[1;34m(self, labels, axis, level, errors)\u001b[0m\n\u001b[0;32m   3968\u001b[0m                 \u001b[0mnew_axis\u001b[0m \u001b[1;33m=\u001b[0m \u001b[0maxis\u001b[0m\u001b[1;33m.\u001b[0m\u001b[0mdrop\u001b[0m\u001b[1;33m(\u001b[0m\u001b[0mlabels\u001b[0m\u001b[1;33m,\u001b[0m \u001b[0mlevel\u001b[0m\u001b[1;33m=\u001b[0m\u001b[0mlevel\u001b[0m\u001b[1;33m,\u001b[0m \u001b[0merrors\u001b[0m\u001b[1;33m=\u001b[0m\u001b[0merrors\u001b[0m\u001b[1;33m)\u001b[0m\u001b[1;33m\u001b[0m\u001b[1;33m\u001b[0m\u001b[0m\n\u001b[0;32m   3969\u001b[0m             \u001b[1;32melse\u001b[0m\u001b[1;33m:\u001b[0m\u001b[1;33m\u001b[0m\u001b[1;33m\u001b[0m\u001b[0m\n\u001b[1;32m-> 3970\u001b[1;33m                 \u001b[0mnew_axis\u001b[0m \u001b[1;33m=\u001b[0m \u001b[0maxis\u001b[0m\u001b[1;33m.\u001b[0m\u001b[0mdrop\u001b[0m\u001b[1;33m(\u001b[0m\u001b[0mlabels\u001b[0m\u001b[1;33m,\u001b[0m \u001b[0merrors\u001b[0m\u001b[1;33m=\u001b[0m\u001b[0merrors\u001b[0m\u001b[1;33m)\u001b[0m\u001b[1;33m\u001b[0m\u001b[1;33m\u001b[0m\u001b[0m\n\u001b[0m\u001b[0;32m   3971\u001b[0m             \u001b[0mresult\u001b[0m \u001b[1;33m=\u001b[0m \u001b[0mself\u001b[0m\u001b[1;33m.\u001b[0m\u001b[0mreindex\u001b[0m\u001b[1;33m(\u001b[0m\u001b[1;33m**\u001b[0m\u001b[1;33m{\u001b[0m\u001b[0maxis_name\u001b[0m\u001b[1;33m:\u001b[0m \u001b[0mnew_axis\u001b[0m\u001b[1;33m}\u001b[0m\u001b[1;33m)\u001b[0m\u001b[1;33m\u001b[0m\u001b[1;33m\u001b[0m\u001b[0m\n\u001b[0;32m   3972\u001b[0m \u001b[1;33m\u001b[0m\u001b[0m\n",
      "\u001b[1;32mC:\\Anaconda\\lib\\site-packages\\pandas\\core\\indexes\\base.py\u001b[0m in \u001b[0;36mdrop\u001b[1;34m(self, labels, errors)\u001b[0m\n\u001b[0;32m   5016\u001b[0m         \u001b[1;32mif\u001b[0m \u001b[0mmask\u001b[0m\u001b[1;33m.\u001b[0m\u001b[0many\u001b[0m\u001b[1;33m(\u001b[0m\u001b[1;33m)\u001b[0m\u001b[1;33m:\u001b[0m\u001b[1;33m\u001b[0m\u001b[1;33m\u001b[0m\u001b[0m\n\u001b[0;32m   5017\u001b[0m             \u001b[1;32mif\u001b[0m \u001b[0merrors\u001b[0m \u001b[1;33m!=\u001b[0m \u001b[1;34m\"ignore\"\u001b[0m\u001b[1;33m:\u001b[0m\u001b[1;33m\u001b[0m\u001b[1;33m\u001b[0m\u001b[0m\n\u001b[1;32m-> 5018\u001b[1;33m                 \u001b[1;32mraise\u001b[0m \u001b[0mKeyError\u001b[0m\u001b[1;33m(\u001b[0m\u001b[1;34mf\"{labels[mask]} not found in axis\"\u001b[0m\u001b[1;33m)\u001b[0m\u001b[1;33m\u001b[0m\u001b[1;33m\u001b[0m\u001b[0m\n\u001b[0m\u001b[0;32m   5019\u001b[0m             \u001b[0mindexer\u001b[0m \u001b[1;33m=\u001b[0m \u001b[0mindexer\u001b[0m\u001b[1;33m[\u001b[0m\u001b[1;33m~\u001b[0m\u001b[0mmask\u001b[0m\u001b[1;33m]\u001b[0m\u001b[1;33m\u001b[0m\u001b[1;33m\u001b[0m\u001b[0m\n\u001b[0;32m   5020\u001b[0m         \u001b[1;32mreturn\u001b[0m \u001b[0mself\u001b[0m\u001b[1;33m.\u001b[0m\u001b[0mdelete\u001b[0m\u001b[1;33m(\u001b[0m\u001b[0mindexer\u001b[0m\u001b[1;33m)\u001b[0m\u001b[1;33m\u001b[0m\u001b[1;33m\u001b[0m\u001b[0m\n",
      "\u001b[1;31mKeyError\u001b[0m: \"['index'] not found in axis\""
     ]
    }
   ],
   "source": [
    "newdf.drop('index',axis=1,inplace=True)"
   ]
  },
  {
   "cell_type": "code",
   "execution_count": 81,
   "metadata": {},
   "outputs": [
    {
     "data": {
      "text/html": [
       "<div>\n",
       "<style scoped>\n",
       "    .dataframe tbody tr th:only-of-type {\n",
       "        vertical-align: middle;\n",
       "    }\n",
       "\n",
       "    .dataframe tbody tr th {\n",
       "        vertical-align: top;\n",
       "    }\n",
       "\n",
       "    .dataframe thead th {\n",
       "        text-align: right;\n",
       "    }\n",
       "</style>\n",
       "<table border=\"1\" class=\"dataframe\">\n",
       "  <thead>\n",
       "    <tr style=\"text-align: right;\">\n",
       "      <th></th>\n",
       "      <th>Sub</th>\n",
       "      <th>marks</th>\n",
       "    </tr>\n",
       "  </thead>\n",
       "  <tbody>\n",
       "    <tr>\n",
       "      <th>0</th>\n",
       "      <td>python</td>\n",
       "      <td>70</td>\n",
       "    </tr>\n",
       "    <tr>\n",
       "      <th>1</th>\n",
       "      <td>Java</td>\n",
       "      <td>80</td>\n",
       "    </tr>\n",
       "    <tr>\n",
       "      <th>2</th>\n",
       "      <td>CSS</td>\n",
       "      <td>50</td>\n",
       "    </tr>\n",
       "    <tr>\n",
       "      <th>3</th>\n",
       "      <td>Html</td>\n",
       "      <td>40</td>\n",
       "    </tr>\n",
       "  </tbody>\n",
       "</table>\n",
       "</div>"
      ],
      "text/plain": [
       "      Sub  marks\n",
       "0  python     70\n",
       "1    Java     80\n",
       "2     CSS     50\n",
       "3    Html     40"
      ]
     },
     "execution_count": 81,
     "metadata": {},
     "output_type": "execute_result"
    }
   ],
   "source": [
    "data=[['python',70],['Java',80],['CSS',50],['Html',40]]\n",
    "df=pd.DataFrame(data,columns=['Sub','marks'])\n",
    "df"
   ]
  },
  {
   "cell_type": "code",
   "execution_count": 80,
   "metadata": {},
   "outputs": [
    {
     "data": {
      "text/plain": [
       "0    [python, 70]\n",
       "1      [Java, 80]\n",
       "2       [CSS, 50]\n",
       "3      [Html, 40]\n",
       "dtype: object"
      ]
     },
     "execution_count": 80,
     "metadata": {},
     "output_type": "execute_result"
    }
   ],
   "source": [
    "ds=pd.Series(data)\n",
    "ds"
   ]
  },
  {
   "cell_type": "code",
   "execution_count": 84,
   "metadata": {},
   "outputs": [
    {
     "name": "stdout",
     "output_type": "stream",
     "text": [
      "   one  two\n",
      "a  1.0    1\n",
      "b  2.0    2\n",
      "c  3.0    3\n",
      "d  NaN    4\n"
     ]
    },
    {
     "data": {
      "text/html": [
       "<div>\n",
       "<style scoped>\n",
       "    .dataframe tbody tr th:only-of-type {\n",
       "        vertical-align: middle;\n",
       "    }\n",
       "\n",
       "    .dataframe tbody tr th {\n",
       "        vertical-align: top;\n",
       "    }\n",
       "\n",
       "    .dataframe thead th {\n",
       "        text-align: right;\n",
       "    }\n",
       "</style>\n",
       "<table border=\"1\" class=\"dataframe\">\n",
       "  <thead>\n",
       "    <tr style=\"text-align: right;\">\n",
       "      <th></th>\n",
       "      <th>one</th>\n",
       "      <th>two</th>\n",
       "      <th>three</th>\n",
       "    </tr>\n",
       "  </thead>\n",
       "  <tbody>\n",
       "    <tr>\n",
       "      <th>a</th>\n",
       "      <td>1.0</td>\n",
       "      <td>1</td>\n",
       "      <td>2.0</td>\n",
       "    </tr>\n",
       "    <tr>\n",
       "      <th>b</th>\n",
       "      <td>2.0</td>\n",
       "      <td>2</td>\n",
       "      <td>4.0</td>\n",
       "    </tr>\n",
       "    <tr>\n",
       "      <th>c</th>\n",
       "      <td>3.0</td>\n",
       "      <td>3</td>\n",
       "      <td>6.0</td>\n",
       "    </tr>\n",
       "    <tr>\n",
       "      <th>d</th>\n",
       "      <td>NaN</td>\n",
       "      <td>4</td>\n",
       "      <td>NaN</td>\n",
       "    </tr>\n",
       "  </tbody>\n",
       "</table>\n",
       "</div>"
      ],
      "text/plain": [
       "   one  two  three\n",
       "a  1.0    1    2.0\n",
       "b  2.0    2    4.0\n",
       "c  3.0    3    6.0\n",
       "d  NaN    4    NaN"
      ]
     },
     "execution_count": 84,
     "metadata": {},
     "output_type": "execute_result"
    }
   ],
   "source": [
    "d={'one':pd.Series([1,2,3],index=['a','b','c']),\n",
    "  'two':pd.Series([1,2,3,4],index=['a','b','c','d'])}\n",
    "df1=pd.DataFrame(d)\n",
    "print(df1)\n",
    "df1['three']=df1['one']+df1['two']\n",
    "df1"
   ]
  },
  {
   "cell_type": "code",
   "execution_count": 85,
   "metadata": {},
   "outputs": [],
   "source": [
    "df1.to_csv('python_pandas.csv')"
   ]
  },
  {
   "cell_type": "code",
   "execution_count": 89,
   "metadata": {},
   "outputs": [
    {
     "name": "stdout",
     "output_type": "stream",
     "text": [
      "The axes are:\n",
      "0   -0.273551\n",
      "1    0.520108\n",
      "2   -0.919172\n",
      "3    1.716382\n",
      "4    1.164774\n",
      "5    0.090490\n",
      "6    0.253661\n",
      "7    0.549393\n",
      "8    1.436074\n",
      "9    0.790327\n",
      "dtype: float64\n",
      "[RangeIndex(start=0, stop=10, step=1)]\n"
     ]
    }
   ],
   "source": [
    "s = pd.Series(np.random.randn(10))\n",
    "print (\"The axes are:\")\n",
    "print (s)\n",
    "print (s.axes)"
   ]
  },
  {
   "cell_type": "code",
   "execution_count": 93,
   "metadata": {},
   "outputs": [
    {
     "data": {
      "text/html": [
       "<div>\n",
       "<style scoped>\n",
       "    .dataframe tbody tr th:only-of-type {\n",
       "        vertical-align: middle;\n",
       "    }\n",
       "\n",
       "    .dataframe tbody tr th {\n",
       "        vertical-align: top;\n",
       "    }\n",
       "\n",
       "    .dataframe thead th {\n",
       "        text-align: right;\n",
       "    }\n",
       "</style>\n",
       "<table border=\"1\" class=\"dataframe\">\n",
       "  <thead>\n",
       "    <tr style=\"text-align: right;\">\n",
       "      <th></th>\n",
       "      <th>Col1</th>\n",
       "      <th>N2</th>\n",
       "      <th>N3</th>\n",
       "      <th>N4</th>\n",
       "    </tr>\n",
       "  </thead>\n",
       "  <tbody>\n",
       "    <tr>\n",
       "      <th>101</th>\n",
       "      <td>NaN</td>\n",
       "      <td>NaN</td>\n",
       "      <td>NaN</td>\n",
       "      <td>NaN</td>\n",
       "    </tr>\n",
       "    <tr>\n",
       "      <th>2</th>\n",
       "      <td>NaN</td>\n",
       "      <td>NaN</td>\n",
       "      <td>NaN</td>\n",
       "      <td>NaN</td>\n",
       "    </tr>\n",
       "    <tr>\n",
       "      <th>5</th>\n",
       "      <td>NaN</td>\n",
       "      <td>NaN</td>\n",
       "      <td>NaN</td>\n",
       "      <td>NaN</td>\n",
       "    </tr>\n",
       "    <tr>\n",
       "      <th>10</th>\n",
       "      <td>NaN</td>\n",
       "      <td>NaN</td>\n",
       "      <td>NaN</td>\n",
       "      <td>NaN</td>\n",
       "    </tr>\n",
       "    <tr>\n",
       "      <th>12</th>\n",
       "      <td>NaN</td>\n",
       "      <td>NaN</td>\n",
       "      <td>NaN</td>\n",
       "      <td>NaN</td>\n",
       "    </tr>\n",
       "    <tr>\n",
       "      <th>15</th>\n",
       "      <td>NaN</td>\n",
       "      <td>NaN</td>\n",
       "      <td>NaN</td>\n",
       "      <td>NaN</td>\n",
       "    </tr>\n",
       "  </tbody>\n",
       "</table>\n",
       "</div>"
      ],
      "text/plain": [
       "     Col1  N2  N3  N4\n",
       "101   NaN NaN NaN NaN\n",
       "2     NaN NaN NaN NaN\n",
       "5     NaN NaN NaN NaN\n",
       "10    NaN NaN NaN NaN\n",
       "12    NaN NaN NaN NaN\n",
       "15    NaN NaN NaN NaN"
      ]
     },
     "execution_count": 93,
     "metadata": {},
     "output_type": "execute_result"
    }
   ],
   "source": [
    "newdf.reindex(index=[101,2,5,10,12,15],columns=['Col1','N2','N3','N4'])"
   ]
  },
  {
   "cell_type": "code",
   "execution_count": 95,
   "metadata": {},
   "outputs": [
    {
     "name": "stdout",
     "output_type": "stream",
     "text": [
      "       col1      col2      col3\n",
      "0 -2.031937 -1.912635 -0.234469\n",
      "1 -0.258071 -1.002021 -0.502864\n",
      "2       NaN       NaN       NaN\n",
      "3       NaN       NaN       NaN\n",
      "4       NaN       NaN       NaN\n",
      "5       NaN       NaN       NaN\n",
      "Data Frame with Forward Fill:\n",
      "       col1      col2      col3\n",
      "0 -2.031937 -1.912635 -0.234469\n",
      "1 -0.258071 -1.002021 -0.502864\n",
      "2 -0.258071 -1.002021 -0.502864\n",
      "3 -0.258071 -1.002021 -0.502864\n",
      "4 -0.258071 -1.002021 -0.502864\n",
      "5 -0.258071 -1.002021 -0.502864\n"
     ]
    }
   ],
   "source": [
    "df1 = pd.DataFrame(np.random.randn(6,3),columns=['col1','col2','col3'])\n",
    "df2 = pd.DataFrame(np.random.randn(2,3),columns=['col1','col2','col3'])\n",
    "\n",
    "# Padding NAN's\n",
    "print (df2.reindex_like(df1))\n",
    "\n",
    "# Now Fill the NAN's with preceding Values\n",
    "print (\"Data Frame with Forward Fill:\")\n",
    "print (df2.reindex_like(df1,method='ffill'))"
   ]
  },
  {
   "cell_type": "code",
   "execution_count": 100,
   "metadata": {},
   "outputs": [
    {
     "data": {
      "text/html": [
       "<div>\n",
       "<style scoped>\n",
       "    .dataframe tbody tr th:only-of-type {\n",
       "        vertical-align: middle;\n",
       "    }\n",
       "\n",
       "    .dataframe tbody tr th {\n",
       "        vertical-align: top;\n",
       "    }\n",
       "\n",
       "    .dataframe thead th {\n",
       "        text-align: right;\n",
       "    }\n",
       "</style>\n",
       "<table border=\"1\" class=\"dataframe\">\n",
       "  <thead>\n",
       "    <tr style=\"text-align: right;\">\n",
       "      <th></th>\n",
       "      <th>col1</th>\n",
       "      <th>col2</th>\n",
       "      <th>col3</th>\n",
       "    </tr>\n",
       "  </thead>\n",
       "  <tbody>\n",
       "    <tr>\n",
       "      <th>0</th>\n",
       "      <td>-0.313202</td>\n",
       "      <td>0.215753</td>\n",
       "      <td>-0.883875</td>\n",
       "    </tr>\n",
       "    <tr>\n",
       "      <th>1</th>\n",
       "      <td>0.292604</td>\n",
       "      <td>0.191176</td>\n",
       "      <td>-0.660302</td>\n",
       "    </tr>\n",
       "    <tr>\n",
       "      <th>2</th>\n",
       "      <td>0.464609</td>\n",
       "      <td>0.205548</td>\n",
       "      <td>-1.653686</td>\n",
       "    </tr>\n",
       "    <tr>\n",
       "      <th>3</th>\n",
       "      <td>1.229517</td>\n",
       "      <td>-0.158546</td>\n",
       "      <td>1.498934</td>\n",
       "    </tr>\n",
       "    <tr>\n",
       "      <th>4</th>\n",
       "      <td>0.119922</td>\n",
       "      <td>-0.331593</td>\n",
       "      <td>0.637424</td>\n",
       "    </tr>\n",
       "    <tr>\n",
       "      <th>5</th>\n",
       "      <td>-0.853894</td>\n",
       "      <td>0.420859</td>\n",
       "      <td>-0.434341</td>\n",
       "    </tr>\n",
       "  </tbody>\n",
       "</table>\n",
       "</div>"
      ],
      "text/plain": [
       "       col1      col2      col3\n",
       "0 -0.313202  0.215753 -0.883875\n",
       "1  0.292604  0.191176 -0.660302\n",
       "2  0.464609  0.205548 -1.653686\n",
       "3  1.229517 -0.158546  1.498934\n",
       "4  0.119922 -0.331593  0.637424\n",
       "5 -0.853894  0.420859 -0.434341"
      ]
     },
     "execution_count": 100,
     "metadata": {},
     "output_type": "execute_result"
    }
   ],
   "source": [
    "df1.sort_index()"
   ]
  },
  {
   "cell_type": "code",
   "execution_count": 108,
   "metadata": {},
   "outputs": [
    {
     "data": {
      "text/html": [
       "<div>\n",
       "<style scoped>\n",
       "    .dataframe tbody tr th:only-of-type {\n",
       "        vertical-align: middle;\n",
       "    }\n",
       "\n",
       "    .dataframe tbody tr th {\n",
       "        vertical-align: top;\n",
       "    }\n",
       "\n",
       "    .dataframe thead th {\n",
       "        text-align: right;\n",
       "    }\n",
       "</style>\n",
       "<table border=\"1\" class=\"dataframe\">\n",
       "  <thead>\n",
       "    <tr style=\"text-align: right;\">\n",
       "      <th></th>\n",
       "      <th>col3</th>\n",
       "      <th>col2</th>\n",
       "      <th>col1</th>\n",
       "    </tr>\n",
       "  </thead>\n",
       "  <tbody>\n",
       "    <tr>\n",
       "      <th>0</th>\n",
       "      <td>-0.883875</td>\n",
       "      <td>0.215753</td>\n",
       "      <td>-0.313202</td>\n",
       "    </tr>\n",
       "    <tr>\n",
       "      <th>1</th>\n",
       "      <td>-0.660302</td>\n",
       "      <td>0.191176</td>\n",
       "      <td>0.292604</td>\n",
       "    </tr>\n",
       "    <tr>\n",
       "      <th>2</th>\n",
       "      <td>-1.653686</td>\n",
       "      <td>0.205548</td>\n",
       "      <td>0.464609</td>\n",
       "    </tr>\n",
       "    <tr>\n",
       "      <th>3</th>\n",
       "      <td>1.498934</td>\n",
       "      <td>-0.158546</td>\n",
       "      <td>1.229517</td>\n",
       "    </tr>\n",
       "    <tr>\n",
       "      <th>4</th>\n",
       "      <td>0.637424</td>\n",
       "      <td>-0.331593</td>\n",
       "      <td>0.119922</td>\n",
       "    </tr>\n",
       "    <tr>\n",
       "      <th>5</th>\n",
       "      <td>-0.434341</td>\n",
       "      <td>0.420859</td>\n",
       "      <td>-0.853894</td>\n",
       "    </tr>\n",
       "  </tbody>\n",
       "</table>\n",
       "</div>"
      ],
      "text/plain": [
       "       col3      col2      col1\n",
       "0 -0.883875  0.215753 -0.313202\n",
       "1 -0.660302  0.191176  0.292604\n",
       "2 -1.653686  0.205548  0.464609\n",
       "3  1.498934 -0.158546  1.229517\n",
       "4  0.637424 -0.331593  0.119922\n",
       "5 -0.434341  0.420859 -0.853894"
      ]
     },
     "execution_count": 108,
     "metadata": {},
     "output_type": "execute_result"
    }
   ],
   "source": [
    "df1.sort_index(axis=1,ascending=False)"
   ]
  },
  {
   "cell_type": "code",
   "execution_count": 109,
   "metadata": {},
   "outputs": [
    {
     "data": {
      "text/html": [
       "<div>\n",
       "<style scoped>\n",
       "    .dataframe tbody tr th:only-of-type {\n",
       "        vertical-align: middle;\n",
       "    }\n",
       "\n",
       "    .dataframe tbody tr th {\n",
       "        vertical-align: top;\n",
       "    }\n",
       "\n",
       "    .dataframe thead th {\n",
       "        text-align: right;\n",
       "    }\n",
       "</style>\n",
       "<table border=\"1\" class=\"dataframe\">\n",
       "  <thead>\n",
       "    <tr style=\"text-align: right;\">\n",
       "      <th></th>\n",
       "      <th>col1</th>\n",
       "      <th>col2</th>\n",
       "      <th>col3</th>\n",
       "    </tr>\n",
       "  </thead>\n",
       "  <tbody>\n",
       "    <tr>\n",
       "      <th>2</th>\n",
       "      <td>0.464609</td>\n",
       "      <td>0.205548</td>\n",
       "      <td>-1.653686</td>\n",
       "    </tr>\n",
       "    <tr>\n",
       "      <th>0</th>\n",
       "      <td>-0.313202</td>\n",
       "      <td>0.215753</td>\n",
       "      <td>-0.883875</td>\n",
       "    </tr>\n",
       "    <tr>\n",
       "      <th>1</th>\n",
       "      <td>0.292604</td>\n",
       "      <td>0.191176</td>\n",
       "      <td>-0.660302</td>\n",
       "    </tr>\n",
       "    <tr>\n",
       "      <th>5</th>\n",
       "      <td>-0.853894</td>\n",
       "      <td>0.420859</td>\n",
       "      <td>-0.434341</td>\n",
       "    </tr>\n",
       "    <tr>\n",
       "      <th>4</th>\n",
       "      <td>0.119922</td>\n",
       "      <td>-0.331593</td>\n",
       "      <td>0.637424</td>\n",
       "    </tr>\n",
       "    <tr>\n",
       "      <th>3</th>\n",
       "      <td>1.229517</td>\n",
       "      <td>-0.158546</td>\n",
       "      <td>1.498934</td>\n",
       "    </tr>\n",
       "  </tbody>\n",
       "</table>\n",
       "</div>"
      ],
      "text/plain": [
       "       col1      col2      col3\n",
       "2  0.464609  0.205548 -1.653686\n",
       "0 -0.313202  0.215753 -0.883875\n",
       "1  0.292604  0.191176 -0.660302\n",
       "5 -0.853894  0.420859 -0.434341\n",
       "4  0.119922 -0.331593  0.637424\n",
       "3  1.229517 -0.158546  1.498934"
      ]
     },
     "execution_count": 109,
     "metadata": {},
     "output_type": "execute_result"
    }
   ],
   "source": [
    "df1.sort_values(by='col3')"
   ]
  },
  {
   "cell_type": "code",
   "execution_count": 112,
   "metadata": {},
   "outputs": [
    {
     "data": {
      "text/html": [
       "<div>\n",
       "<style scoped>\n",
       "    .dataframe tbody tr th:only-of-type {\n",
       "        vertical-align: middle;\n",
       "    }\n",
       "\n",
       "    .dataframe tbody tr th {\n",
       "        vertical-align: top;\n",
       "    }\n",
       "\n",
       "    .dataframe thead th {\n",
       "        text-align: right;\n",
       "    }\n",
       "</style>\n",
       "<table border=\"1\" class=\"dataframe\">\n",
       "  <thead>\n",
       "    <tr style=\"text-align: right;\">\n",
       "      <th></th>\n",
       "      <th>col1</th>\n",
       "      <th>col2</th>\n",
       "      <th>col3</th>\n",
       "    </tr>\n",
       "  </thead>\n",
       "  <tbody>\n",
       "    <tr>\n",
       "      <th>2</th>\n",
       "      <td>0.464609</td>\n",
       "      <td>0.205548</td>\n",
       "      <td>-1.653686</td>\n",
       "    </tr>\n",
       "    <tr>\n",
       "      <th>0</th>\n",
       "      <td>-0.313202</td>\n",
       "      <td>0.215753</td>\n",
       "      <td>-0.883875</td>\n",
       "    </tr>\n",
       "    <tr>\n",
       "      <th>1</th>\n",
       "      <td>0.292604</td>\n",
       "      <td>0.191176</td>\n",
       "      <td>-0.660302</td>\n",
       "    </tr>\n",
       "    <tr>\n",
       "      <th>5</th>\n",
       "      <td>-0.853894</td>\n",
       "      <td>0.420859</td>\n",
       "      <td>-0.434341</td>\n",
       "    </tr>\n",
       "    <tr>\n",
       "      <th>4</th>\n",
       "      <td>0.119922</td>\n",
       "      <td>-0.331593</td>\n",
       "      <td>0.637424</td>\n",
       "    </tr>\n",
       "    <tr>\n",
       "      <th>3</th>\n",
       "      <td>1.229517</td>\n",
       "      <td>-0.158546</td>\n",
       "      <td>1.498934</td>\n",
       "    </tr>\n",
       "  </tbody>\n",
       "</table>\n",
       "</div>"
      ],
      "text/plain": [
       "       col1      col2      col3\n",
       "2  0.464609  0.205548 -1.653686\n",
       "0 -0.313202  0.215753 -0.883875\n",
       "1  0.292604  0.191176 -0.660302\n",
       "5 -0.853894  0.420859 -0.434341\n",
       "4  0.119922 -0.331593  0.637424\n",
       "3  1.229517 -0.158546  1.498934"
      ]
     },
     "execution_count": 112,
     "metadata": {},
     "output_type": "execute_result"
    }
   ],
   "source": [
    "df1.sort_values(by='col3',kind='quicksort')"
   ]
  },
  {
   "cell_type": "code",
   "execution_count": 123,
   "metadata": {},
   "outputs": [
    {
     "name": "stdout",
     "output_type": "stream",
     "text": [
      "0             tom \n",
      "1     william rick\n",
      "2             john\n",
      "3          alber@t\n",
      "dtype: object\n",
      "0             TOM \n",
      "1     WILLIAM RICK\n",
      "2             JOHN\n",
      "3          ALBER@T\n",
      "dtype: object\n",
      "0     4\n",
      "1    13\n",
      "2     4\n",
      "3     7\n",
      "dtype: int64\n",
      "0             Tom\n",
      "1    William Rick\n",
      "2            John\n",
      "3         Alber@t\n",
      "dtype: object\n",
      "0                               [, T, o, m,  , ]\n",
      "1    [,  , W, i, l, l, i, a, m,  , R, i, c, k, ]\n",
      "2                               [, J, o, h, n, ]\n",
      "3                      [, A, l, b, e, r, @, t, ]\n",
      "dtype: object\n",
      "Tom _ William Rick_John_Alber@t\n"
     ]
    }
   ],
   "source": [
    "#python string functions\n",
    "s = pd.Series(['Tom ', ' William Rick', 'John', 'Alber@t'])\n",
    "print(s.str.lower())\n",
    "print(s.str.upper())\n",
    "print(s.str.len())\n",
    "print(s.str.strip())\n",
    "print(s.str.split(''))\n",
    "print(s.str.cat(sep='_'))"
   ]
  },
  {
   "cell_type": "code",
   "execution_count": 124,
   "metadata": {},
   "outputs": [
    {
     "name": "stdout",
     "output_type": "stream",
     "text": [
      "    William Rick  Alber@t  John  Tom \n",
      "0              0        0     0     1\n",
      "1              1        0     0     0\n",
      "2              0        0     1     0\n",
      "3              0        1     0     0\n"
     ]
    }
   ],
   "source": [
    "print(s.str.get_dummies())"
   ]
  },
  {
   "cell_type": "code",
   "execution_count": 126,
   "metadata": {},
   "outputs": [
    {
     "name": "stdout",
     "output_type": "stream",
     "text": [
      "0    False\n",
      "1    False\n",
      "2    False\n",
      "3     True\n",
      "dtype: bool\n"
     ]
    }
   ],
   "source": [
    "print(s.str.contains('@'))"
   ]
  },
  {
   "cell_type": "code",
   "execution_count": 129,
   "metadata": {},
   "outputs": [
    {
     "name": "stdout",
     "output_type": "stream",
     "text": [
      "0             Tom \n",
      "1     William Rick\n",
      "2             John\n",
      "3          Alber$t\n",
      "dtype: object\n"
     ]
    }
   ],
   "source": [
    "print(s.str.replace('@','$'))"
   ]
  },
  {
   "cell_type": "code",
   "execution_count": 132,
   "metadata": {},
   "outputs": [
    {
     "name": "stdout",
     "output_type": "stream",
     "text": [
      "0                               Tom Tom Tom \n",
      "1     William Rick William Rick William Rick\n",
      "2                               JohnJohnJohn\n",
      "3                      Alber@tAlber@tAlber@t\n",
      "dtype: object\n"
     ]
    }
   ],
   "source": [
    "print(s.str.repeat(3))"
   ]
  },
  {
   "cell_type": "code",
   "execution_count": 134,
   "metadata": {},
   "outputs": [
    {
     "name": "stdout",
     "output_type": "stream",
     "text": [
      "0    1\n",
      "1    1\n",
      "2    0\n",
      "3    0\n",
      "dtype: int64\n"
     ]
    }
   ],
   "source": [
    "print(s.str.count('m'))"
   ]
  },
  {
   "cell_type": "code",
   "execution_count": 135,
   "metadata": {},
   "outputs": [
    {
     "name": "stdout",
     "output_type": "stream",
     "text": [
      "0     True\n",
      "1    False\n",
      "2    False\n",
      "3    False\n",
      "dtype: bool\n"
     ]
    }
   ],
   "source": [
    "print(s.str.startswith('T'))"
   ]
  },
  {
   "cell_type": "code",
   "execution_count": 136,
   "metadata": {},
   "outputs": [
    {
     "name": "stdout",
     "output_type": "stream",
     "text": [
      "0    False\n",
      "1    False\n",
      "2    False\n",
      "3    False\n",
      "dtype: bool\n"
     ]
    }
   ],
   "source": [
    "print(s.str.endswith('e'))"
   ]
  },
  {
   "cell_type": "code",
   "execution_count": 137,
   "metadata": {},
   "outputs": [
    {
     "name": "stdout",
     "output_type": "stream",
     "text": [
      "0   -1\n",
      "1   -1\n",
      "2   -1\n",
      "3    5\n",
      "dtype: int64\n"
     ]
    }
   ],
   "source": [
    "print(s.str.find('@'))"
   ]
  },
  {
   "cell_type": "code",
   "execution_count": 138,
   "metadata": {},
   "outputs": [
    {
     "name": "stdout",
     "output_type": "stream",
     "text": [
      "0     []\n",
      "1     []\n",
      "2     []\n",
      "3    [@]\n",
      "dtype: object\n"
     ]
    }
   ],
   "source": [
    "print(s.str.findall('@'))"
   ]
  },
  {
   "cell_type": "code",
   "execution_count": 139,
   "metadata": {},
   "outputs": [
    {
     "name": "stdout",
     "output_type": "stream",
     "text": [
      "0    False\n",
      "1    False\n",
      "2    False\n",
      "3    False\n",
      "dtype: bool\n"
     ]
    }
   ],
   "source": [
    "print (s.str.islower())"
   ]
  },
  {
   "cell_type": "code",
   "execution_count": 141,
   "metadata": {},
   "outputs": [
    {
     "name": "stdout",
     "output_type": "stream",
     "text": [
      "0             TOM \n",
      "1     WILLIAM RICK\n",
      "2             JOHN\n",
      "3          ALBER@T\n",
      "dtype: object\n"
     ]
    }
   ],
   "source": [
    "print (s.str.upper())"
   ]
  },
  {
   "cell_type": "code",
   "execution_count": 142,
   "metadata": {},
   "outputs": [
    {
     "name": "stdout",
     "output_type": "stream",
     "text": [
      "0    False\n",
      "1    False\n",
      "2    False\n",
      "3    False\n",
      "dtype: bool\n"
     ]
    }
   ],
   "source": [
    "print (s.str.isnumeric())"
   ]
  },
  {
   "cell_type": "code",
   "execution_count": 144,
   "metadata": {},
   "outputs": [
    {
     "name": "stdout",
     "output_type": "stream",
     "text": [
      "60\n"
     ]
    }
   ],
   "source": [
    "print(pd.get_option(\"display.max_rows\"))"
   ]
  },
  {
   "cell_type": "code",
   "execution_count": 146,
   "metadata": {},
   "outputs": [
    {
     "name": "stdout",
     "output_type": "stream",
     "text": [
      "None\n"
     ]
    }
   ],
   "source": [
    "print(pd.reset_option(\"display.max_rows\"))"
   ]
  },
  {
   "cell_type": "code",
   "execution_count": 148,
   "metadata": {},
   "outputs": [
    {
     "name": "stdout",
     "output_type": "stream",
     "text": [
      "display.max_rows : int\n",
      "    If max_rows is exceeded, switch to truncate view. Depending on\n",
      "    `large_repr`, objects are either centrally truncated or printed as\n",
      "    a summary view. 'None' value means unlimited.\n",
      "\n",
      "    In case python/IPython is running in a terminal and `large_repr`\n",
      "    equals 'truncate' this can be set to 0 and pandas will auto-detect\n",
      "    the height of the terminal and print a truncated object which fits\n",
      "    the screen height. The IPython notebook, IPython qtconsole, or\n",
      "    IDLE do not run in a terminal and hence it is not possible to do\n",
      "    correct auto-detection.\n",
      "    [default: 60] [currently: 60]\n"
     ]
    }
   ],
   "source": [
    "pd.describe_option(\"display.max_rows\")"
   ]
  },
  {
   "cell_type": "code",
   "execution_count": 152,
   "metadata": {},
   "outputs": [
    {
     "ename": "AttributeError",
     "evalue": "'function' object has no attribute 'expand_frame_repr'",
     "output_type": "error",
     "traceback": [
      "\u001b[1;31m---------------------------------------------------------------------------\u001b[0m",
      "\u001b[1;31mAttributeError\u001b[0m                            Traceback (most recent call last)",
      "\u001b[1;32m<ipython-input-152-bcc22fc66b11>\u001b[0m in \u001b[0;36m<module>\u001b[1;34m\u001b[0m\n\u001b[1;32m----> 1\u001b[1;33m \u001b[0mpd\u001b[0m\u001b[1;33m.\u001b[0m\u001b[0mget_option\u001b[0m\u001b[1;33m(\u001b[0m\u001b[0mdisplay\u001b[0m\u001b[1;33m.\u001b[0m\u001b[0mexpand_frame_repr\u001b[0m\u001b[1;33m(\u001b[0m\u001b[0mdf\u001b[0m\u001b[1;33m)\u001b[0m\u001b[1;33m)\u001b[0m\u001b[1;33m\u001b[0m\u001b[1;33m\u001b[0m\u001b[0m\n\u001b[0m",
      "\u001b[1;31mAttributeError\u001b[0m: 'function' object has no attribute 'expand_frame_repr'"
     ]
    }
   ],
   "source": [
    "pd.get_option(display.expand_frame_repr(df))"
   ]
  },
  {
   "cell_type": "code",
   "execution_count": 154,
   "metadata": {},
   "outputs": [
    {
     "name": "stdout",
     "output_type": "stream",
     "text": [
      "          0         1\n",
      "0       NaN       NaN\n",
      "1 -1.330288 -1.324481\n",
      "2 -2.322667 -2.628244\n",
      "3 -1.516613  1.560254\n",
      "4 -2.368797 -1.183053\n"
     ]
    }
   ],
   "source": [
    "df = pd.DataFrame(np.random.randn(5, 2))\n",
    "print (df.pct_change())"
   ]
  },
  {
   "cell_type": "code",
   "execution_count": 155,
   "metadata": {},
   "outputs": [
    {
     "name": "stdout",
     "output_type": "stream",
     "text": [
      "   id    Name subject_id\n",
      "0   1    Alex       sub1\n",
      "1   2     Amy       sub2\n",
      "2   3   Allen       sub4\n",
      "3   4   Alice       sub6\n",
      "4   5  Ayoung       sub5\n",
      "   id   Name subject_id\n",
      "0   1  Billy       sub2\n",
      "1   2  Brian       sub4\n",
      "2   3   Bran       sub3\n",
      "3   4  Bryce       sub6\n",
      "4   5  Betty       sub5\n"
     ]
    }
   ],
   "source": [
    "left = pd.DataFrame({\n",
    "   'id':[1,2,3,4,5],\n",
    "   'Name': ['Alex', 'Amy', 'Allen', 'Alice', 'Ayoung'],\n",
    "   'subject_id':['sub1','sub2','sub4','sub6','sub5']})\n",
    "right = pd.DataFrame(\n",
    "   {'id':[1,2,3,4,5],\n",
    "   'Name': ['Billy', 'Brian', 'Bran', 'Bryce', 'Betty'],\n",
    "   'subject_id':['sub2','sub4','sub3','sub6','sub5']})\n",
    "print (left)\n",
    "print (right)"
   ]
  },
  {
   "cell_type": "code",
   "execution_count": 160,
   "metadata": {},
   "outputs": [
    {
     "name": "stdout",
     "output_type": "stream",
     "text": [
      "   id  Name_x subject_id_x Name_y subject_id_y\n",
      "0   1    Alex         sub1  Billy         sub2\n",
      "1   2     Amy         sub2  Brian         sub4\n",
      "2   3   Allen         sub4   Bran         sub3\n",
      "3   4   Alice         sub6  Bryce         sub6\n",
      "4   5  Ayoung         sub5  Betty         sub5\n"
     ]
    }
   ],
   "source": [
    "print(pd.merge(left,right,on='id'))"
   ]
  },
  {
   "cell_type": "code",
   "execution_count": 161,
   "metadata": {},
   "outputs": [
    {
     "name": "stdout",
     "output_type": "stream",
     "text": [
      "   id  Name_x subject_id Name_y\n",
      "0   4   Alice       sub6  Bryce\n",
      "1   5  Ayoung       sub5  Betty\n"
     ]
    }
   ],
   "source": [
    "print(pd.merge(left,right,on=['id','subject_id']))"
   ]
  },
  {
   "cell_type": "code",
   "execution_count": 163,
   "metadata": {},
   "outputs": [
    {
     "name": "stdout",
     "output_type": "stream",
     "text": [
      "   id_x  Name_x subject_id  id_y Name_y\n",
      "0     1    Alex       sub1   NaN    NaN\n",
      "1     2     Amy       sub2   1.0  Billy\n",
      "2     3   Allen       sub4   2.0  Brian\n",
      "3     4   Alice       sub6   4.0  Bryce\n",
      "4     5  Ayoung       sub5   5.0  Betty\n"
     ]
    }
   ],
   "source": [
    "print(pd.merge(left,right,on='subject_id',how='left'))"
   ]
  },
  {
   "cell_type": "code",
   "execution_count": 164,
   "metadata": {},
   "outputs": [
    {
     "name": "stdout",
     "output_type": "stream",
     "text": [
      "   id_x  Name_x subject_id  id_y Name_y\n",
      "0   2.0     Amy       sub2     1  Billy\n",
      "1   3.0   Allen       sub4     2  Brian\n",
      "2   4.0   Alice       sub6     4  Bryce\n",
      "3   5.0  Ayoung       sub5     5  Betty\n",
      "4   NaN     NaN       sub3     3   Bran\n"
     ]
    }
   ],
   "source": [
    "print(pd.merge(left,right,on='subject_id',how='right'))"
   ]
  },
  {
   "cell_type": "code",
   "execution_count": 165,
   "metadata": {},
   "outputs": [
    {
     "name": "stdout",
     "output_type": "stream",
     "text": [
      "   id_x  Name_x subject_id  id_y Name_y\n",
      "0   1.0    Alex       sub1   NaN    NaN\n",
      "1   2.0     Amy       sub2   1.0  Billy\n",
      "2   3.0   Allen       sub4   2.0  Brian\n",
      "3   4.0   Alice       sub6   4.0  Bryce\n",
      "4   5.0  Ayoung       sub5   5.0  Betty\n",
      "5   NaN     NaN       sub3   3.0   Bran\n"
     ]
    }
   ],
   "source": [
    "print(pd.merge(left,right,on='subject_id',how='outer'))"
   ]
  },
  {
   "cell_type": "code",
   "execution_count": 166,
   "metadata": {},
   "outputs": [
    {
     "name": "stdout",
     "output_type": "stream",
     "text": [
      "   id_x  Name_x subject_id  id_y Name_y\n",
      "0     2     Amy       sub2     1  Billy\n",
      "1     3   Allen       sub4     2  Brian\n",
      "2     4   Alice       sub6     4  Bryce\n",
      "3     5  Ayoung       sub5     5  Betty\n"
     ]
    }
   ],
   "source": [
    "print(pd.merge(left,right,on='subject_id',how='inner'))"
   ]
  },
  {
   "cell_type": "code",
   "execution_count": 167,
   "metadata": {},
   "outputs": [
    {
     "name": "stdout",
     "output_type": "stream",
     "text": [
      "2020-12-26 20:11:02.990734\n"
     ]
    },
    {
     "name": "stderr",
     "output_type": "stream",
     "text": [
      "C:\\Anaconda\\lib\\site-packages\\ipykernel_launcher.py:1: FutureWarning: The pandas.datetime class is deprecated and will be removed from pandas in a future version. Import from datetime module instead.\n",
      "  \"\"\"Entry point for launching an IPython kernel.\n"
     ]
    }
   ],
   "source": [
    "print(pd.datetime.now())"
   ]
  },
  {
   "cell_type": "code",
   "execution_count": 170,
   "metadata": {},
   "outputs": [
    {
     "name": "stdout",
     "output_type": "stream",
     "text": [
      "2020-02-10 00:00:00\n"
     ]
    }
   ],
   "source": [
    "print(pd.Timestamp('2020-02-10'))"
   ]
  },
  {
   "cell_type": "code",
   "execution_count": 171,
   "metadata": {},
   "outputs": [
    {
     "name": "stdout",
     "output_type": "stream",
     "text": [
      "2020-04-24 00:14:15\n"
     ]
    }
   ],
   "source": [
    "print(pd.Timestamp(1587687255,unit='s'))"
   ]
  },
  {
   "cell_type": "code",
   "execution_count": 172,
   "metadata": {},
   "outputs": [
    {
     "name": "stdout",
     "output_type": "stream",
     "text": [
      "[datetime.time(11, 0) datetime.time(11, 30) datetime.time(12, 0)\n",
      " datetime.time(12, 30) datetime.time(13, 0) datetime.time(13, 30)]\n"
     ]
    }
   ],
   "source": [
    "print(pd.date_range(\"11:00\", \"13:30\", freq=\"30min\").time)"
   ]
  },
  {
   "cell_type": "code",
   "execution_count": 175,
   "metadata": {},
   "outputs": [
    {
     "name": "stdout",
     "output_type": "stream",
     "text": [
      "[datetime.time(11, 0) datetime.time(12, 0) datetime.time(13, 0)]\n"
     ]
    }
   ],
   "source": [
    "print(pd.date_range(\"11:00\", \"13:30\", freq=\"H\").time)"
   ]
  },
  {
   "cell_type": "code",
   "execution_count": 176,
   "metadata": {},
   "outputs": [
    {
     "name": "stdout",
     "output_type": "stream",
     "text": [
      "DatetimeIndex(['2005-11-23', '2010-12-31', 'NaT'], dtype='datetime64[ns]', freq=None)\n"
     ]
    }
   ],
   "source": [
    "print(pd.to_datetime(['2005/11/23', '2010.12.31', None]))"
   ]
  },
  {
   "cell_type": "code",
   "execution_count": 177,
   "metadata": {},
   "outputs": [
    {
     "name": "stdout",
     "output_type": "stream",
     "text": [
      "DatetimeIndex(['2011-01-01', '2011-01-02', '2011-01-03', '2011-01-04',\n",
      "               '2011-01-05'],\n",
      "              dtype='datetime64[ns]', freq='D')\n"
     ]
    }
   ],
   "source": [
    "print(pd.date_range('1/1/2011', periods=5))"
   ]
  },
  {
   "cell_type": "code",
   "execution_count": 179,
   "metadata": {},
   "outputs": [
    {
     "data": {
      "text/plain": [
       "Timedelta('2 days 03:15:30')"
      ]
     },
     "execution_count": 179,
     "metadata": {},
     "output_type": "execute_result"
    }
   ],
   "source": [
    "pd.Timedelta('2 days 3 hours 15 minutes 30 seconds')"
   ]
  },
  {
   "cell_type": "code",
   "execution_count": 185,
   "metadata": {},
   "outputs": [
    {
     "data": {
      "text/plain": [
       "Timedelta('5 days 00:00:00')"
      ]
     },
     "execution_count": 185,
     "metadata": {},
     "output_type": "execute_result"
    }
   ],
   "source": [
    "pd.Timedelta(days=5,unit='m')"
   ]
  },
  {
   "cell_type": "code",
   "execution_count": 187,
   "metadata": {},
   "outputs": [
    {
     "data": {
      "text/plain": [
       "<matplotlib.axes._subplots.AxesSubplot at 0x26ad145a048>"
      ]
     },
     "execution_count": 187,
     "metadata": {},
     "output_type": "execute_result"
    },
    {
     "data": {
      "image/png": "[encoded data removed]",
      "text/plain": [
       "<Figure size 432x288 with 1 Axes>"
      ]
     },
     "metadata": {
      "needs_background": "light"
     },
     "output_type": "display_data"
    }
   ],
   "source": [
    "df = pd.DataFrame(np.random.rand(10,4),columns=['a','b','c','d'])\n",
    "df.plot.bar(stacked=True)\n"
   ]
  },
  {
   "cell_type": "code",
   "execution_count": null,
   "metadata": {},
   "outputs": [],
   "source": []
  }
 ],
 "metadata": {
  "kernelspec": {
   "display_name": "Python 3",
   "language": "python",
   "name": "python3"
  },
  "language_info": {
   "codemirror_mode": {
    "name": "ipython",
    "version": 3
   },
   "file_extension": ".py",
   "mimetype": "text/x-python",
   "name": "python",
   "nbconvert_exporter": "python",
   "pygments_lexer": "ipython3",
   "version": "3.7.6"
  }
 },
 "nbformat": 4,
 "nbformat_minor": 4
}
