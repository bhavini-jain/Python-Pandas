{
 "cells": [
  {
   "cell_type": "code",
   "execution_count": 1,
   "metadata": {},
   "outputs": [
    {
     "name": "stdout",
     "output_type": "stream",
     "text": [
      "Initial stack\n",
      "['a', 'b', 'c'] \n",
      "\n",
      "elements poped\n",
      "c\n",
      "b\n",
      "a\n",
      "\n",
      "Stack after elements are poped:\n",
      "[]\n"
     ]
    }
   ],
   "source": [
    "##Q1.Stack Implementation\n",
    "stack = []\n",
    "stack.append('a') \n",
    "stack.append('b') \n",
    "stack.append('c') \n",
    "  \n",
    "print('Initial stack') \n",
    "print(stack,'\\n') \n",
    "print(\"elements poped\")\n",
    "print(stack.pop()) \n",
    "print(stack.pop()) \n",
    "print(stack.pop()) \n",
    "  \n",
    "print('\\nStack after elements are poped:') \n",
    "print(stack)"
   ]
  },
  {
   "cell_type": "code",
   "execution_count": 2,
   "metadata": {},
   "outputs": [
    {
     "name": "stdout",
     "output_type": "stream",
     "text": [
      "Initial queue\n",
      "['a', 'b', 'c']\n",
      "\n",
      "Elements dequeued from queue\n",
      "a\n",
      "b\n",
      "c\n",
      "\n",
      "Queue after removing elements\n",
      "[]\n"
     ]
    }
   ],
   "source": [
    "##Q2. Queue Implementation\n",
    "queue = [] \n",
    "queue.append('a') \n",
    "queue.append('b') \n",
    "queue.append('c') \n",
    "  \n",
    "print(\"Initial queue\") \n",
    "print(queue)  \n",
    "print(\"\\nElements dequeued from queue\") \n",
    "print(queue.pop(0)) \n",
    "print(queue.pop(0)) \n",
    "print(queue.pop(0)) \n",
    "print(\"\\nQueue after removing elements\") \n",
    "print(queue) "
   ]
  },
  {
   "cell_type": "code",
   "execution_count": 3,
   "metadata": {},
   "outputs": [
    {
     "name": "stdout",
     "output_type": "stream",
     "text": [
      "enter your number4561378\n",
      "last two numbers are: 78\n"
     ]
    }
   ],
   "source": [
    "##Q3. to get last two no.s\n",
    "number=input(str(\"enter your number\"))\n",
    "length=len(number)\n",
    "res=number[length-2:length]\n",
    "print(\"last two numbers are:\",res)\n",
    "\n"
   ]
  },
  {
   "cell_type": "code",
   "execution_count": 5,
   "metadata": {},
   "outputs": [
    {
     "name": "stdout",
     "output_type": "stream",
     "text": [
      "20\n",
      "40\n",
      "60\n"
     ]
    }
   ],
   "source": [
    "##Q4. program to fetch odd number indices of list \n",
    "list=[10,20,30,40,50,60,70]\n",
    "range(1, len(list), 2)\n",
    "for i in range(len(list)) :\n",
    "    if i % 2 == 1:\n",
    "        print(list[i])\n",
    "        \n",
    "    \n"
   ]
  },
  {
   "cell_type": "code",
   "execution_count": 5,
   "metadata": {},
   "outputs": [
    {
     "name": "stdout",
     "output_type": "stream",
     "text": [
      "Show the multiplication table of? 4\n",
      "4 x 1 = 4\n",
      "4 x 2 = 8\n",
      "4 x 3 = 12\n",
      "4 x 4 = 16\n",
      "4 x 5 = 20\n",
      "4 x 6 = 24\n",
      "4 x 7 = 28\n",
      "4 x 8 = 32\n",
      "4 x 9 = 36\n",
      "4 x 10 = 40\n"
     ]
    }
   ],
   "source": [
    "##Q5. program to print table of given no. in python\n",
    "num = int(input(\"Show the multiplication table of? \"))     \n",
    "for i in range(1,11):  \n",
    "   print(num,'x',i,'=',num*i)  "
   ]
  },
  {
   "cell_type": "code",
   "execution_count": 6,
   "metadata": {},
   "outputs": [
    {
     "name": "stdout",
     "output_type": "stream",
     "text": [
      "Enter a number:145\n",
      "The sum of digits is= 10\n"
     ]
    }
   ],
   "source": [
    "##Q6. Print sum of digitd of number\n",
    "n=int(input(\"Enter a number:\"))\n",
    "sum=0\n",
    "while(n>0):\n",
    "    digit=n%10\n",
    "    sum=sum+digit\n",
    "    n=n//10\n",
    "print(\"The sum of digits is=\",sum)"
   ]
  },
  {
   "cell_type": "code",
   "execution_count": 13,
   "metadata": {},
   "outputs": [
    {
     "name": "stdout",
     "output_type": "stream",
     "text": [
      " 2   3   5   7   11   13   17   19   23   29   31   37   41   43   47   53   59   61   67   71   73   79   83   89   97  "
     ]
    }
   ],
   "source": [
    "##Q7. Python Program to print Prime Numbers from 1 to 100\n",
    "for Number in range (1, 101):\n",
    "    count = 0\n",
    "    for i in range(2, (Number//2 + 1)):\n",
    "        if(Number % i == 0):\n",
    "            count = count + 1\n",
    "            break\n",
    "\n",
    "    if (count == 0 and Number != 1):\n",
    "        print(\" %d\" %Number, end = '  ')"
   ]
  },
  {
   "cell_type": "code",
   "execution_count": 9,
   "metadata": {},
   "outputs": [
    {
     "name": "stdout",
     "output_type": "stream",
     "text": [
      " Please Enter any Number: 6\n",
      " is a Perfect Number 6\n"
     ]
    }
   ],
   "source": [
    "##Q8. ckeck no is perfect\n",
    "Number = int(input(\" Please Enter any Number: \"))\n",
    "Sum = 0\n",
    "for i in range(1, Number):\n",
    "    if(Number % i == 0):\n",
    "        Sum = Sum + i\n",
    "if (Sum == Number):\n",
    "    print(\" is a Perfect Number\",Number)\n",
    "else:\n",
    "    print(\" is not a Perfect Number\",Number)"
   ]
  },
  {
   "cell_type": "code",
   "execution_count": 7,
   "metadata": {},
   "outputs": [
    {
     "data": {
      "text/plain": [
       "30"
      ]
     },
     "execution_count": 7,
     "metadata": {},
     "output_type": "execute_result"
    }
   ],
   "source": [
    "# Python program to find the largest   \n",
    "def maximum(a, b, c): \n",
    "  \n",
    "    if (a >= b) and (a >= c): \n",
    "        largest = a \n",
    "  \n",
    "    elif (b >= a) and (b >= c): \n",
    "        largest = b \n",
    "    else: \n",
    "        largest = c \n",
    "          \n",
    "    return largest \n",
    "maximum(10,30,5)\n",
    "  "
   ]
  },
  {
   "cell_type": "code",
   "execution_count": 18,
   "metadata": {},
   "outputs": [
    {
     "name": "stdout",
     "output_type": "stream",
     "text": [
      "sdrawkcab ekil skool txet siht woh rednow I\n"
     ]
    }
   ],
   "source": [
    "##print reverse of line\n",
    "def my_function(x):\n",
    "  return x[::-1]\n",
    "\n",
    "mytxt = my_function(\"I wonder how this text looks like backwards\")\n",
    "\n",
    "print(mytxt)\n"
   ]
  },
  {
   "cell_type": "code",
   "execution_count": 11,
   "metadata": {},
   "outputs": [
    {
     "name": "stdout",
     "output_type": "stream",
     "text": [
      "Original String :  HEY I am using Python\n",
      "No. of Upper case characters :  5\n",
      "No. of Lower case Characters :  12\n"
     ]
    }
   ],
   "source": [
    "def string_test(s):\n",
    "    d={\"UPPER_CASE\":0, \"LOWER_CASE\":0}\n",
    "    for i in s:\n",
    "        if i.isupper():\n",
    "           d[\"UPPER_CASE\"]+=1\n",
    "        elif i.islower():\n",
    "           d[\"LOWER_CASE\"]+=1\n",
    "        else:\n",
    "           pass\n",
    "    print (\"Original String : \", s)\n",
    "    print (\"No. of Upper case characters : \", d[\"UPPER_CASE\"])\n",
    "    print (\"No. of Lower case Characters : \", d[\"LOWER_CASE\"])\n",
    "\n",
    "string_test('HEY I am using Python')"
   ]
  },
  {
   "cell_type": "code",
   "execution_count": 15,
   "metadata": {},
   "outputs": [
    {
     "name": "stdout",
     "output_type": "stream",
     "text": [
      "[1, 2, 3, 4, 5, 6, 8, 7]\n"
     ]
    }
   ],
   "source": [
    "##leave repeted ones\n",
    "def unique_list(l):\n",
    "  x = []\n",
    "  for i in l:\n",
    "    if i not in x:\n",
    "      x.append(i)\n",
    "  return x\n",
    "\n",
    "print(unique_list([1,2,3,3,3,3,4,5,5,6,4,8,8,8,1,1,2,7])) \n"
   ]
  },
  {
   "cell_type": "code",
   "execution_count": 20,
   "metadata": {},
   "outputs": [
    {
     "name": "stdout",
     "output_type": "stream",
     "text": [
      "10\n"
     ]
    }
   ],
   "source": [
    "x=10\n",
    "def hello(x):\n",
    "    x=x+10\n",
    "    print(x)\n",
    "    print(x)\n",
    "print(x)    "
   ]
  },
  {
   "cell_type": "code",
   "execution_count": 25,
   "metadata": {},
   "outputs": [
    {
     "name": "stdout",
     "output_type": "stream",
     "text": [
      "hello\n",
      "hello\n"
     ]
    }
   ],
   "source": [
    "def first():\n",
    "    print(\"hello\")\n",
    "first()\n",
    "second=first\n",
    "second()"
   ]
  },
  {
   "cell_type": "code",
   "execution_count": 22,
   "metadata": {},
   "outputs": [
    {
     "data": {
      "text/plain": [
       "True"
      ]
     },
     "execution_count": 22,
     "metadata": {},
     "output_type": "execute_result"
    }
   ],
   "source": [
    " second == first"
   ]
  },
  {
   "cell_type": "code",
   "execution_count": 36,
   "metadata": {},
   "outputs": [
    {
     "name": "stdout",
     "output_type": "stream",
     "text": [
      "enter no for test5\n",
      "upto how much3\n",
      "5+55+555+= 615\n"
     ]
    }
   ],
   "source": [
    "def sum_of_series(x,y):\n",
    "    sum=0\n",
    "    new = x\n",
    "    for i in range(y):\n",
    "        sum+=new \n",
    "        print(new,end=\"+\")\n",
    "        new = new * 10 + x\n",
    "        \n",
    "    print(\"=\",sum)    \n",
    "    \n",
    "    \n",
    "n=int(input(\"enter no for test\")) ##5+55+555+5555=\n",
    "m=int(input(\"upto how much\"))\n",
    "sum_of_series(n,m)     \n"
   ]
  },
  {
   "cell_type": "code",
   "execution_count": 24,
   "metadata": {},
   "outputs": [
    {
     "name": "stdout",
     "output_type": "stream",
     "text": [
      "615\n"
     ]
    }
   ],
   "source": [
    "n, m = 5, 3\n",
    "## initializing change variable to n\n",
    "change = n\n",
    "## initializing sum to 0\n",
    "s = 0\n",
    "## loop\n",
    "for i in range(m):\n",
    "   ## adding change to s\n",
    "   s += change\n",
    "   ## updating the value of change\n",
    "   change = change * 10 + n\n",
    "## printing the s\n",
    "print(s)"
   ]
  },
  {
   "cell_type": "code",
   "execution_count": null,
   "metadata": {},
   "outputs": [],
   "source": []
  },
  {
   "cell_type": "code",
   "execution_count": null,
   "metadata": {},
   "outputs": [],
   "source": []
  }
 ],
 "metadata": {
  "kernelspec": {
   "display_name": "Python 3",
   "language": "python",
   "name": "python3"
  },
  "language_info": {
   "codemirror_mode": {
    "name": "ipython",
    "version": 3
   },
   "file_extension": ".py",
   "mimetype": "text/x-python",
   "name": "python",
   "nbconvert_exporter": "python",
   "pygments_lexer": "ipython3",
   "version": "3.7.6"
  }
 },
 "nbformat": 4,
 "nbformat_minor": 4
}
